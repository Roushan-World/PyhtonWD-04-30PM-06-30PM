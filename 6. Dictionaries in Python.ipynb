{
 "cells": [
  {
   "cell_type": "markdown",
   "id": "31827788",
   "metadata": {},
   "source": [
    "# Dictionaries in Python"
   ]
  },
  {
   "cell_type": "markdown",
   "id": "20b0eb93",
   "metadata": {},
   "source": [
    "* Dictionaries are used to store data values in Key:Value pairs.\n",
    "* A dictionary is a collection which is ordered, changable or mutable and do not allow duplicates.\n",
    "* Dictionary items are ordered, changable and does not allow duplicates.\n",
    "* Dictionary items are presented in key:Values pairs, and can be referred to by using key name.\n",
    "* Dictionary are changable, meaning that we can change, add or remove items after the dictionary has been\n",
    "* Created.\n",
    "* Dictionaries can not have two items with the same key.\n",
    "* A dictionary can nested and can contains another dictionary."
   ]
  },
  {
   "cell_type": "markdown",
   "id": "e7ea349c",
   "metadata": {},
   "source": [
    "* Keys --------------------> Values\n",
    "* 'name'-------------------->'Bob'\n",
    "* 'age'-------------------->'25'\n",
    "* 'Job'--------------------->'Dev'\n",
    "* 'city'-------------------->'New York'\n",
    "* 'E-mail'----------------->'bob@web.com'\n"
   ]
  },
  {
   "cell_type": "code",
   "execution_count": 16,
   "id": "263a9ed3",
   "metadata": {},
   "outputs": [
    {
     "data": {
      "text/plain": [
       "{'key_1': 3.147,\n",
       " 'key_2': 1.618,\n",
       " 'key_3': True,\n",
       " 'key_4': [3.147, 1.618, 3.147],\n",
       " 'key_5': (3.147, 1.618),\n",
       " 'key_6': 2023,\n",
       " 'key_7': (3.147, 1.618)}"
      ]
     },
     "execution_count": 16,
     "metadata": {},
     "output_type": "execute_result"
    }
   ],
   "source": [
    "# Take a sample dictionary\n",
    "\n",
    "sample_dict={'key_1':3.147,'key_2':1.618,'key_1':3.147,\n",
    "            'key_3':True,'key_4':[3.147,1.618,3.147],\n",
    "            'key_5':(3.147,1.618),'key_6':2023,'key_7':(3.147,1.618)}\n",
    "sample_dict"
   ]
  },
  {
   "cell_type": "code",
   "execution_count": 17,
   "id": "e0e43553",
   "metadata": {},
   "outputs": [
    {
     "name": "stdout",
     "output_type": "stream",
     "text": [
      "3.147\n",
      "1.618\n",
      "True\n",
      "[3.147, 1.618, 3.147]\n",
      "(3.147, 1.618)\n",
      "2023\n",
      "(3.147, 1.618)\n"
     ]
    }
   ],
   "source": [
    "print(sample_dict['key_1'])\n",
    "print(sample_dict['key_2'])\n",
    "print(sample_dict['key_3'])\n",
    "print(sample_dict['key_4']) \n",
    "print(sample_dict['key_5'])\n",
    "print(sample_dict['key_6'])\n",
    "print(sample_dict['key_7'])"
   ]
  },
  {
   "cell_type": "code",
   "execution_count": 18,
   "id": "aa5d6ace",
   "metadata": {},
   "outputs": [
    {
     "data": {
      "text/plain": [
       "dict_keys(['key_1', 'key_2', 'key_3', 'key_4', 'key_5', 'key_6', 'key_7'])"
      ]
     },
     "execution_count": 18,
     "metadata": {},
     "output_type": "execute_result"
    }
   ],
   "source": [
    "# How to check keys in your dictionary?\n",
    "sample_dict.keys()"
   ]
  },
  {
   "cell_type": "code",
   "execution_count": 19,
   "id": "2e15c5ce",
   "metadata": {},
   "outputs": [
    {
     "data": {
      "text/plain": [
       "dict_values([3.147, 1.618, True, [3.147, 1.618, 3.147], (3.147, 1.618), 2023, (3.147, 1.618)])"
      ]
     },
     "execution_count": 19,
     "metadata": {},
     "output_type": "execute_result"
    }
   ],
   "source": [
    "sample_dict.values()"
   ]
  },
  {
   "cell_type": "code",
   "execution_count": 23,
   "id": "ce8bc1fe",
   "metadata": {},
   "outputs": [
    {
     "data": {
      "text/plain": [
       "{'key_1': 3.147,\n",
       " 'key_2': 1.618,\n",
       " 'key_3': True,\n",
       " 'key_4': [3.147, 1.618, 3.147],\n",
       " 'key_5': (3.147, 1.618),\n",
       " 'key_6': 2023,\n",
       " 'key_7': (3.147, 1.618),\n",
       " 3.147: 'Ayush',\n",
       " 'key_8': 'Ayush'}"
      ]
     },
     "execution_count": 23,
     "metadata": {},
     "output_type": "execute_result"
    }
   ],
   "source": [
    "# Addition of new keys and values\n",
    "sample_dict['key_8']='Ayush'\n",
    "sample_dict"
   ]
  },
  {
   "cell_type": "code",
   "execution_count": 27,
   "id": "b167af50",
   "metadata": {},
   "outputs": [
    {
     "data": {
      "text/plain": [
       "{'key_1': 3.147,\n",
       " 'key_2': 1.618,\n",
       " 'key_3': True,\n",
       " 'key_4': [3.147, 1.618, 3.147],\n",
       " 'key_5': (3.147, 1.618),\n",
       " 'key_6': 2023,\n",
       " 'key_7': (3.147, 1.618)}"
      ]
     },
     "execution_count": 27,
     "metadata": {},
     "output_type": "execute_result"
    }
   ],
   "source": [
    "# Deletion of the keys and values\n",
    "del(sample_dict['key_8'])\n",
    "\n",
    "sample_dict"
   ]
  },
  {
   "cell_type": "code",
   "execution_count": 28,
   "id": "c4ef7a45",
   "metadata": {},
   "outputs": [],
   "source": [
    "sample_dict['key_1']='Ayush'"
   ]
  },
  {
   "cell_type": "code",
   "execution_count": 29,
   "id": "3195bf39",
   "metadata": {},
   "outputs": [
    {
     "data": {
      "text/plain": [
       "{'key_1': 'Ayush',\n",
       " 'key_2': 1.618,\n",
       " 'key_3': True,\n",
       " 'key_4': [3.147, 1.618, 3.147],\n",
       " 'key_5': (3.147, 1.618),\n",
       " 'key_6': 2023,\n",
       " 'key_7': (3.147, 1.618)}"
      ]
     },
     "execution_count": 29,
     "metadata": {},
     "output_type": "execute_result"
    }
   ],
   "source": [
    "sample_dict"
   ]
  },
  {
   "cell_type": "markdown",
   "id": "d521c161",
   "metadata": {},
   "source": [
    "# Verification using in or not in"
   ]
  },
  {
   "cell_type": "code",
   "execution_count": 33,
   "id": "b5ad0a24",
   "metadata": {},
   "outputs": [
    {
     "name": "stdout",
     "output_type": "stream",
     "text": [
      "False\n",
      "True\n",
      "False\n"
     ]
    }
   ],
   "source": [
    "print(3.147 in sample_dict)\n",
    "print('key_1' in sample_dict)\n",
    "print('key_1' not in sample_dict)"
   ]
  },
  {
   "cell_type": "code",
   "execution_count": 36,
   "id": "92c65d08",
   "metadata": {},
   "outputs": [
    {
     "data": {
      "text/plain": [
       "{'family': 'music', 'type': 'pop', 'year': 2023, 'name': 'Happy new year'}"
      ]
     },
     "execution_count": 36,
     "metadata": {},
     "output_type": "execute_result"
    }
   ],
   "source": [
    "dict_sample=dict(family='music',type='pop',year=2023,name='Happy new year')\n",
    "dict_sample"
   ]
  },
  {
   "cell_type": "code",
   "execution_count": 39,
   "id": "1c39e0a8",
   "metadata": {},
   "outputs": [
    {
     "name": "stdout",
     "output_type": "stream",
     "text": [
      "{'family': 'music', 'type': 'pop', 'year': 2023, 'name': 'Happy new year'}\n",
      "{'family': 'music', 'type': 'pop', 'year': 2023, 'name': 'Happy new year'}\n"
     ]
    }
   ],
   "source": [
    "#How to copy dictionary in new variable.\n",
    "sample_original=dict(family='music',type='pop',year=2023,name='Happy new year')\n",
    "sample_copy=sample_original\n",
    "print(sample_original)\n",
    "print(sample_copy)"
   ]
  },
  {
   "cell_type": "markdown",
   "id": "577a3c72",
   "metadata": {},
   "source": [
    "# pop() function"
   ]
  },
  {
   "cell_type": "markdown",
   "id": "3230451d",
   "metadata": {},
   "source": [
    "* This function is used to remove a specific item from the dictionary"
   ]
  },
  {
   "cell_type": "code",
   "execution_count": 41,
   "id": "74d05d7d",
   "metadata": {},
   "outputs": [
    {
     "name": "stdout",
     "output_type": "stream",
     "text": [
      "pop\n",
      "{'family': 'music', 'year': 2023, 'name': 'Happy new year'}\n"
     ]
    }
   ],
   "source": [
    "sample_original=dict(family='music',type='pop',year=2023,name='Happy new year')\n",
    "print(sample_original.pop('type'))\n",
    "print(sample_original)\n"
   ]
  },
  {
   "cell_type": "markdown",
   "id": "c226d048",
   "metadata": {},
   "source": [
    "# get() function"
   ]
  },
  {
   "cell_type": "markdown",
   "id": "a03329b3",
   "metadata": {},
   "source": [
    "* This method returns the value for the specific key if it is available in the dictionary. If the key\n",
    "* is not availabe, it returns None."
   ]
  },
  {
   "cell_type": "code",
   "execution_count": 46,
   "id": "8b27e885",
   "metadata": {},
   "outputs": [
    {
     "name": "stdout",
     "output_type": "stream",
     "text": [
      "music\n",
      "None\n",
      "pop\n",
      "2023\n"
     ]
    }
   ],
   "source": [
    "sample_original=dict(family='music',type='pop',year=2023,name='Happy new year')\n",
    "print(sample_original.get('family'))\n",
    "print(sample_original.get(3))\n",
    "print(sample_original.get('type'))\n",
    "print(sample_original.get('year'))"
   ]
  },
  {
   "cell_type": "markdown",
   "id": "815416b1",
   "metadata": {},
   "source": [
    "# fromkeys() function"
   ]
  },
  {
   "cell_type": "markdown",
   "id": "f9f558cf",
   "metadata": {},
   "source": [
    "* It returns a new dictionary with the certain sequence of the item as the keys of the dictionry and the values are assigned with None."
   ]
  },
  {
   "cell_type": "code",
   "execution_count": 50,
   "id": "042bd5e4",
   "metadata": {},
   "outputs": [
    {
     "name": "stdout",
     "output_type": "stream",
     "text": [
      "{'T': None, 'A': None, 'C': None, 'G': None}\n"
     ]
    }
   ],
   "source": [
    "keys={'A','T','C','G'}\n",
    "sequence=dict.fromkeys(keys)\n",
    "print(sequence)"
   ]
  },
  {
   "cell_type": "markdown",
   "id": "1133dff0",
   "metadata": {},
   "source": [
    "# update() function "
   ]
  },
  {
   "cell_type": "markdown",
   "id": "e8d2e11d",
   "metadata": {},
   "source": [
    "* It intergrates a dictionary with another dictionary or with an iterable of key:value pairs."
   ]
  },
  {
   "cell_type": "code",
   "execution_count": 52,
   "id": "33c697f6",
   "metadata": {},
   "outputs": [
    {
     "name": "stdout",
     "output_type": "stream",
     "text": [
      "{'family': 'music', 'type': 'pop', 'year': 2023, 'name': 'Happy new year', 'key_1': 3.147, 'key_2': 1.618, 'key_3': True, 'key_4': [3.147, 1.618, 3.147], 'key_5': (3.147, 1.618), 'key_6': 2023, 'key_7': (3.147, 1.618)}\n"
     ]
    }
   ],
   "source": [
    "product={'family':'music','type':'pop','year':2023,'name':'Happy new year'}\n",
    "sample_dict={'key_1':3.147,'key_2':1.618,'key_1':3.147,\n",
    "            'key_3':True,'key_4':[3.147,1.618,3.147],\n",
    "            'key_5':(3.147,1.618),'key_6':2023,'key_7':(3.147,1.618)}\n",
    "product.update(sample_dict)\n",
    "print(product)"
   ]
  },
  {
   "cell_type": "code",
   "execution_count": null,
   "id": "0818de39",
   "metadata": {},
   "outputs": [],
   "source": []
  }
 ],
 "metadata": {
  "kernelspec": {
   "display_name": "Python 3 (ipykernel)",
   "language": "python",
   "name": "python3"
  },
  "language_info": {
   "codemirror_mode": {
    "name": "ipython",
    "version": 3
   },
   "file_extension": ".py",
   "mimetype": "text/x-python",
   "name": "python",
   "nbconvert_exporter": "python",
   "pygments_lexer": "ipython3",
   "version": "3.9.7"
  }
 },
 "nbformat": 4,
 "nbformat_minor": 5
}
