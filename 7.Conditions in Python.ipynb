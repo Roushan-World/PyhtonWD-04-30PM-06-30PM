{
 "cells": [
  {
   "cell_type": "markdown",
   "id": "684f8f6e",
   "metadata": {},
   "source": [
    "# 7. Conditions in Python"
   ]
  },
  {
   "cell_type": "markdown",
   "id": "b9588327",
   "metadata": {},
   "source": [
    "* Comparison operations compare some value or operand and based on a condition, produce a \n",
    "* Boolean. Python has six comparison operators as below:\n",
    "* Less than(<)\n",
    "* Less then or equal to(<=)\n",
    "* Greater than (>)\n",
    "* Greater than or equal to(>=)\n",
    "* Equal to(==)\n",
    "* Not equal to (!=)"
   ]
  },
  {
   "cell_type": "code",
   "execution_count": 6,
   "id": "c2fb2e01",
   "metadata": {},
   "outputs": [
    {
     "name": "stdout",
     "output_type": "stream",
     "text": [
      "True\n",
      "False\n",
      "True\n",
      "False\n",
      "True\n"
     ]
    }
   ],
   "source": [
    "# Take a variable\n",
    "ratio=1.618\n",
    "\n",
    "# Condition less than\n",
    "print(ratio<2) # The ratio is lower than 2, thus the output is True\n",
    "print(ratio>2) # The ratio is greater than 1, thus the output is False\n",
    "\n",
    "# Less than or equal to\n",
    "print(ratio<=2) # The ratio is less than or equal to 2, thus the output is True\n",
    "print(ratio<=1) # The ratio is less than or equal to 1, thus the output is False\n",
    "print(ratio<=1.618) # The ratio is less than or equal to 1.618, thus output is True"
   ]
  },
  {
   "cell_type": "code",
   "execution_count": 7,
   "id": "2955e891",
   "metadata": {},
   "outputs": [
    {
     "name": "stdout",
     "output_type": "stream",
     "text": [
      "False\n",
      "True\n",
      "False\n",
      "True\n",
      "True\n"
     ]
    }
   ],
   "source": [
    "ratio=1.618\n",
    "\n",
    "# Condition greater than\n",
    "print(ratio>2)\n",
    "print(ratio>1)\n",
    "\n",
    "# Condition greater than or equal to\n",
    "print(ratio>=2)\n",
    "print(ratio>=1)\n",
    "print(ratio==1.618)"
   ]
  },
  {
   "cell_type": "code",
   "execution_count": 11,
   "id": "0883f11c",
   "metadata": {},
   "outputs": [
    {
     "name": "stdout",
     "output_type": "stream",
     "text": [
      "False\n",
      "True\n",
      "True\n",
      "False\n"
     ]
    }
   ],
   "source": [
    "ratio=1.618\n",
    "\n",
    "# Condition equal to\n",
    "\n",
    "print(ratio==2)\n",
    "print(ratio==1.618)\n",
    "print(ratio!=2)\n",
    "print(ratio!=1.618)"
   ]
  },
  {
   "cell_type": "code",
   "execution_count": 14,
   "id": "bb53a734",
   "metadata": {},
   "outputs": [
    {
     "name": "stdout",
     "output_type": "stream",
     "text": [
      "False\n",
      "True\n"
     ]
    }
   ],
   "source": [
    "# compare strings\n",
    "print('Hello'=='Python')\n",
    "print('Hello'!='Python')\n"
   ]
  },
  {
   "cell_type": "markdown",
   "id": "3ac141af",
   "metadata": {},
   "source": [
    "# Branching (if, elif,else)"
   ]
  },
  {
   "cell_type": "markdown",
   "id": "4d5b716b",
   "metadata": {},
   "source": [
    "* Decision making is required when we want to excute a code only if a certain condition is satisfied.\n",
    "* The if/elif/else statement is used in Phthon for decision making.\n",
    "* An else statement can be combined with an if statement.\n",
    "* An else statement contains the block of code that executes if the coditional expression in the if statement resolves to 0 or a False value.\n",
    "* The elif statement allows you to check multiple expressions for True and execute a block of code  as soon as one of the conditions evaluates to True.\n",
    "* Similar to the else, for which there can be at most one statement, there can be an arbitraty number of elif statements following an if."
   ]
  },
  {
   "cell_type": "code",
   "execution_count": 18,
   "id": "f803ac29",
   "metadata": {},
   "outputs": [
    {
     "name": "stdout",
     "output_type": "stream",
     "text": [
      "The number pi 3.147 is greater than the ratio 1.618.\n"
     ]
    }
   ],
   "source": [
    "pi=3.147\n",
    "ratio=1.618\n",
    "\n",
    "if pi>ratio:\n",
    "    print(f'The number pi {pi} is greater than the ratio {ratio}.') # it is string formating\n",
    "    \n",
    "else:\n",
    "    print('Done!')\n",
    "    "
   ]
  },
  {
   "cell_type": "code",
   "execution_count": 19,
   "id": "579caac9",
   "metadata": {},
   "outputs": [
    {
     "name": "stdout",
     "output_type": "stream",
     "text": [
      "Done!\n"
     ]
    }
   ],
   "source": [
    "pi=3.14\n",
    "ratio=1.618\n",
    "\n",
    "if pi<ratio:\n",
    "    print(f'The number pi {pi} is greater than the ratio {ratio}.')\n",
    "    \n",
    "else:\n",
    "    print('Done!')\n",
    "    \n",
    "    "
   ]
  },
  {
   "cell_type": "code",
   "execution_count": 25,
   "id": "fde9104e",
   "metadata": {},
   "outputs": [
    {
     "name": "stdout",
     "output_type": "stream",
     "text": [
      "You are a baby\n"
     ]
    }
   ],
   "source": [
    "age=3\n",
    "\n",
    "if age>6:\n",
    "    print('You can go to primary school')\n",
    "elif age==6:\n",
    "    print('You can go to Kinder Garden')\n",
    "else:\n",
    "    print('You are a baby')"
   ]
  },
  {
   "cell_type": "code",
   "execution_count": 34,
   "id": "d9082b9d",
   "metadata": {},
   "outputs": [
    {
     "name": "stdout",
     "output_type": "stream",
     "text": [
      "Album year is higher than 1995\n"
     ]
    }
   ],
   "source": [
    "\n",
    "album_year=1990\n",
    "\n",
    "\n",
    "if album_year<1995:\n",
    "    print('Album year is higher than 1995')\n",
    "    \n"
   ]
  },
  {
   "cell_type": "code",
   "execution_count": 37,
   "id": "941fde3e",
   "metadata": {},
   "outputs": [
    {
     "name": "stdout",
     "output_type": "stream",
     "text": [
      "Album year is higher than 1995\n"
     ]
    }
   ],
   "source": [
    "album_year1=2000\n",
    "if album_year1>=1995:\n",
    "    print('Album year is higher than 1995')\n",
    "    \n",
    "else:\n",
    "    print('Album year is lower than 1995')"
   ]
  },
  {
   "cell_type": "code",
   "execution_count": 43,
   "id": "ba8483d7",
   "metadata": {},
   "outputs": [
    {
     "name": "stdout",
     "output_type": "stream",
     "text": [
      "Enter your age17.5\n",
      "You can't elegible for voting\n"
     ]
    }
   ],
   "source": [
    "# Write a program to check whether your age is elegible for voting or not\n",
    "x=float(input('Enter your age'))\n",
    "\n",
    "if x>=18:\n",
    "    print(\"You are elegible for voting\")\n",
    "else:\n",
    "    print(\"You can't elegible for voting\")"
   ]
  },
  {
   "cell_type": "code",
   "execution_count": 45,
   "id": "d019ea82",
   "metadata": {},
   "outputs": [
    {
     "name": "stdout",
     "output_type": "stream",
     "text": [
      "min age for hall19\n",
      "you are eligible for hall\n"
     ]
    }
   ],
   "source": [
    "# Write a program to to check your age to you are elegible \n",
    "# to watch movie in hall or not\n",
    "a=int(input('min age for hall'))\n",
    "\n",
    "if a>=18:\n",
    "    print('you are eligible for hall')\n",
    "    \n",
    "elif a>=15:\n",
    "    print('you can seat in front bench')\n",
    "    \n",
    "else:\n",
    "    print('go back to home!')"
   ]
  },
  {
   "cell_type": "code",
   "execution_count": 55,
   "id": "a146ea8a",
   "metadata": {},
   "outputs": [
    {
     "name": "stdout",
     "output_type": "stream",
     "text": [
      "Enter a rating number7.0\n",
      "The entered movie rating:7.0\n",
      "not going in oscar\n"
     ]
    }
   ],
   "source": [
    "# write a program to check movie rating to win oscar award.\n",
    "movie=float(input('Enter a rating number'))\n",
    "print(f'The entered movie rating:{movie}')\n",
    "if movie>=8.5:\n",
    "    print('movie could win oscar')\n",
    "else:\n",
    "    print('not going in oscar')"
   ]
  },
  {
   "cell_type": "code",
   "execution_count": 51,
   "id": "35f2b704",
   "metadata": {},
   "outputs": [
    {
     "name": "stdout",
     "output_type": "stream",
     "text": [
      "Movie not nominated for oscar\n"
     ]
    }
   ],
   "source": [
    "# write a program to check whether a movie rating to win oscar\n",
    "imdb_point=7.0\n",
    "if imdb_point>8.5:\n",
    "    print('The movie could win oscar')\n",
    "    \n",
    "else:\n",
    "    print('Movie not nominated for oscar')"
   ]
  },
  {
   "cell_type": "code",
   "execution_count": 67,
   "id": "11cc0651",
   "metadata": {},
   "outputs": [
    {
     "name": "stdout",
     "output_type": "stream",
     "text": [
      "Enter your number14\n",
      "You entered Even number\n"
     ]
    }
   ],
   "source": [
    "# Write a program to check whether a number is entered \n",
    "# by the user is even or odd.\n",
    "\n",
    "num=float(input('Enter your number'))\n",
    "\n",
    "\n",
    "if num%2==0:\n",
    "    print('You entered Even number')\n",
    "    \n",
    "else:\n",
    "    print('You entered Odd number')"
   ]
  },
  {
   "cell_type": "code",
   "execution_count": 69,
   "id": "86e8a992",
   "metadata": {},
   "outputs": [
    {
     "name": "stdout",
     "output_type": "stream",
     "text": [
      "your no. is: 50\n",
      "not divisible by 7\n"
     ]
    }
   ],
   "source": [
    "# write a program to check whether a number is divisible by 7 or not.\n",
    "go=int(input('your no. is: '))\n",
    "\n",
    "if go%7==0:     \n",
    "    print('divisible by 7')\n",
    "else:\n",
    "    print('not divisible by 7')"
   ]
  },
  {
   "cell_type": "code",
   "execution_count": 70,
   "id": "c54c687d",
   "metadata": {},
   "outputs": [
    {
     "name": "stdout",
     "output_type": "stream",
     "text": [
      "your num: 80\n",
      "divisivle by 8\n"
     ]
    }
   ],
   "source": [
    "num=int(input('your num: '))\n",
    "\n",
    "if num%8==0:\n",
    "    print('divisivle by 8')\n",
    "else:\n",
    "    print('not divisible by 8 ')"
   ]
  },
  {
   "cell_type": "code",
   "execution_count": 72,
   "id": "700dc9b0",
   "metadata": {},
   "outputs": [
    {
     "name": "stdout",
     "output_type": "stream",
     "text": [
      "no. is: 50\n",
      "hello\n"
     ]
    }
   ],
   "source": [
    "# Write a program to display \"Hello\" if a number is entered by the \n",
    "# user is a multiple of 5 otherwise print \"Bye!\"\n",
    "num1=int(input('no. is: '))\n",
    "\n",
    "if num*5:\n",
    "    print('hello')\n",
    "else:\n",
    "    print('by')"
   ]
  },
  {
   "cell_type": "code",
   "execution_count": 75,
   "id": "c8754465",
   "metadata": {},
   "outputs": [
    {
     "name": "stdout",
     "output_type": "stream",
     "text": [
      "no. is: 27\n",
      "welcome your number is divisible by 3\n"
     ]
    }
   ],
   "source": [
    "# Write a program to display \"Welcome your number is divisibe of 3\" \n",
    "# if a numeber is divisibel by 3 \n",
    "# other 'Your number can't divisible of 3 number'\n",
    "num2=int(input('no. is: '))\n",
    "\n",
    "if num2%3==0:\n",
    "    print('welcome your number is divisible by 3')\n",
    "else:\n",
    "    print('your number cannot divisible of 3')"
   ]
  },
  {
   "cell_type": "code",
   "execution_count": 12,
   "id": "0732da1b",
   "metadata": {},
   "outputs": [
    {
     "name": "stdout",
     "output_type": "stream",
     "text": [
      "days: 10\n",
      "Please! Enter a valid number 1 to 7\n"
     ]
    }
   ],
   "source": [
    "# Write a program to check weekdays with number 1 to 7 from the users.\n",
    "variable=int(input('days: '))\n",
    "if variable==1:\n",
    "    print('sunday ')\n",
    "elif variable==2:\n",
    "    print('monday')\n",
    "elif variable==3:\n",
    "    print('tuesday')\n",
    "elif variable==4:\n",
    "    print('wednesday')\n",
    "elif variable==5:\n",
    "    print('thursady')\n",
    "elif variable==6:\n",
    "    print('friday')\n",
    "elif variable<=7:\n",
    "    print('saturday')\n",
    "else:\n",
    "    print('Please! Enter a valid number 1 to 7')"
   ]
  },
  {
   "cell_type": "code",
   "execution_count": 17,
   "id": "ff10777a",
   "metadata": {},
   "outputs": [
    {
     "name": "stdout",
     "output_type": "stream",
     "text": [
      "your percentage: 10\n",
      "D grade \n"
     ]
    }
   ],
   "source": [
    "# Write a program to accept percentage from the user and display the grade according to the following\n",
    "# Criteria;\n",
    "\n",
    "# Percentage------------> Grade\n",
    "# >90-------------------> A\n",
    "# >80 and <=90----------> B\n",
    "#>=60 and <=80----------> C\n",
    "# below 60--------------> D\n",
    "\n",
    "percentage=int(input('your percentage: '))\n",
    "    \n",
    "if percentage>90:\n",
    "    print('A grade ')\n",
    "elif percentage>80 and percentage<=90:\n",
    "    print('B grade ')\n",
    "elif percentage>=60 and percentage<=80:\n",
    "    print('C grade ')\n",
    "else:\n",
    "    print('D grade ')"
   ]
  },
  {
   "cell_type": "code",
   "execution_count": 22,
   "id": "23efa067",
   "metadata": {},
   "outputs": [
    {
     "name": "stdout",
     "output_type": "stream",
     "text": [
      "month: 13\n",
      "Please! Enter a valid number of months\n"
     ]
    }
   ],
   "source": [
    "# Write a program to accept a number from 1 to 12 and display name of the months and days in that months like\n",
    "# 1 for january and number of days 31 and so on.\n",
    "days=int(input('month: '))\n",
    "\n",
    "if days==1:\n",
    "    print('JAN','31')\n",
    "elif days==2:\n",
    "    print('FEB','28 or 29')\n",
    "elif days==3:\n",
    "    print('MARCH','30')\n",
    "elif days==4:\n",
    "    print('APRIL','31')\n",
    "elif days==5:\n",
    "    print('MAY','30')\n",
    "elif days==6:\n",
    "    print('JUNE','31')\n",
    "elif days==7:\n",
    "    print('JULY','30')\n",
    "elif days==8:\n",
    "    print('AUG','31')\n",
    "elif days==9:\n",
    "    print('SEP','30')\n",
    "elif days==10:\n",
    "    print('OCT','31')\n",
    "elif days==11:\n",
    "    print('NOV','30')\n",
    "elif days==12:\n",
    "    print('DEC','31')\n",
    "else:\n",
    "    print('Please! Enter a valid number of months')"
   ]
  },
  {
   "cell_type": "code",
   "execution_count": 30,
   "id": "5583f862",
   "metadata": {},
   "outputs": [
    {
     "name": "stdout",
     "output_type": "stream",
     "text": [
      "Enter name of the cityPUNE\n",
      "Enter the correct name of the city.\n"
     ]
    }
   ],
   "source": [
    "# write a program to accept any city from the user and display the monumnet of that city.\n",
    "\n",
    "# city----------------->Monument\n",
    "# Delhi----------------> Red Fort\n",
    "# Agra-----------------> Taj Mahal\n",
    "# Jaipur---------------> JalMahal\n",
    "# Bihar----------------> Tomb of Sher Shah Suri\n",
    "# Jammu&Kashmir--------> Vaishno Devi Mandir\n",
    "# Maharashtra----------> Elephanta Caves\n",
    "\n",
    "city=input('Enter name of the city')\n",
    "\n",
    "if city.lower()=='delhi':\n",
    "    print('Monument name is:Red Fort')\n",
    "elif city.lower()=='agra':\n",
    "    print('Monument name is:Taj Mahal')\n",
    "elif city.lower()=='jaipur':\n",
    "    print('Monument name is:Jal Mahal')\n",
    "elif city.lower()=='bihar':\n",
    "    print('Monument name is:Tomb of Sher Shah Suri')\n",
    "elif city.lower()=='jammu & kashmir':\n",
    "    print('Monument name is:Vaishno Devi Mandir')\n",
    "elif city.lower()=='maharashtra':\n",
    "    print('Monument name is:Elephanta Caves')\n",
    "else:\n",
    "    print('Enter the correct name of the city.')\n",
    "    "
   ]
  },
  {
   "cell_type": "code",
   "execution_count": 37,
   "id": "fce457ae",
   "metadata": {},
   "outputs": [
    {
     "name": "stdout",
     "output_type": "stream",
     "text": [
      "enter your age: 3\n",
      "you are not senior citizen \n"
     ]
    }
   ],
   "source": [
    "# Write a program to check wheterh a person is senior citizen or not.\n",
    "age=int(input('enter your age: '))\n",
    "\n",
    "if age>=60:\n",
    "    print('you are senior sitizen: ')\n",
    "else:\n",
    "    print('you are not senior citizen ')"
   ]
  },
  {
   "cell_type": "code",
   "execution_count": 36,
   "id": "258fbf95",
   "metadata": {},
   "outputs": [
    {
     "name": "stdout",
     "output_type": "stream",
     "text": [
      "your number: 100\n",
      "your 2nd number: 50\n",
      "Smaller number is  50\n"
     ]
    }
   ],
   "source": [
    "# Write a program to find the lowest number out of two numbers accepted from the user.\n",
    "num=int(input('your number: '))\n",
    "num1=int(input('your 2nd number: '))\n",
    "if num>num1:\n",
    "    print('Smaller number is ',num1)\n",
    "else:\n",
    "    print('Smaller number is ',num)"
   ]
  },
  {
   "cell_type": "code",
   "execution_count": 38,
   "id": "c08d02b2",
   "metadata": {},
   "outputs": [],
   "source": [
    "# Write a program to find the lowest number out of three numbers accepted from the user."
   ]
  },
  {
   "cell_type": "code",
   "execution_count": 41,
   "id": "441d72f1",
   "metadata": {},
   "outputs": [
    {
     "name": "stdout",
     "output_type": "stream",
     "text": [
      "enter number: 1005\n",
      "enter number: 1004\n",
      "enter number: 1006\n",
      "lowest no. is:  1004\n"
     ]
    }
   ],
   "source": [
    "number=int(input('enter number: '))\n",
    "number2=int(input('enter number: '))\n",
    "number3=int(input('enter number: '))\n",
    "\n",
    "#Aayush\n",
    "if number<number2:\n",
    "    print('lowest no. is: ',number)\n",
    "elif number2<number3:\n",
    "    print('lowest no. is: ',number2)\n",
    "else:\n",
    "    print('lowest no. is: ',number3)"
   ]
  },
  {
   "cell_type": "code",
   "execution_count": 47,
   "id": "741e4aba",
   "metadata": {},
   "outputs": [
    {
     "name": "stdout",
     "output_type": "stream",
     "text": [
      "Enter any number 1001\n",
      "Enter any number 1002\n",
      "Enter any number 1003\n",
      "Smallest number is: 1001\n"
     ]
    }
   ],
   "source": [
    "num1=int(input('Enter any number '))\n",
    "num2=int(input('Enter any number '))\n",
    "num3=int(input('Enter any number '))\n",
    "\n",
    "if num1<num2 and num1<num3:\n",
    "    print('Smallest number is:', num1)\n",
    "elif num2<num3 and num2<num1:\n",
    "    print('Smallest number is:', num2)\n",
    "elif num3<num2 and num3<num1:\n",
    "    print('Smallest number is: ',num3)\n",
    "else:\n",
    "    print('Done')"
   ]
  },
  {
   "cell_type": "code",
   "execution_count": 48,
   "id": "7fef7c77",
   "metadata": {},
   "outputs": [
    {
     "name": "stdout",
     "output_type": "stream",
     "text": [
      "no. 1001\n",
      "no. 1002\n",
      "no. 1003\n",
      "largest no. is:  1003\n"
     ]
    }
   ],
   "source": [
    "# Write a program to find the largest number out of three numbers accepted from the users.\n",
    "a=int(input('no. '))\n",
    "b=int(input('no. '))\n",
    "c=int(input('no. '))\n",
    "\n",
    "if a>b and a>c:\n",
    "    print('largest no. is: ',a)\n",
    "elif b>1 and b>c:\n",
    "    print('largest no. is: ',b)\n",
    "elif c>a and c>b:\n",
    "    print('largest no. is: ',c)\n",
    "else:\n",
    "    ('wrong no.')"
   ]
  },
  {
   "cell_type": "code",
   "execution_count": null,
   "id": "b6c0fa4f",
   "metadata": {},
   "outputs": [],
   "source": [
    "# It's your Home work buddy.\n",
    "# Write a program to accept the age of 4 people and display the yongest one.\n",
    "# Write a program to check whether a number accepted from the user is divisible by 2 and 3 both.\n",
    "# Write a program to check wherther a number accepted from the user is positive or negative."
   ]
  }
 ],
 "metadata": {
  "kernelspec": {
   "display_name": "Python 3 (ipykernel)",
   "language": "python",
   "name": "python3"
  },
  "language_info": {
   "codemirror_mode": {
    "name": "ipython",
    "version": 3
   },
   "file_extension": ".py",
   "mimetype": "text/x-python",
   "name": "python",
   "nbconvert_exporter": "python",
   "pygments_lexer": "ipython3",
   "version": "3.9.7"
  }
 },
 "nbformat": 4,
 "nbformat_minor": 5
}
