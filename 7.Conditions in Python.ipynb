{
 "cells": [
  {
   "cell_type": "markdown",
   "id": "684f8f6e",
   "metadata": {},
   "source": [
    "# 7. Conditions in Python"
   ]
  },
  {
   "cell_type": "markdown",
   "id": "b9588327",
   "metadata": {},
   "source": [
    "* Comparison operations compare some value or operand and based on a condition, produce a \n",
    "* Boolean. Python has six comparison operators as below:\n",
    "* Less than(<)\n",
    "* Less then or equal to(<=)\n",
    "* Greater than (>)\n",
    "* Greater than or equal to(>=)\n",
    "* Equal to(==)\n",
    "* Not equal to (!=)"
   ]
  },
  {
   "cell_type": "code",
   "execution_count": 6,
   "id": "c2fb2e01",
   "metadata": {},
   "outputs": [
    {
     "name": "stdout",
     "output_type": "stream",
     "text": [
      "True\n",
      "False\n",
      "True\n",
      "False\n",
      "True\n"
     ]
    }
   ],
   "source": [
    "# Take a variable\n",
    "ratio=1.618\n",
    "\n",
    "# Condition less than\n",
    "print(ratio<2) # The ratio is lower than 2, thus the output is True\n",
    "print(ratio>2) # The ratio is greater than 1, thus the output is False\n",
    "\n",
    "# Less than or equal to\n",
    "print(ratio<=2) # The ratio is less than or equal to 2, thus the output is True\n",
    "print(ratio<=1) # The ratio is less than or equal to 1, thus the output is False\n",
    "print(ratio<=1.618) # The ratio is less than or equal to 1.618, thus output is True"
   ]
  },
  {
   "cell_type": "code",
   "execution_count": null,
   "id": "2955e891",
   "metadata": {},
   "outputs": [],
   "source": []
  }
 ],
 "metadata": {
  "kernelspec": {
   "display_name": "Python 3 (ipykernel)",
   "language": "python",
   "name": "python3"
  },
  "language_info": {
   "codemirror_mode": {
    "name": "ipython",
    "version": 3
   },
   "file_extension": ".py",
   "mimetype": "text/x-python",
   "name": "python",
   "nbconvert_exporter": "python",
   "pygments_lexer": "ipython3",
   "version": "3.9.7"
  }
 },
 "nbformat": 4,
 "nbformat_minor": 5
}
