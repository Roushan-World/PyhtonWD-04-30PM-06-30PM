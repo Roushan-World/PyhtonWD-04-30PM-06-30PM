{
 "cells": [
  {
   "cell_type": "markdown",
   "id": "997b67d9",
   "metadata": {},
   "source": [
    "# 9. Functions in Python"
   ]
  },
  {
   "cell_type": "markdown",
   "id": "2496acf9",
   "metadata": {},
   "source": [
    "* In Python, a function is a group of related statements that performs a specific task.\n",
    "\n",
    "* Functions help break out program into smaller and modular chunks.\n",
    "\n",
    "* As out program grows larger and larger, functions make it more organized and manageable.\n",
    "\n",
    "* Furthermore, it avoids repetiton and makes the code reusable.\n",
    "\n",
    "* There are two types of functions.\n",
    "\n",
    "            * 1. Pre-defined functions\n",
    "            * 2. User-defined functions.\n",
    "            \n",
    " * In Python a function is defined using the def keyword followed by the function name and parentheses().\n",
    " * Keyword def that marks the start of the function header.\n",
    " * A function name to uniquely identify the function.\n",
    " * Function naming follows the same rules of writing identifiers in Python.\n",
    " * Parameters(arguments) throught which we pass calues to a function. They are optional.\n",
    " * A colon(:) to mark the end of the function header.\n",
    " * Optional documentation string (docstring) to describe what the function does.\n",
    " * One or more valid python statements that make up the function body.\n",
    " * Statements must have the same identation level(usually 4 spaces).\n",
    " * An Optional return statement to return a value from the function."
   ]
  },
  {
   "cell_type": "code",
   "execution_count": 3,
   "id": "fdeabc49",
   "metadata": {},
   "outputs": [
    {
     "name": "stdout",
     "output_type": "stream",
     "text": [
      "If you make the above operations with 5,the result will be -3 ,13 ,40 ,0.625 ,0.\n"
     ]
    }
   ],
   "source": [
    "# Take an example\n",
    "\n",
    "def process(x):  #It is single parameter\n",
    "    y1=x-8\n",
    "    y2=x+8\n",
    "    y3=x*8\n",
    "    y4=x/8\n",
    "    y5=x//8\n",
    "    \n",
    "    print(f'If you make the above operations with {x},the result will be {y1} ,{y2} ,{y3} ,{y4} ,{y5}.')\n",
    "process(5)"
   ]
  },
  {
   "cell_type": "code",
   "execution_count": 4,
   "id": "cb9b0eeb",
   "metadata": {},
   "outputs": [
    {
     "name": "stdout",
     "output_type": "stream",
     "text": [
      "Help on function process in module __main__:\n",
      "\n",
      "process(x)\n",
      "\n"
     ]
    }
   ],
   "source": [
    "help(process)"
   ]
  },
  {
   "cell_type": "code",
   "execution_count": 5,
   "id": "b5f2936d",
   "metadata": {},
   "outputs": [
    {
     "name": "stdout",
     "output_type": "stream",
     "text": [
      "If you make the above operations with 10,the result will be 2 ,18 ,80 ,1.25 ,1.\n"
     ]
    }
   ],
   "source": [
    "process(10)"
   ]
  },
  {
   "cell_type": "code",
   "execution_count": 6,
   "id": "fd71a5c4",
   "metadata": {},
   "outputs": [
    {
     "name": "stdout",
     "output_type": "stream",
     "text": [
      "If you make the above operations with 100,the result will be 92 ,108 ,800 ,12.5 ,12.\n"
     ]
    }
   ],
   "source": [
    "process(100)"
   ]
  },
  {
   "cell_type": "code",
   "execution_count": 7,
   "id": "cd799223",
   "metadata": {},
   "outputs": [
    {
     "name": "stdout",
     "output_type": "stream",
     "text": [
      "If you make the above operations with 14.5,the result will be 6.5 ,22.5 ,116.0 ,1.8125 ,1.0.\n"
     ]
    }
   ],
   "source": [
    "process(14.5)"
   ]
  },
  {
   "cell_type": "code",
   "execution_count": 8,
   "id": "2c283e97",
   "metadata": {},
   "outputs": [
    {
     "data": {
      "text/plain": [
       "59.370000000000005"
      ]
     },
     "execution_count": 8,
     "metadata": {},
     "output_type": "execute_result"
    }
   ],
   "source": [
    "def multi(x,y):\n",
    "    z=2*x+5*y+45\n",
    "    return z\n",
    "\n",
    "multi(3.14,1.618)"
   ]
  },
  {
   "cell_type": "code",
   "execution_count": 9,
   "id": "f7724b90",
   "metadata": {},
   "outputs": [
    {
     "data": {
      "text/plain": [
       "90"
      ]
     },
     "execution_count": 9,
     "metadata": {},
     "output_type": "execute_result"
    }
   ],
   "source": [
    "multi(10,5)"
   ]
  },
  {
   "cell_type": "code",
   "execution_count": 10,
   "id": "c11a14fb",
   "metadata": {},
   "outputs": [
    {
     "data": {
      "text/plain": [
       "335"
      ]
     },
     "execution_count": 10,
     "metadata": {},
     "output_type": "execute_result"
    }
   ],
   "source": [
    "multi(45,40)"
   ]
  },
  {
   "cell_type": "code",
   "execution_count": 11,
   "id": "c2d924f2",
   "metadata": {},
   "outputs": [
    {
     "name": "stdout",
     "output_type": "stream",
     "text": [
      "If you make the above operations with 10,the result will be 2 ,18 ,80 ,1.25 ,1.\n"
     ]
    }
   ],
   "source": [
    "process(10)"
   ]
  },
  {
   "cell_type": "markdown",
   "id": "dd598ddc",
   "metadata": {},
   "source": [
    "# Variables"
   ]
  },
  {
   "cell_type": "markdown",
   "id": "a02efdfb",
   "metadata": {},
   "source": [
    "* The input to a function is called a formal parameter.\n",
    "* A variable that is declared inside a function is called a local variable.\n",
    "* The parameter only exists within the functions(i.e- the point where the function starts and stops)\n",
    "* A variable that is declared outside a function definition is a global variable, and its value is accessible and modifiable thoughout the program."
   ]
  },
  {
   "cell_type": "code",
   "execution_count": 15,
   "id": "04bfe294",
   "metadata": {},
   "outputs": [
    {
     "name": "stdout",
     "output_type": "stream",
     "text": [
      "If you make the above operations with 1.618, the result will be 9.934520000000001.\n",
      "9.934520000000001\n"
     ]
    }
   ],
   "source": [
    "# Define a function\n",
    "def function(x):\n",
    "    \n",
    "    # Take a local variable\n",
    "    y=3.14\n",
    "    z=3*x+1.618*y\n",
    "    print(f'If you make the above operations with {x}, the result will be {z}.')\n",
    "    return z\n",
    "with_ratio=function(1.618)\n",
    "\n",
    "print(with_ratio)\n",
    "    "
   ]
  },
  {
   "cell_type": "code",
   "execution_count": 16,
   "id": "8b8e471f",
   "metadata": {},
   "outputs": [
    {
     "name": "stdout",
     "output_type": "stream",
     "text": [
      "If you make the above operations with 3.14, the result will be 14.500520000000002.\n",
      "14.500520000000002\n"
     ]
    }
   ],
   "source": [
    "# Define global variable\n",
    "\n",
    "a=3.14\n",
    "\n",
    "y=function(a)\n",
    "print(y)"
   ]
  },
  {
   "cell_type": "code",
   "execution_count": null,
   "id": "d5412ee6",
   "metadata": {},
   "outputs": [],
   "source": []
  }
 ],
 "metadata": {
  "kernelspec": {
   "display_name": "Python 3 (ipykernel)",
   "language": "python",
   "name": "python3"
  },
  "language_info": {
   "codemirror_mode": {
    "name": "ipython",
    "version": 3
   },
   "file_extension": ".py",
   "mimetype": "text/x-python",
   "name": "python",
   "nbconvert_exporter": "python",
   "pygments_lexer": "ipython3",
   "version": "3.9.7"
  }
 },
 "nbformat": 4,
 "nbformat_minor": 5
}
