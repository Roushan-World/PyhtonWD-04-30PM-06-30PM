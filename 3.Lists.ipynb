{
 "cells": [
  {
   "cell_type": "markdown",
   "id": "7b7c617b",
   "metadata": {},
   "source": [
    "# 3. Lists()"
   ]
  },
  {
   "cell_type": "markdown",
   "id": "9a1f3274",
   "metadata": {},
   "source": [
    "* Lists are ordered\n",
    "* Lists can contain any arbitrary objects.\n",
    "* List elements can be accessed by index.\n",
    "* Lists can be nested to arbitrary depth.\n",
    "* Lists are mutable.\n",
    "* Lists are dynamic."
   ]
  },
  {
   "cell_type": "code",
   "execution_count": 3,
   "id": "2cbf6a48",
   "metadata": {},
   "outputs": [
    {
     "name": "stdout",
     "output_type": "stream",
     "text": [
      "['Python', 25, 2022, 3.147]\n",
      "<class 'list'>\n"
     ]
    }
   ],
   "source": [
    "nlis=[\"Python\",25,2022,3.147]\n",
    "print(nlis)\n",
    "print(type(nlis))"
   ]
  },
  {
   "cell_type": "code",
   "execution_count": 11,
   "id": "b1bb4153",
   "metadata": {},
   "outputs": [
    {
     "name": "stdout",
     "output_type": "stream",
     "text": [
      "positive index: Python Negative index: Python\n",
      "positive index: 25 Negative index: 25\n",
      "positive index: 2022 Negative index: 2022\n",
      "positive index: 3.147 Negative index: 3.147\n"
     ]
    }
   ],
   "source": [
    "print(\"positive index:\",nlis[0],\"Negative index:\",nlis[-4])\n",
    "print(\"positive index:\",nlis[1],\"Negative index:\",nlis[-3])\n",
    "print(\"positive index:\",nlis[2],\"Negative index:\",nlis[-2])\n",
    "print(\"positive index:\",nlis[3],\"Negative index:\",nlis[-1])\n"
   ]
  },
  {
   "cell_type": "markdown",
   "id": "37071766",
   "metadata": {},
   "source": [
    "#  What can content a list?"
   ]
  },
  {
   "cell_type": "markdown",
   "id": "2ce6502e",
   "metadata": {},
   "source": [
    "* Strings\n",
    "* Floats\n",
    "* Integers\n",
    "* Boolean\n",
    "* Nested Lists\n",
    "* Nested Tuples\n",
    "* Other data structures."
   ]
  },
  {
   "cell_type": "code",
   "execution_count": 12,
   "id": "285864af",
   "metadata": {},
   "outputs": [
    {
     "data": {
      "text/plain": [
       "['Python',\n",
       " 3.147,\n",
       " [1, 1, 2, 3, 5, 8, 12, 23, 34],\n",
       " ('hello', 'python', 3.147, 2022)]"
      ]
     },
     "execution_count": 12,
     "metadata": {},
     "output_type": "execute_result"
    }
   ],
   "source": [
    "nlis_1=[\"Python\",3.147,[1,1,2,3,5,8,12,23,34],(\"hello\",'python',3.147,2022)]\n",
    "nlis_1"
   ]
  },
  {
   "cell_type": "markdown",
   "id": "4b64e512",
   "metadata": {},
   "source": [
    "# List Operation"
   ]
  },
  {
   "cell_type": "code",
   "execution_count": 13,
   "id": "1445c574",
   "metadata": {},
   "outputs": [
    {
     "data": {
      "text/plain": [
       "4"
      ]
     },
     "execution_count": 13,
     "metadata": {},
     "output_type": "execute_result"
    }
   ],
   "source": [
    "# Lenth of list\n",
    "len(nlis_1)"
   ]
  },
  {
   "cell_type": "code",
   "execution_count": 22,
   "id": "e52a1355",
   "metadata": {},
   "outputs": [
    {
     "name": "stdout",
     "output_type": "stream",
     "text": [
      "['Python']\n",
      "[3.147]\n",
      "[[1, 1, 2, 3, 5, 8, 12, 23, 34]]\n",
      "[('hello', 'python', 3.147, 2022)]\n"
     ]
    }
   ],
   "source": [
    "# Slicing of a list\n",
    "print(nlis_1[0:1])\n",
    "print(nlis_1[1:2])\n",
    "print(nlis_1[2:3])\n",
    "print(nlis_1[3:])"
   ]
  },
  {
   "cell_type": "markdown",
   "id": "803f23f4",
   "metadata": {},
   "source": [
    "# Extending the list"
   ]
  },
  {
   "cell_type": "markdown",
   "id": "61622969",
   "metadata": {},
   "source": [
    "* We use the extend() function to add a new elements to the list.\n",
    "* With this function, we add more than one elements to the list."
   ]
  },
  {
   "cell_type": "code",
   "execution_count": 23,
   "id": "e55ddff5",
   "metadata": {},
   "outputs": [
    {
     "data": {
      "text/plain": [
       "['Python',\n",
       " 3.147,\n",
       " [1, 1, 2, 3, 5, 8, 12, 23, 34],\n",
       " ('hello', 'python', 3.147, 2022),\n",
       " 'Hello World',\n",
       " 1.618]"
      ]
     },
     "execution_count": 23,
     "metadata": {},
     "output_type": "execute_result"
    }
   ],
   "source": [
    "# take the list\n",
    "nlis_2=[\"Python\",3.147,[1,1,2,3,5,8,12,23,34],(\"hello\",'python',3.147,2022)]\n",
    "nlis_2.extend(['Hello World',1.618])\n",
    "nlis_2"
   ]
  },
  {
   "cell_type": "code",
   "execution_count": 26,
   "id": "1042e509",
   "metadata": {},
   "outputs": [
    {
     "data": {
      "text/plain": [
       "['Python',\n",
       " 3.147,\n",
       " [1, 1, 2, 3, 5, 8, 12, 23, 34],\n",
       " ('hello', 'python', 3.147, 2022),\n",
       " 'Hello World',\n",
       " 1.618,\n",
       " 'Kartil',\n",
       " 'Ayush',\n",
       " 'Kartik',\n",
       " 'Ayush',\n",
       " 'Kartik',\n",
       " 'Ayush']"
      ]
     },
     "execution_count": 26,
     "metadata": {},
     "output_type": "execute_result"
    }
   ],
   "source": [
    "nlis_2.extend([\"Kartik\",\"Ayush\"])\n",
    "nlis_2"
   ]
  },
  {
   "cell_type": "code",
   "execution_count": null,
   "id": "0132ac99",
   "metadata": {},
   "outputs": [],
   "source": []
  }
 ],
 "metadata": {
  "kernelspec": {
   "display_name": "Python 3 (ipykernel)",
   "language": "python",
   "name": "python3"
  },
  "language_info": {
   "codemirror_mode": {
    "name": "ipython",
    "version": 3
   },
   "file_extension": ".py",
   "mimetype": "text/x-python",
   "name": "python",
   "nbconvert_exporter": "python",
   "pygments_lexer": "ipython3",
   "version": "3.9.7"
  }
 },
 "nbformat": 4,
 "nbformat_minor": 5
}
