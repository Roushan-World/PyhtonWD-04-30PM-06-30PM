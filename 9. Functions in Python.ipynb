{
 "cells": [
  {
   "cell_type": "markdown",
   "id": "997b67d9",
   "metadata": {},
   "source": [
    "# 9. Functions in Python"
   ]
  },
  {
   "cell_type": "markdown",
   "id": "2496acf9",
   "metadata": {},
   "source": [
    "* In Python, a function is a group of related statements that performs a specific task.\n",
    "\n",
    "* Functions help break out program into smaller and modular chunks.\n",
    "\n",
    "* As out program grows larger and larger, functions make it more organized and manageable.\n",
    "\n",
    "* Furthermore, it avoids repetiton and makes the code reusable.\n",
    "\n",
    "* There are two types of functions.\n",
    "\n",
    "            * 1. Pre-defined functions\n",
    "            * 2. User-defined functions.\n",
    "            \n",
    " * In Python a function is defined using the def keyword followed by the function name and parentheses().\n",
    " * Keyword def that marks the start of the function header.\n",
    " * A function name to uniquely identify the function.\n",
    " * Function naming follows the same rules of writing identifiers in Python.\n",
    " * Parameters(arguments) throught which we pass calues to a function. They are optional.\n",
    " * A colon(:) to mark the end of the function header.\n",
    " * Optional documentation string (docstring) to describe what the function does.\n",
    " * One or more valid python statements that make up the function body.\n",
    " * Statements must have the same identation level(usually 4 spaces).\n",
    " * An Optional return statement to return a value from the function."
   ]
  },
  {
   "cell_type": "code",
   "execution_count": 3,
   "id": "fdeabc49",
   "metadata": {},
   "outputs": [
    {
     "name": "stdout",
     "output_type": "stream",
     "text": [
      "If you make the above operations with 5,the result will be -3 ,13 ,40 ,0.625 ,0.\n"
     ]
    }
   ],
   "source": [
    "# Take an example\n",
    "\n",
    "def process(x):  #It is single parameter\n",
    "    y1=x-8\n",
    "    y2=x+8\n",
    "    y3=x*8\n",
    "    y4=x/8\n",
    "    y5=x//8\n",
    "    \n",
    "    print(f'If you make the above operations with {x},the result will be {y1} ,{y2} ,{y3} ,{y4} ,{y5}.')\n",
    "process(5)"
   ]
  },
  {
   "cell_type": "code",
   "execution_count": 4,
   "id": "cb9b0eeb",
   "metadata": {},
   "outputs": [
    {
     "name": "stdout",
     "output_type": "stream",
     "text": [
      "Help on function process in module __main__:\n",
      "\n",
      "process(x)\n",
      "\n"
     ]
    }
   ],
   "source": [
    "help(process)"
   ]
  },
  {
   "cell_type": "code",
   "execution_count": 5,
   "id": "b5f2936d",
   "metadata": {},
   "outputs": [
    {
     "name": "stdout",
     "output_type": "stream",
     "text": [
      "If you make the above operations with 10,the result will be 2 ,18 ,80 ,1.25 ,1.\n"
     ]
    }
   ],
   "source": [
    "process(10)"
   ]
  },
  {
   "cell_type": "code",
   "execution_count": 6,
   "id": "fd71a5c4",
   "metadata": {},
   "outputs": [
    {
     "name": "stdout",
     "output_type": "stream",
     "text": [
      "If you make the above operations with 100,the result will be 92 ,108 ,800 ,12.5 ,12.\n"
     ]
    }
   ],
   "source": [
    "process(100)"
   ]
  },
  {
   "cell_type": "code",
   "execution_count": 7,
   "id": "cd799223",
   "metadata": {},
   "outputs": [
    {
     "name": "stdout",
     "output_type": "stream",
     "text": [
      "If you make the above operations with 14.5,the result will be 6.5 ,22.5 ,116.0 ,1.8125 ,1.0.\n"
     ]
    }
   ],
   "source": [
    "process(14.5)"
   ]
  },
  {
   "cell_type": "code",
   "execution_count": 8,
   "id": "2c283e97",
   "metadata": {},
   "outputs": [
    {
     "data": {
      "text/plain": [
       "59.370000000000005"
      ]
     },
     "execution_count": 8,
     "metadata": {},
     "output_type": "execute_result"
    }
   ],
   "source": [
    "def multi(x,y):\n",
    "    z=2*x+5*y+45\n",
    "    return z\n",
    "\n",
    "multi(3.14,1.618)"
   ]
  },
  {
   "cell_type": "code",
   "execution_count": 9,
   "id": "f7724b90",
   "metadata": {},
   "outputs": [
    {
     "data": {
      "text/plain": [
       "90"
      ]
     },
     "execution_count": 9,
     "metadata": {},
     "output_type": "execute_result"
    }
   ],
   "source": [
    "multi(10,5)"
   ]
  },
  {
   "cell_type": "code",
   "execution_count": 10,
   "id": "c11a14fb",
   "metadata": {},
   "outputs": [
    {
     "data": {
      "text/plain": [
       "335"
      ]
     },
     "execution_count": 10,
     "metadata": {},
     "output_type": "execute_result"
    }
   ],
   "source": [
    "multi(45,40)"
   ]
  },
  {
   "cell_type": "code",
   "execution_count": 11,
   "id": "c2d924f2",
   "metadata": {},
   "outputs": [
    {
     "name": "stdout",
     "output_type": "stream",
     "text": [
      "If you make the above operations with 10,the result will be 2 ,18 ,80 ,1.25 ,1.\n"
     ]
    }
   ],
   "source": [
    "process(10)"
   ]
  },
  {
   "cell_type": "markdown",
   "id": "dd598ddc",
   "metadata": {},
   "source": [
    "# Variables"
   ]
  },
  {
   "cell_type": "markdown",
   "id": "a02efdfb",
   "metadata": {},
   "source": [
    "* The input to a function is called a formal parameter.\n",
    "* A variable that is declared inside a function is called a local variable.\n",
    "* The parameter only exists within the functions(i.e- the point where the function starts and stops)\n",
    "* A variable that is declared outside a function definition is a global variable, and its value is accessible and modifiable thoughout the program."
   ]
  },
  {
   "cell_type": "code",
   "execution_count": 15,
   "id": "04bfe294",
   "metadata": {},
   "outputs": [
    {
     "name": "stdout",
     "output_type": "stream",
     "text": [
      "If you make the above operations with 1.618, the result will be 9.934520000000001.\n",
      "9.934520000000001\n"
     ]
    }
   ],
   "source": [
    "# Define a function\n",
    "def function(x):\n",
    "    \n",
    "    # Take a local variable\n",
    "    y=3.14\n",
    "    z=3*x+1.618*y\n",
    "    print(f'If you make the above operations with {x}, the result will be {z}.')\n",
    "    return z\n",
    "with_ratio=function(1.618)\n",
    "\n",
    "print(with_ratio)\n",
    "    "
   ]
  },
  {
   "cell_type": "code",
   "execution_count": 16,
   "id": "8b8e471f",
   "metadata": {},
   "outputs": [
    {
     "name": "stdout",
     "output_type": "stream",
     "text": [
      "If you make the above operations with 3.14, the result will be 14.500520000000002.\n",
      "14.500520000000002\n"
     ]
    }
   ],
   "source": [
    "# Define global variable\n",
    "\n",
    "a=3.14\n",
    "\n",
    "y=function(a)\n",
    "print(y)"
   ]
  },
  {
   "cell_type": "code",
   "execution_count": 2,
   "id": "d5412ee6",
   "metadata": {},
   "outputs": [
    {
     "name": "stdout",
     "output_type": "stream",
     "text": [
      "Hello,Python!\n",
      "Hello, World!\n"
     ]
    }
   ],
   "source": [
    "# Define a function with and without retrun statement.\n",
    "\n",
    "def msg1():\n",
    "    print('Hello,Python!')\n",
    "    \n",
    "def msg2():\n",
    "    print('Hello, World!')\n",
    "    return None\n",
    "\n",
    "msg1()\n",
    "msg2()"
   ]
  },
  {
   "cell_type": "code",
   "execution_count": 3,
   "id": "c6d1c742",
   "metadata": {},
   "outputs": [
    {
     "name": "stdout",
     "output_type": "stream",
     "text": [
      "Hello,Python!\n",
      "None\n",
      "Hello, World!\n",
      "None\n"
     ]
    }
   ],
   "source": [
    "# Printing the function after a call indicates a None is the default return statement.\n",
    "# See the following prontings what functions retrun are.\n",
    "\n",
    "print(msg1())\n",
    "print(msg2())"
   ]
  },
  {
   "cell_type": "markdown",
   "id": "f86b35e8",
   "metadata": {},
   "source": [
    "# Concatention of strings"
   ]
  },
  {
   "cell_type": "code",
   "execution_count": 8,
   "id": "61c056ed",
   "metadata": {},
   "outputs": [
    {
     "data": {
      "text/plain": [
       "'Ayush Mehto'"
      ]
     },
     "execution_count": 8,
     "metadata": {},
     "output_type": "execute_result"
    }
   ],
   "source": [
    "# Define a function\n",
    "def strings(x,y):\n",
    "    return x+y\n",
    "\n",
    "# Testing the function strings(x,y)\n",
    "strings('Ayush ','Mehto')"
   ]
  },
  {
   "cell_type": "markdown",
   "id": "d7e99cd5",
   "metadata": {},
   "source": [
    "# Simplicity of functions"
   ]
  },
  {
   "cell_type": "code",
   "execution_count": 9,
   "id": "6637928e",
   "metadata": {},
   "outputs": [
    {
     "data": {
      "text/plain": [
       "37"
      ]
     },
     "execution_count": 9,
     "metadata": {},
     "output_type": "execute_result"
    }
   ],
   "source": [
    "# The Following codes are not used again.\n",
    "x=2.718\n",
    "y=0.577\n",
    "equation=x*y+x+y-37\n",
    "\n",
    "if equation>0:\n",
    "    equation=6\n",
    "else: equation=37\n",
    "    \n",
    "equation\n"
   ]
  },
  {
   "cell_type": "code",
   "execution_count": 12,
   "id": "59586153",
   "metadata": {},
   "outputs": [
    {
     "data": {
      "text/plain": [
       "0"
      ]
     },
     "execution_count": 12,
     "metadata": {},
     "output_type": "execute_result"
    }
   ],
   "source": [
    "x=0\n",
    "y=0\n",
    "equation=x*y+x+y-37\n",
    "\n",
    "if equation<0:\n",
    "    equation=0\n",
    "else: equation=37\n",
    "    \n",
    "equation"
   ]
  },
  {
   "cell_type": "code",
   "execution_count": 13,
   "id": "5eee3b6f",
   "metadata": {},
   "outputs": [
    {
     "data": {
      "text/plain": [
       "37"
      ]
     },
     "execution_count": 13,
     "metadata": {},
     "output_type": "execute_result"
    }
   ],
   "source": [
    "def function(x,y):\n",
    "    equation=x*y+x+y-37\n",
    "    if equation>0:\n",
    "        equation=0\n",
    "    else: equation=37\n",
    "    return equation\n",
    "\n",
    "x=2.718\n",
    "y=0.577\n",
    "function(x,y)"
   ]
  },
  {
   "cell_type": "code",
   "execution_count": 14,
   "id": "969bf073",
   "metadata": {},
   "outputs": [
    {
     "data": {
      "text/plain": [
       "37"
      ]
     },
     "execution_count": 14,
     "metadata": {},
     "output_type": "execute_result"
    }
   ],
   "source": [
    "function(2,4)"
   ]
  },
  {
   "cell_type": "markdown",
   "id": "649ab3d3",
   "metadata": {},
   "source": [
    "# Predefined functions like print(), sum(), len(), min(), max(),input()"
   ]
  },
  {
   "cell_type": "code",
   "execution_count": 15,
   "id": "9f055b36",
   "metadata": {},
   "outputs": [
    {
     "name": "stdout",
     "output_type": "stream",
     "text": [
      "[0.577, 2.718, 3.14, 1.618, 1729, 28, 6, 37]\n"
     ]
    }
   ],
   "source": [
    "# print() is a build-in function\n",
    "\n",
    "special_numbers=[0.577,2.718,3.14,1.618,1729,28,6,37]\n",
    "print(special_numbers)"
   ]
  },
  {
   "cell_type": "code",
   "execution_count": 16,
   "id": "424c497c",
   "metadata": {},
   "outputs": [
    {
     "data": {
      "text/plain": [
       "1808.053"
      ]
     },
     "execution_count": 16,
     "metadata": {},
     "output_type": "execute_result"
    }
   ],
   "source": [
    "sum(special_numbers)"
   ]
  },
  {
   "cell_type": "code",
   "execution_count": 17,
   "id": "932a4ccd",
   "metadata": {},
   "outputs": [
    {
     "data": {
      "text/plain": [
       "8"
      ]
     },
     "execution_count": 17,
     "metadata": {},
     "output_type": "execute_result"
    }
   ],
   "source": [
    "len(special_numbers)"
   ]
  },
  {
   "cell_type": "code",
   "execution_count": 18,
   "id": "17d266a3",
   "metadata": {},
   "outputs": [
    {
     "data": {
      "text/plain": [
       "0.577"
      ]
     },
     "execution_count": 18,
     "metadata": {},
     "output_type": "execute_result"
    }
   ],
   "source": [
    "min(special_numbers)"
   ]
  },
  {
   "cell_type": "code",
   "execution_count": 19,
   "id": "2585b38e",
   "metadata": {},
   "outputs": [
    {
     "data": {
      "text/plain": [
       "1729"
      ]
     },
     "execution_count": 19,
     "metadata": {},
     "output_type": "execute_result"
    }
   ],
   "source": [
    "max(special_numbers)"
   ]
  },
  {
   "cell_type": "markdown",
   "id": "6fa8ec3f",
   "metadata": {},
   "source": [
    "# Adjusting default values of independent variables in functions."
   ]
  },
  {
   "cell_type": "code",
   "execution_count": 21,
   "id": "70c16fcb",
   "metadata": {},
   "outputs": [
    {
     "name": "stdout",
     "output_type": "stream",
     "text": [
      "You Should not watch this movie with the rating value of 5.5\n",
      "You Should watch this movie with the rating value of 8.6\n"
     ]
    }
   ],
   "source": [
    "# Define a function adjusting the default value of the variable.\n",
    "\n",
    "def rating_value(rating=5.5):\n",
    "    if rating<8:\n",
    "        return f'You Should not watch this movie with the rating value of {rating}'\n",
    "    else:\n",
    "        return f'You Should watch this movie with the rating value of {rating}'\n",
    "    \n",
    "print(rating_value())\n",
    "print(rating_value(8.6))"
   ]
  },
  {
   "cell_type": "code",
   "execution_count": 23,
   "id": "7f1e896d",
   "metadata": {},
   "outputs": [
    {
     "name": "stdout",
     "output_type": "stream",
     "text": [
      " you can vote now age 18\n",
      " you cannot vot now your age is 17\n"
     ]
    }
   ],
   "source": [
    "def voting(age=18):\n",
    "    if age>=18:\n",
    "        return f' you can vote now age {age}'\n",
    "    else:\n",
    "        return f' you cannot vote now your age is {age}'\n",
    "    \n",
    "print(voting())\n",
    "print(voting(17))"
   ]
  },
  {
   "cell_type": "markdown",
   "id": "23e904fd",
   "metadata": {},
   "source": [
    "# Global Variable"
   ]
  },
  {
   "cell_type": "markdown",
   "id": "22c062ad",
   "metadata": {},
   "source": [
    "* Variables that create outside of a function (as in all the examples above) are known as global variables.\n",
    "* Global variable can be used by everyone, both inside of functions and outside."
   ]
  },
  {
   "cell_type": "code",
   "execution_count": 29,
   "id": "f38311fa",
   "metadata": {},
   "outputs": [
    {
     "name": "stdout",
     "output_type": "stream",
     "text": [
      "Python is a programming language.\n",
      "Python is a programming language.\n"
     ]
    },
    {
     "data": {
      "text/plain": [
       "'The output gives a NameError, since all variables in the function are local variables, so \\nvariable assignment is not persistent outside the function.'"
      ]
     },
     "execution_count": 29,
     "metadata": {},
     "output_type": "execute_result"
    }
   ],
   "source": [
    "# Define a function for global variable.\n",
    "\n",
    "language='Python'\n",
    "\n",
    "def lang(language):\n",
    "    global_var=language\n",
    "    print(f'{language} is a programming language.')\n",
    "    \n",
    "lang(language)\n",
    "lang(global_var)\n",
    "\n",
    "'''The output gives a NameError, since all variables in the function are local variables, so \n",
    "variable assignment is not persistent outside the function.'''"
   ]
  },
  {
   "cell_type": "code",
   "execution_count": 30,
   "id": "bde9ac10",
   "metadata": {},
   "outputs": [
    {
     "name": "stdout",
     "output_type": "stream",
     "text": [
      "Java Script is a programming language.\n",
      "Python is a programming language.\n"
     ]
    }
   ],
   "source": [
    "# Define a function for global variable.\n",
    "\n",
    "language='Java Script'\n",
    "def lang(language):\n",
    "    global global_var\n",
    "    global_var='Python'\n",
    "    print(f'{language} is a programming language.')\n",
    "    \n",
    "lang(language)\n",
    "lang(global_var)"
   ]
  },
  {
   "cell_type": "markdown",
   "id": "74f6611d",
   "metadata": {},
   "source": [
    "# Variables in functions"
   ]
  },
  {
   "cell_type": "markdown",
   "id": "0cd1af2b",
   "metadata": {},
   "source": [
    "* The scope of a variable is the part of the program to which that variable is accessible.\n",
    "* Variables declared outside of all the functions definitions can be accessed from anywhere in the program.\n",
    "* Consequently, such variables are said to have global scope and are known as global variables."
   ]
  },
  {
   "cell_type": "code",
   "execution_count": 31,
   "id": "3b225f80",
   "metadata": {},
   "outputs": [
    {
     "name": "stdout",
     "output_type": "stream",
     "text": [
      "The productivity in continuous fermentation is 0.5g\n",
      "The productivity in batch fermentation is 0.25g\n",
      "Continuous fermentation has many advantages over batch fermentation.\n",
      "My favourite process is {'Continuous fermentation'}\n"
     ]
    }
   ],
   "source": [
    "process='Continuous fermentation'\n",
    "\n",
    "def fermentation(process_name):\n",
    "    if process_name==process:\n",
    "        return'0.5g'\n",
    "    else:\n",
    "        return '0.25g'\n",
    "    \n",
    "print('The productivity in continuous fermentation is',fermentation('Continuous fermentation'))\n",
    "print('The productivity in batch fermentation is',fermentation('Batch fermentation'))\n",
    "print('Continuous fermentation has many advantages over batch fermentation.')\n",
    "print(f'My favourite process is',{process})"
   ]
  },
  {
   "cell_type": "code",
   "execution_count": 32,
   "id": "25211e9c",
   "metadata": {},
   "outputs": [
    {
     "ename": "NameError",
     "evalue": "name 'process' is not defined",
     "output_type": "error",
     "traceback": [
      "\u001b[1;31m---------------------------------------------------------------------------\u001b[0m",
      "\u001b[1;31mNameError\u001b[0m                                 Traceback (most recent call last)",
      "\u001b[1;32mC:\\Users\\ROUSHA~1\\AppData\\Local\\Temp/ipykernel_16508/322001022.py\u001b[0m in \u001b[0;36m<module>\u001b[1;34m\u001b[0m\n\u001b[0;32m     11\u001b[0m         \u001b[1;32mreturn\u001b[0m \u001b[1;34m'0.25g'\u001b[0m\u001b[1;33m\u001b[0m\u001b[1;33m\u001b[0m\u001b[0m\n\u001b[0;32m     12\u001b[0m \u001b[1;33m\u001b[0m\u001b[0m\n\u001b[1;32m---> 13\u001b[1;33m \u001b[0mprint\u001b[0m\u001b[1;33m(\u001b[0m\u001b[1;34m'The productivity in continuous fermentation is'\u001b[0m\u001b[1;33m,\u001b[0m\u001b[0mfermentation\u001b[0m\u001b[1;33m(\u001b[0m\u001b[1;34m'Continuous fermentation'\u001b[0m\u001b[1;33m)\u001b[0m\u001b[1;33m)\u001b[0m\u001b[1;33m\u001b[0m\u001b[1;33m\u001b[0m\u001b[0m\n\u001b[0m\u001b[0;32m     14\u001b[0m \u001b[0mprint\u001b[0m\u001b[1;33m(\u001b[0m\u001b[1;34m'The productivity in batch fermentation is'\u001b[0m\u001b[1;33m,\u001b[0m\u001b[0mfermentation\u001b[0m\u001b[1;33m(\u001b[0m\u001b[1;34m'Batch fermentation'\u001b[0m\u001b[1;33m)\u001b[0m\u001b[1;33m)\u001b[0m\u001b[1;33m\u001b[0m\u001b[1;33m\u001b[0m\u001b[0m\n\u001b[0;32m     15\u001b[0m \u001b[0mprint\u001b[0m\u001b[1;33m(\u001b[0m\u001b[1;34m'Continuous fermentation has many advantages over batch fermentation.'\u001b[0m\u001b[1;33m)\u001b[0m\u001b[1;33m\u001b[0m\u001b[1;33m\u001b[0m\u001b[0m\n",
      "\u001b[1;32mC:\\Users\\ROUSHA~1\\AppData\\Local\\Temp/ipykernel_16508/322001022.py\u001b[0m in \u001b[0;36mfermentation\u001b[1;34m(process_name)\u001b[0m\n\u001b[0;32m      6\u001b[0m \u001b[1;33m\u001b[0m\u001b[0m\n\u001b[0;32m      7\u001b[0m \u001b[1;32mdef\u001b[0m \u001b[0mfermentation\u001b[0m\u001b[1;33m(\u001b[0m\u001b[0mprocess_name\u001b[0m\u001b[1;33m)\u001b[0m\u001b[1;33m:\u001b[0m\u001b[1;33m\u001b[0m\u001b[1;33m\u001b[0m\u001b[0m\n\u001b[1;32m----> 8\u001b[1;33m     \u001b[1;32mif\u001b[0m \u001b[0mprocess_name\u001b[0m\u001b[1;33m==\u001b[0m\u001b[0mprocess\u001b[0m\u001b[1;33m:\u001b[0m\u001b[1;33m\u001b[0m\u001b[1;33m\u001b[0m\u001b[0m\n\u001b[0m\u001b[0;32m      9\u001b[0m         \u001b[1;32mreturn\u001b[0m\u001b[1;34m'0.5g'\u001b[0m\u001b[1;33m\u001b[0m\u001b[1;33m\u001b[0m\u001b[0m\n\u001b[0;32m     10\u001b[0m     \u001b[1;32melse\u001b[0m\u001b[1;33m:\u001b[0m\u001b[1;33m\u001b[0m\u001b[1;33m\u001b[0m\u001b[0m\n",
      "\u001b[1;31mNameError\u001b[0m: name 'process' is not defined"
     ]
    }
   ],
   "source": [
    "# If the variable 'process' is deleted, it returns a NameError as follows\n",
    "\n",
    "del process\n",
    "\n",
    "# Since the variable 'process' is deleted, the following function is an example of local variable.\n",
    "\n",
    "def fermentation(process_name):\n",
    "    if process_name==process:\n",
    "        return'0.5g'\n",
    "    else:\n",
    "        return '0.25g'\n",
    "    \n",
    "print('The productivity in continuous fermentation is',fermentation('Continuous fermentation'))\n",
    "print('The productivity in batch fermentation is',fermentation('Batch fermentation'))\n",
    "print('Continuous fermentation has many advantages over batch fermentation.')\n",
    "print(f'My favourite process is',{process})"
   ]
  },
  {
   "cell_type": "code",
   "execution_count": 33,
   "id": "108987d1",
   "metadata": {},
   "outputs": [
    {
     "name": "stdout",
     "output_type": "stream",
     "text": [
      "The productivity in continuous fermentation is 0.25g\n",
      "The productivity in batch fermentation is 0.5g\n",
      "Continuous fermentation has many advantages over batch fermentation.\n",
      "My favourite process is {'Continuous fermentation'}\n"
     ]
    }
   ],
   "source": [
    "# When the global and local variable have the same name:\n",
    "\n",
    "process='Continuous fermentation'\n",
    "\n",
    "def fermentation(process_name):\n",
    "    process='Batch fermentation'\n",
    "    if process_name==process:\n",
    "        return'0.5g'\n",
    "    else:\n",
    "        return '0.25g'\n",
    "    \n",
    "print('The productivity in continuous fermentation is',fermentation('Continuous fermentation'))\n",
    "print('The productivity in batch fermentation is',fermentation('Batch fermentation'))\n",
    "print('Continuous fermentation has many advantages over batch fermentation.')\n",
    "print(f'My favourite process is',{process})"
   ]
  },
  {
   "cell_type": "markdown",
   "id": "2fad1b46",
   "metadata": {},
   "source": [
    "# (args) and/or (*args) and Functions"
   ]
  },
  {
   "cell_type": "markdown",
   "id": "3dbc26a7",
   "metadata": {},
   "source": [
    "* When the number of arguments are unknown for a function, then the arguments can be packet into a tuple or a dictionary."
   ]
  },
  {
   "cell_type": "code",
   "execution_count": 2,
   "id": "31aff29e",
   "metadata": {},
   "outputs": [
    {
     "name": "stdout",
     "output_type": "stream",
     "text": [
      "Number of elements is 5\n",
      "Aspergillus niger\n",
      "insulinase\n",
      "batch\n",
      "1800U/mL activity\n",
      "45% yield\n",
      "\n"
     ]
    }
   ],
   "source": [
    "# Define a function regarding a tuple example.\n",
    "\n",
    "def function(*args):\n",
    "    print('Number of elements is',len(args))\n",
    "    for element in args:\n",
    "        print (element)\n",
    "        \n",
    "function('Aspergillus niger','insulinase','batch','1800U/mL activity','45% yield')\n",
    "print()\n",
    "        \n",
    "        "
   ]
  },
  {
   "cell_type": "code",
   "execution_count": 3,
   "id": "ed8f68f8",
   "metadata": {},
   "outputs": [
    {
     "name": "stdout",
     "output_type": "stream",
     "text": [
      "Number of elements is 4\n",
      "Saccharomyces\n",
      "paracitamol\n",
      "Continuous\n",
      "carob\n"
     ]
    }
   ],
   "source": [
    "function('Saccharomyces','paracitamol','Continuous','carob')"
   ]
  },
  {
   "cell_type": "code",
   "execution_count": 4,
   "id": "208e8e14",
   "metadata": {},
   "outputs": [
    {
     "name": "stdout",
     "output_type": "stream",
     "text": [
      "Number of elements is 1\n",
      "aayush\n"
     ]
    }
   ],
   "source": [
    "function('aayush')"
   ]
  },
  {
   "cell_type": "code",
   "execution_count": 6,
   "id": "911bfe4f",
   "metadata": {},
   "outputs": [
    {
     "name": "stdout",
     "output_type": "stream",
     "text": [
      "Number of elements is 2\n",
      "ayush\n",
      "36\n"
     ]
    }
   ],
   "source": [
    "function('ayush','36')"
   ]
  },
  {
   "cell_type": "code",
   "execution_count": 22,
   "id": "d388639c",
   "metadata": {},
   "outputs": [
    {
     "name": "stdout",
     "output_type": "stream",
     "text": [
      "Micoorganism : Aspergillus niger\n",
      "Substrate : Molasses\n",
      "Product : Insulline\n",
      "Fermentation_mode : Batch\n",
      "Activity : 1800 U/mL\n"
     ]
    }
   ],
   "source": [
    "# Define a function regarding a dictionary\n",
    "\n",
    "def function1(**args):\n",
    "    for key in args:\n",
    "        print(key,':',args[key])\n",
    "        \n",
    "function1(Micoorganism='Aspergillus niger',Substrate='Molasses',Product='Insulline',Fermentation_mode='Batch',Activity='1800 U/mL')"
   ]
  },
  {
   "cell_type": "code",
   "execution_count": 23,
   "id": "e42bc18c",
   "metadata": {},
   "outputs": [
    {
     "data": {
      "text/plain": [
       "function"
      ]
     },
     "execution_count": 23,
     "metadata": {},
     "output_type": "execute_result"
    }
   ],
   "source": [
    "type(function1)"
   ]
  },
  {
   "cell_type": "code",
   "execution_count": 29,
   "id": "2a016117",
   "metadata": {},
   "outputs": [
    {
     "name": "stdout",
     "output_type": "stream",
     "text": [
      "[0.577, 2.718, 3.14, 1.618, 1729, 6, 37]\n",
      "1780.053\n",
      "0.577\n",
      "1729\n",
      "7\n"
     ]
    }
   ],
   "source": [
    "# Define a function regarding the addition of elements into a list\n",
    "\n",
    "def addition(nlist):\n",
    "    nlist.append(3.14)\n",
    "    nlist.append(1.618)\n",
    "    nlist.append(1729)\n",
    "    nlist.append(6)\n",
    "    nlist.append(37)\n",
    "my_list=[0.577,2.718]\n",
    "addition(my_list)\n",
    "print(my_list)\n",
    "print(sum(my_list))\n",
    "print(min(my_list))\n",
    "print(max(my_list))\n",
    "print(len(my_list))"
   ]
  },
  {
   "cell_type": "markdown",
   "id": "aaf793ed",
   "metadata": {},
   "source": [
    "# Docstring in Functions"
   ]
  },
  {
   "cell_type": "code",
   "execution_count": 34,
   "id": "dcc886dd",
   "metadata": {},
   "outputs": [
    {
     "name": "stdout",
     "output_type": "stream",
     "text": [
      "The following function returns the sum of two parameters.\n",
      "8\n"
     ]
    }
   ],
   "source": [
    "# Define a function\n",
    "\n",
    "def addition (x,y):\n",
    "    '''The following function returns the sum of two parameters.''' #multiple line comment\n",
    "    \n",
    "    z=x+y\n",
    "    return z\n",
    "\n",
    "print(addition.__doc__)  #double underscore __doc__\n",
    "print(addition(3,5))\n"
   ]
  },
  {
   "cell_type": "code",
   "execution_count": 35,
   "id": "ac3ea771",
   "metadata": {},
   "outputs": [
    {
     "name": "stdout",
     "output_type": "stream",
     "text": [
      "The value is 720\n"
     ]
    }
   ],
   "source": [
    "# Calculating the factorial of a certain number.\n",
    "\n",
    "def factorial(number):\n",
    "    if number==0:\n",
    "        return 1\n",
    "    else:\n",
    "        return number*factorial(number-1)\n",
    "    \n",
    "    \n",
    "print('The value is',factorial(6))"
   ]
  },
  {
   "cell_type": "code",
   "execution_count": 38,
   "id": "54b3e6e3",
   "metadata": {},
   "outputs": [
    {
     "name": "stdout",
     "output_type": "stream",
     "text": [
      "The total of first ten numbers is 55\n"
     ]
    }
   ],
   "source": [
    "# Define a function that gives the total of the first ten numbers.\n",
    "\n",
    "def total_numbers(number,sum):\n",
    "    if number==11:\n",
    "        return sum\n",
    "    else:\n",
    "        return total_numbers(number+1,sum+number)\n",
    "    \n",
    "print('The total of first ten numbers is',total_numbers(1,0))"
   ]
  },
  {
   "cell_type": "code",
   "execution_count": 39,
   "id": "b277f114",
   "metadata": {},
   "outputs": [
    {
     "name": "stdout",
     "output_type": "stream",
     "text": [
      "20 --------------> 21\n"
     ]
    }
   ],
   "source": [
    "# Define a function that add a number what the next number?\n",
    "\n",
    "def added_num(num1):\n",
    "    def incremented_num(num1):\n",
    "        num1=num1+1\n",
    "        return num1\n",
    "    num2=incremented_num(num1)\n",
    "    print(num1,'-------------->',num2)\n",
    "    \n",
    "added_num(20)"
   ]
  },
  {
   "cell_type": "code",
   "execution_count": 40,
   "id": "87b6d92e",
   "metadata": {},
   "outputs": [
    {
     "name": "stdout",
     "output_type": "stream",
     "text": [
      "100 --------------> 101\n"
     ]
    }
   ],
   "source": [
    "added_num(100)"
   ]
  },
  {
   "cell_type": "code",
   "execution_count": null,
   "id": "127ee280",
   "metadata": {},
   "outputs": [],
   "source": [
    "# Define a function giving a message Welcome+your name"
   ]
  }
 ],
 "metadata": {
  "kernelspec": {
   "display_name": "Python 3 (ipykernel)",
   "language": "python",
   "name": "python3"
  },
  "language_info": {
   "codemirror_mode": {
    "name": "ipython",
    "version": 3
   },
   "file_extension": ".py",
   "mimetype": "text/x-python",
   "name": "python",
   "nbconvert_exporter": "python",
   "pygments_lexer": "ipython3",
   "version": "3.9.7"
  }
 },
 "nbformat": 4,
 "nbformat_minor": 5
}
