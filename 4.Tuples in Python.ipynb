{
 "cells": [
  {
   "cell_type": "markdown",
   "id": "aa87360a",
   "metadata": {},
   "source": [
    "# Tuples in Python"
   ]
  },
  {
   "cell_type": "markdown",
   "id": "3af73a93",
   "metadata": {},
   "source": [
    "* Tuples are immutable lists and can not be changed in any way once it is created."
   ]
  },
  {
   "cell_type": "markdown",
   "id": "285ad0d6",
   "metadata": {},
   "source": [
    "* Tuples are defined in the same way as lists.\n",
    "\n",
    "* They are enclosed within parenthesis and not within square braces. ()\n",
    "\n",
    "* Tuples are ordered, indexed collections of data.\n",
    "\n",
    "* Similar to string indices, the first value in the tuple will have the index[0], the second value[1]\n",
    "\n",
    "* Negative indices are counted from the end of the tuples, just like lists.\n",
    "\n",
    "* Tuples also has the same structure where commas separate the values.\n",
    "\n",
    "* Tuples can store duplicate values.\n",
    "\n",
    "* Tuples allow you to store several data items including string, integer, float in one variables."
   ]
  },
  {
   "cell_type": "code",
   "execution_count": 4,
   "id": "625254ff",
   "metadata": {},
   "outputs": [
    {
     "data": {
      "text/plain": [
       "('Hello',\n",
       " 'Python',\n",
       " 3.14,\n",
       " 1.618,\n",
       " True,\n",
       " False,\n",
       " 32,\n",
       " [1, 2, 3],\n",
       " {1, 2, 3},\n",
       " {'A': 3, 'B': 8},\n",
       " (0, 1),\n",
       " 'Python')"
      ]
     },
     "execution_count": 4,
     "metadata": {},
     "output_type": "execute_result"
    }
   ],
   "source": [
    "# Take a tuples\n",
    "tuple_1=('Hello','Python',3.14,1.618,True,False,32,[1,2,3],{1,2,3},{'A':3,'B':8},(0,1),\"Python\")\n",
    "tuple_1"
   ]
  },
  {
   "cell_type": "code",
   "execution_count": 5,
   "id": "2c1de4a5",
   "metadata": {},
   "outputs": [
    {
     "name": "stdout",
     "output_type": "stream",
     "text": [
      "<class 'tuple'>\n",
      "12\n"
     ]
    }
   ],
   "source": [
    "print(type(tuple_1))\n",
    "print(len(tuple_1))"
   ]
  },
  {
   "cell_type": "code",
   "execution_count": 21,
   "id": "20e8f406",
   "metadata": {},
   "outputs": [
    {
     "name": "stdout",
     "output_type": "stream",
     "text": [
      "Hello\n",
      "Python\n",
      "3.14\n",
      "1.618\n",
      "True\n",
      "False\n",
      "32\n",
      "[1, 2, 3]\n",
      "{1, 2, 3}\n",
      "{'A': 3, 'B': 8}\n",
      "(0, 1)\n",
      "Python\n"
     ]
    }
   ],
   "source": [
    "print(tuple_1[0])\n",
    "print(tuple_1[1])\n",
    "print(tuple_1[2])\n",
    "print(tuple_1[3])\n",
    "print(tuple_1[4])\n",
    "print(tuple_1[5])\n",
    "print(tuple_1[6])\n",
    "print(tuple_1[7])\n",
    "print(tuple_1[8])\n",
    "print(tuple_1[9])\n",
    "print(tuple_1[10])\n",
    "print(tuple_1[11])"
   ]
  },
  {
   "cell_type": "code",
   "execution_count": 23,
   "id": "b03a6986",
   "metadata": {},
   "outputs": [
    {
     "name": "stdout",
     "output_type": "stream",
     "text": [
      "<class 'str'>\n",
      "<class 'str'>\n",
      "<class 'float'>\n",
      "<class 'float'>\n",
      "<class 'bool'>\n",
      "<class 'bool'>\n",
      "<class 'int'>\n",
      "<class 'list'>\n",
      "<class 'set'>\n",
      "<class 'dict'>\n",
      "<class 'tuple'>\n",
      "<class 'str'>\n"
     ]
    }
   ],
   "source": [
    "# type\n",
    "print(type(tuple_1[0]))\n",
    "print(type(tuple_1[1]))\n",
    "print(type(tuple_1[2]))\n",
    "print(type(tuple_1[3]))\n",
    "print(type(tuple_1[4]))\n",
    "print(type(tuple_1[5]))\n",
    "print(type(tuple_1[6]))\n",
    "print(type(tuple_1[7]))\n",
    "print(type(tuple_1[8]))\n",
    "print(type(tuple_1[9]))\n",
    "print(type(tuple_1[10]))\n",
    "print(type(tuple_1[11]))"
   ]
  },
  {
   "cell_type": "markdown",
   "id": "dbea6dc0",
   "metadata": {},
   "source": [
    "# Concatenation of tuples"
   ]
  },
  {
   "cell_type": "markdown",
   "id": "3944f91a",
   "metadata": {},
   "source": [
    "* To concatenate tuples + Sing is used"
   ]
  },
  {
   "cell_type": "code",
   "execution_count": 25,
   "id": "3ffbe089",
   "metadata": {},
   "outputs": [
    {
     "data": {
      "text/plain": [
       "('Hello',\n",
       " 'Python',\n",
       " 3.14,\n",
       " 1.618,\n",
       " True,\n",
       " False,\n",
       " 32,\n",
       " [1, 2, 3],\n",
       " {1, 2, 3},\n",
       " {'A': 3, 'B': 8},\n",
       " (0, 1),\n",
       " 'Python',\n",
       " 'Hello World',\n",
       " 2022)"
      ]
     },
     "execution_count": 25,
     "metadata": {},
     "output_type": "execute_result"
    }
   ],
   "source": [
    "tuple_2=tuple_1+(\"Hello World\",2022)\n",
    "tuple_2\n"
   ]
  },
  {
   "cell_type": "markdown",
   "id": "441a94a8",
   "metadata": {},
   "source": [
    "# Repetition of a tuple"
   ]
  },
  {
   "cell_type": "code",
   "execution_count": 27,
   "id": "8b5b5ce9",
   "metadata": {},
   "outputs": [
    {
     "data": {
      "text/plain": [
       "(1, 2, 3, 4, 1, 2, 3, 4, 1, 2, 3, 4)"
      ]
     },
     "execution_count": 27,
     "metadata": {},
     "output_type": "execute_result"
    }
   ],
   "source": [
    "rep_tup=(1,2,3,4)\n",
    "rep_tup*3"
   ]
  },
  {
   "cell_type": "markdown",
   "id": "7337575d",
   "metadata": {},
   "source": [
    "# Membership "
   ]
  },
  {
   "cell_type": "code",
   "execution_count": 31,
   "id": "2bf9683b",
   "metadata": {},
   "outputs": [
    {
     "name": "stdout",
     "output_type": "stream",
     "text": [
      "True\n",
      "False\n",
      "False\n",
      "True\n"
     ]
    }
   ],
   "source": [
    "rep_tup=(1,2,3,4)\n",
    "print(2 in rep_tup)\n",
    "print(2 not in rep_tup)\n",
    "print( 5 in rep_tup)\n",
    "print( 5 not in rep_tup)"
   ]
  },
  {
   "cell_type": "markdown",
   "id": "702cede7",
   "metadata": {},
   "source": [
    "# Iteration"
   ]
  },
  {
   "cell_type": "code",
   "execution_count": 33,
   "id": "a8f45528",
   "metadata": {},
   "outputs": [
    {
     "name": "stdout",
     "output_type": "stream",
     "text": [
      "1\n",
      "2\n",
      "3\n",
      "4\n"
     ]
    }
   ],
   "source": [
    "rep_tup=(1,2,3,4)\n",
    "for s in rep_tup:\n",
    "    print(s)"
   ]
  },
  {
   "cell_type": "markdown",
   "id": "cc7a80ba",
   "metadata": {},
   "source": [
    "# min () function"
   ]
  },
  {
   "cell_type": "code",
   "execution_count": 34,
   "id": "3ac18cf7",
   "metadata": {},
   "outputs": [
    {
     "data": {
      "text/plain": [
       "1"
      ]
     },
     "execution_count": 34,
     "metadata": {},
     "output_type": "execute_result"
    }
   ],
   "source": [
    "rep_tup=(1,2,3,4)\n",
    "min(rep_tup)"
   ]
  },
  {
   "cell_type": "code",
   "execution_count": 35,
   "id": "9702f18e",
   "metadata": {},
   "outputs": [
    {
     "data": {
      "text/plain": [
       "6"
      ]
     },
     "execution_count": 35,
     "metadata": {},
     "output_type": "execute_result"
    }
   ],
   "source": [
    "# max() function\n",
    "rep_tup=(1,2,3,4,5,6)\n",
    "max(rep_tup)"
   ]
  },
  {
   "cell_type": "code",
   "execution_count": 41,
   "id": "88e8e91d",
   "metadata": {},
   "outputs": [
    {
     "data": {
      "text/plain": [
       "('A', 'T', 'G', 'C', 'T', 'A', 'T', 'T', 'G', 'C', 'C', 'A', 'T')"
      ]
     },
     "execution_count": 41,
     "metadata": {},
     "output_type": "execute_result"
    }
   ],
   "source": [
    "# tup(seq) functions\n",
    "# It converts a specific sequence to a tuple\n",
    "seq='ATGCTATTGCCAT'\n",
    "tuple(seq)"
   ]
  },
  {
   "cell_type": "markdown",
   "id": "237e746b",
   "metadata": {},
   "source": [
    "# Slicing"
   ]
  },
  {
   "cell_type": "markdown",
   "id": "82d9f9b5",
   "metadata": {},
   "source": [
    "* To obtain a new tuple from the current tuple, the slicing method is used."
   ]
  },
  {
   "cell_type": "code",
   "execution_count": 46,
   "id": "422f1a8a",
   "metadata": {},
   "outputs": [
    {
     "data": {
      "text/plain": [
       "(3.14, 1.618, True, False, 32, [1, 2, 3])"
      ]
     },
     "execution_count": 46,
     "metadata": {},
     "output_type": "execute_result"
    }
   ],
   "source": [
    "# Obtaining a new tuple from the index 2 to index 6.\n",
    "\n",
    "tuple_1=('Hello','Python',3.14,1.618,True,False,32,[1,2,3],{1,2,3},{'A':3,'B':8},(0,1),\"Python\")\n",
    "\n",
    "tuple_1[2:8]"
   ]
  },
  {
   "cell_type": "code",
   "execution_count": 47,
   "id": "330a9c2c",
   "metadata": {},
   "outputs": [
    {
     "data": {
      "text/plain": [
       "12"
      ]
     },
     "execution_count": 47,
     "metadata": {},
     "output_type": "execute_result"
    }
   ],
   "source": [
    "#len() function\n",
    "tuple_1=('Hello','Python',3.14,1.618,True,False,32,[1,2,3],{1,2,3},{'A':3,'B':8},(0,1),\"Python\")\n",
    "len(tuple_1)"
   ]
  },
  {
   "cell_type": "code",
   "execution_count": 49,
   "id": "f16738d7",
   "metadata": {},
   "outputs": [
    {
     "data": {
      "text/plain": [
       "[0, 1, 2, 3, 4, 5, 6, 7, 8, 9, 9]"
      ]
     },
     "execution_count": 49,
     "metadata": {},
     "output_type": "execute_result"
    }
   ],
   "source": [
    "# Sorting tuple\n",
    "\n",
    "tuple_3=(0,9,7,4,6,5,9,8,3,1,2) #Accending to descending\n",
    "sorted_tuple_3=sorted(tuple_3)\n",
    "sorted_tuple_3"
   ]
  },
  {
   "cell_type": "code",
   "execution_count": 50,
   "id": "d7597eb5",
   "metadata": {},
   "outputs": [
    {
     "data": {
      "text/plain": [
       "('biotechnology',\n",
       " (0, 5),\n",
       " ('fermantation', 'ethonal'),\n",
       " ('pi', 3.147),\n",
       " (1.618, 'golden ratio'))"
      ]
     },
     "execution_count": 50,
     "metadata": {},
     "output_type": "execute_result"
    }
   ],
   "source": [
    "# Nested tuple\n",
    "# In python, a tuple written inside another tuple is known as nested tuples.\n",
    "\n",
    "nested_tuple=('biotechnology',(0,5),('fermantation','ethonal'),('pi',3.147),(1.618,'golden ratio'))\n",
    "nested_tuple"
   ]
  },
  {
   "cell_type": "code",
   "execution_count": 56,
   "id": "076c1d14",
   "metadata": {},
   "outputs": [
    {
     "name": "stdout",
     "output_type": "stream",
     "text": [
      "Item 0 of nested tuple is:  biotechnology\n",
      "Item 1 of nested tuple is:  (0, 5)\n",
      "Item 2 of nested tuple is:  ('fermantation', 'ethonal')\n",
      "Item 3 of nested tuple is:  ('pi', 3.147)\n",
      "Item 4 of nested tuple is:  (1.618, 'golden ratio')\n"
     ]
    }
   ],
   "source": [
    "print(\"Item 0 of nested tuple is: \",nested_tuple[0])\n",
    "print(\"Item 1 of nested tuple is: \",nested_tuple[1])\n",
    "print(\"Item 2 of nested tuple is: \",nested_tuple[2])\n",
    "print(\"Item 3 of nested tuple is: \",nested_tuple[3])\n",
    "print(\"Item 4 of nested tuple is: \",nested_tuple[4])"
   ]
  },
  {
   "cell_type": "code",
   "execution_count": 58,
   "id": "2c42b726",
   "metadata": {},
   "outputs": [
    {
     "data": {
      "text/plain": [
       "'fermantation'"
      ]
     },
     "execution_count": 58,
     "metadata": {},
     "output_type": "execute_result"
    }
   ],
   "source": [
    "# how to print any item in the tuples\n",
    "nested_tuple=('biotechnology',(0,5),('fermantation','ethonal'),('pi',3.147),(1.618,'golden ratio'))\n",
    "nested_tuple[2][0]"
   ]
  },
  {
   "cell_type": "code",
   "execution_count": 59,
   "id": "d62873d3",
   "metadata": {},
   "outputs": [
    {
     "data": {
      "text/plain": [
       "3.147"
      ]
     },
     "execution_count": 59,
     "metadata": {},
     "output_type": "execute_result"
    }
   ],
   "source": [
    "nested_tuple=('biotechnology',(0,5),('fermantation','ethonal'),('pi',3.147),(1.618,'golden ratio'))\n",
    "nested_tuple[3][1]"
   ]
  },
  {
   "cell_type": "markdown",
   "id": "03bc4c35",
   "metadata": {},
   "source": [
    "# Tuples are immutable"
   ]
  },
  {
   "cell_type": "code",
   "execution_count": 62,
   "id": "b743cda1",
   "metadata": {},
   "outputs": [
    {
     "ename": "TypeError",
     "evalue": "'tuple' object does not support item assignment",
     "output_type": "error",
     "traceback": [
      "\u001b[1;31m---------------------------------------------------------------------------\u001b[0m",
      "\u001b[1;31mTypeError\u001b[0m                                 Traceback (most recent call last)",
      "\u001b[1;32mC:\\Users\\ROUSHA~1\\AppData\\Local\\Temp/ipykernel_16988/3442134382.py\u001b[0m in \u001b[0;36m<module>\u001b[1;34m\u001b[0m\n\u001b[0;32m      1\u001b[0m \u001b[1;31m# Take a tuple\u001b[0m\u001b[1;33m\u001b[0m\u001b[1;33m\u001b[0m\u001b[0m\n\u001b[0;32m      2\u001b[0m \u001b[0mtuple_4\u001b[0m\u001b[1;33m=\u001b[0m\u001b[1;33m(\u001b[0m\u001b[1;36m1\u001b[0m\u001b[1;33m,\u001b[0m\u001b[1;36m3\u001b[0m\u001b[1;33m,\u001b[0m\u001b[1;36m5\u001b[0m\u001b[1;33m,\u001b[0m\u001b[1;36m7\u001b[0m\u001b[1;33m,\u001b[0m\u001b[1;36m8\u001b[0m\u001b[1;33m)\u001b[0m\u001b[1;33m\u001b[0m\u001b[1;33m\u001b[0m\u001b[0m\n\u001b[1;32m----> 3\u001b[1;33m \u001b[0mtuple_4\u001b[0m\u001b[1;33m[\u001b[0m\u001b[1;36m0\u001b[0m\u001b[1;33m]\u001b[0m\u001b[1;33m=\u001b[0m\u001b[1;36m9\u001b[0m\u001b[1;33m\u001b[0m\u001b[1;33m\u001b[0m\u001b[0m\n\u001b[0m\u001b[0;32m      4\u001b[0m \u001b[0mprint\u001b[0m\u001b[1;33m(\u001b[0m\u001b[0mtuple_4\u001b[0m\u001b[1;33m)\u001b[0m\u001b[1;33m\u001b[0m\u001b[1;33m\u001b[0m\u001b[0m\n",
      "\u001b[1;31mTypeError\u001b[0m: 'tuple' object does not support item assignment"
     ]
    }
   ],
   "source": [
    "# Take a tuple\n",
    "tuple_4=(1,3,5,7,8)\n",
    "tuple_4[0]=9\n",
    "print(tuple_4)\n",
    "\n",
    "# The output shows the tuple is immutable"
   ]
  },
  {
   "cell_type": "markdown",
   "id": "3fb9ab3f",
   "metadata": {},
   "source": [
    "# Delete a tuple"
   ]
  },
  {
   "cell_type": "markdown",
   "id": "ad9c9d03",
   "metadata": {},
   "source": [
    "* An element in a tuple can not be deleted since it is immutable.\n",
    "* But a whole tuple can be deleted."
   ]
  },
  {
   "cell_type": "code",
   "execution_count": 63,
   "id": "f6532ef2",
   "metadata": {},
   "outputs": [
    {
     "name": "stdout",
     "output_type": "stream",
     "text": [
      "Before deleting. (1, 3, 5, 7, 8)\n"
     ]
    },
    {
     "ename": "TypeError",
     "evalue": "'tuple' object doesn't support item deletion",
     "output_type": "error",
     "traceback": [
      "\u001b[1;31m---------------------------------------------------------------------------\u001b[0m",
      "\u001b[1;31mTypeError\u001b[0m                                 Traceback (most recent call last)",
      "\u001b[1;32mC:\\Users\\ROUSHA~1\\AppData\\Local\\Temp/ipykernel_16988/3747181421.py\u001b[0m in \u001b[0;36m<module>\u001b[1;34m\u001b[0m\n\u001b[0;32m      1\u001b[0m \u001b[0mtuple_4\u001b[0m\u001b[1;33m=\u001b[0m\u001b[1;33m(\u001b[0m\u001b[1;36m1\u001b[0m\u001b[1;33m,\u001b[0m\u001b[1;36m3\u001b[0m\u001b[1;33m,\u001b[0m\u001b[1;36m5\u001b[0m\u001b[1;33m,\u001b[0m\u001b[1;36m7\u001b[0m\u001b[1;33m,\u001b[0m\u001b[1;36m8\u001b[0m\u001b[1;33m)\u001b[0m\u001b[1;33m\u001b[0m\u001b[1;33m\u001b[0m\u001b[0m\n\u001b[0;32m      2\u001b[0m \u001b[0mprint\u001b[0m\u001b[1;33m(\u001b[0m\u001b[1;34m'Before deleting.'\u001b[0m\u001b[1;33m,\u001b[0m\u001b[0mtuple_4\u001b[0m\u001b[1;33m)\u001b[0m\u001b[1;33m\u001b[0m\u001b[1;33m\u001b[0m\u001b[0m\n\u001b[1;32m----> 3\u001b[1;33m \u001b[1;32mdel\u001b[0m \u001b[0mtuple_4\u001b[0m\u001b[1;33m[\u001b[0m\u001b[1;36m0\u001b[0m\u001b[1;33m]\u001b[0m\u001b[1;33m\u001b[0m\u001b[1;33m\u001b[0m\u001b[0m\n\u001b[0m",
      "\u001b[1;31mTypeError\u001b[0m: 'tuple' object doesn't support item deletion"
     ]
    }
   ],
   "source": [
    "tuple_4=(1,3,5,7,8)\n",
    "print('Before deleting.',tuple_4)\n",
    "del tuple_4[0]\n",
    "\n",
    "# It can not delete the item in the tuple"
   ]
  },
  {
   "cell_type": "code",
   "execution_count": 64,
   "id": "c917e3ae",
   "metadata": {},
   "outputs": [
    {
     "name": "stdout",
     "output_type": "stream",
     "text": [
      "Before deleting. (1, 3, 5, 7, 8)\n"
     ]
    },
    {
     "ename": "NameError",
     "evalue": "name 'tuple_4' is not defined",
     "output_type": "error",
     "traceback": [
      "\u001b[1;31m---------------------------------------------------------------------------\u001b[0m",
      "\u001b[1;31mNameError\u001b[0m                                 Traceback (most recent call last)",
      "\u001b[1;32mC:\\Users\\ROUSHA~1\\AppData\\Local\\Temp/ipykernel_16988/1511955539.py\u001b[0m in \u001b[0;36m<module>\u001b[1;34m\u001b[0m\n\u001b[0;32m      2\u001b[0m \u001b[0mprint\u001b[0m\u001b[1;33m(\u001b[0m\u001b[1;34m'Before deleting.'\u001b[0m\u001b[1;33m,\u001b[0m\u001b[0mtuple_4\u001b[0m\u001b[1;33m)\u001b[0m\u001b[1;33m\u001b[0m\u001b[1;33m\u001b[0m\u001b[0m\n\u001b[0;32m      3\u001b[0m \u001b[1;32mdel\u001b[0m \u001b[0mtuple_4\u001b[0m\u001b[1;33m\u001b[0m\u001b[1;33m\u001b[0m\u001b[0m\n\u001b[1;32m----> 4\u001b[1;33m \u001b[0mprint\u001b[0m\u001b[1;33m(\u001b[0m\u001b[1;34m'After deleting.'\u001b[0m\u001b[1;33m,\u001b[0m\u001b[0mtuple_4\u001b[0m\u001b[1;33m)\u001b[0m\u001b[1;33m\u001b[0m\u001b[1;33m\u001b[0m\u001b[0m\n\u001b[0m",
      "\u001b[1;31mNameError\u001b[0m: name 'tuple_4' is not defined"
     ]
    }
   ],
   "source": [
    "tuple_4=(1,3,5,7,8)\n",
    "print('Before deleting.',tuple_4)\n",
    "del tuple_4\n",
    "print('After deleting.',tuple_4)"
   ]
  },
  {
   "cell_type": "markdown",
   "id": "5d7c9f68",
   "metadata": {},
   "source": [
    "# Count() method"
   ]
  },
  {
   "cell_type": "code",
   "execution_count": 4,
   "id": "847fddf1",
   "metadata": {},
   "outputs": [
    {
     "data": {
      "text/plain": [
       "4"
      ]
     },
     "execution_count": 4,
     "metadata": {},
     "output_type": "execute_result"
    }
   ],
   "source": [
    "tuple_5=(1,1,3,3,5,5,5,5,6,6,6,7,7,8,8,9)\n",
    "tuple_5.count(5)\n",
    "#len(tuple_5)\n"
   ]
  },
  {
   "cell_type": "code",
   "execution_count": 12,
   "id": "ac82e650",
   "metadata": {},
   "outputs": [
    {
     "name": "stdout",
     "output_type": "stream",
     "text": [
      "4\n",
      "0\n",
      "11\n",
      "13\n",
      "15\n"
     ]
    }
   ],
   "source": [
    "print(tuple_5.index(5))\n",
    "print(tuple_5.index(1))\n",
    "print(tuple_5.index(7))\n",
    "print(tuple_5.index(8))\n",
    "print(tuple_5.index(9))"
   ]
  },
  {
   "cell_type": "code",
   "execution_count": 15,
   "id": "450062b7",
   "metadata": {},
   "outputs": [
    {
     "data": {
      "text/plain": [
       "list"
      ]
     },
     "execution_count": 15,
     "metadata": {},
     "output_type": "execute_result"
    }
   ],
   "source": [
    "a=[1] #only one item can store list without comma.\n",
    "a\n",
    "type(a)"
   ]
  },
  {
   "cell_type": "code",
   "execution_count": 20,
   "id": "4e3293b5",
   "metadata": {},
   "outputs": [
    {
     "data": {
      "text/plain": [
       "tuple"
      ]
     },
     "execution_count": 20,
     "metadata": {},
     "output_type": "execute_result"
    }
   ],
   "source": [
    "b=(1,) # tuple can store one value with comma seperated.\n",
    "b\n",
    "type(b)"
   ]
  },
  {
   "cell_type": "code",
   "execution_count": null,
   "id": "7743bb79",
   "metadata": {},
   "outputs": [],
   "source": []
  }
 ],
 "metadata": {
  "kernelspec": {
   "display_name": "Python 3 (ipykernel)",
   "language": "python",
   "name": "python3"
  },
  "language_info": {
   "codemirror_mode": {
    "name": "ipython",
    "version": 3
   },
   "file_extension": ".py",
   "mimetype": "text/x-python",
   "name": "python",
   "nbconvert_exporter": "python",
   "pygments_lexer": "ipython3",
   "version": "3.9.7"
  }
 },
 "nbformat": 4,
 "nbformat_minor": 5
}
