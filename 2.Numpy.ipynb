{
 "cells": [
  {
   "cell_type": "markdown",
   "id": "6a63a3b6",
   "metadata": {},
   "source": [
    "# Numpy"
   ]
  },
  {
   "cell_type": "code",
   "execution_count": 1,
   "id": "947c2f4f",
   "metadata": {},
   "outputs": [],
   "source": [
    "import numpy as np"
   ]
  },
  {
   "cell_type": "code",
   "execution_count": 3,
   "id": "bb47dd82",
   "metadata": {},
   "outputs": [
    {
     "data": {
      "text/plain": [
       "<function numpy.array>"
      ]
     },
     "execution_count": 3,
     "metadata": {},
     "output_type": "execute_result"
    }
   ],
   "source": [
    "np.array"
   ]
  },
  {
   "cell_type": "code",
   "execution_count": 4,
   "id": "406e049d",
   "metadata": {},
   "outputs": [
    {
     "data": {
      "text/plain": [
       "array(<class 'object'>, dtype=object)"
      ]
     },
     "execution_count": 4,
     "metadata": {},
     "output_type": "execute_result"
    }
   ],
   "source": [
    "np.array(object,dtype=None, copy=True, order=None, subok=False,ndmin=0)"
   ]
  },
  {
   "cell_type": "markdown",
   "id": "0e536c60",
   "metadata": {},
   "source": [
    "The above constructor takes the following parameters:\n",
    "               * Object-----> Any object exposing the array interface method returns an array, or any nested sequence.\n",
    "               \n",
    "               * dtype -----> Desired data type of array, optinal\n",
    "               * copy-------> Optional. By default(true), the object is copied.\n",
    "               * order------> C(row major) or F (column major) or A(any) default.\n",
    "              * subok------> By default, returned array forced to be a base class array. If ture, sub classes passed though.\n",
    "               * ndmin------> Specifies minimum dimensions of resultant array."
   ]
  },
  {
   "cell_type": "code",
   "execution_count": 5,
   "id": "00c824d2",
   "metadata": {},
   "outputs": [
    {
     "name": "stdout",
     "output_type": "stream",
     "text": [
      "[1 2 3]\n"
     ]
    }
   ],
   "source": [
    "import numpy as np\n",
    "\n",
    "a=np.array([1,2,3])\n",
    "print(a)"
   ]
  },
  {
   "cell_type": "code",
   "execution_count": 7,
   "id": "12244a1c",
   "metadata": {},
   "outputs": [
    {
     "name": "stdout",
     "output_type": "stream",
     "text": [
      "[[1 2]\n",
      " [3 4]]\n"
     ]
    }
   ],
   "source": [
    "# more than one dimenson\n",
    "import numpy as np\n",
    "\n",
    "a = np.array([[1,2],[3,4]])\n",
    "print(a)"
   ]
  },
  {
   "cell_type": "code",
   "execution_count": 8,
   "id": "4f78b9f3",
   "metadata": {},
   "outputs": [
    {
     "name": "stdout",
     "output_type": "stream",
     "text": [
      "[[[1 2]\n",
      "  [3 4]\n",
      "  [5 6]]]\n"
     ]
    }
   ],
   "source": [
    "a = np.array([[[1,2],[3,4],[5,6]]])\n",
    "print(a)"
   ]
  },
  {
   "cell_type": "code",
   "execution_count": 11,
   "id": "7e5bf6a2",
   "metadata": {},
   "outputs": [
    {
     "name": "stdout",
     "output_type": "stream",
     "text": [
      "[[1 2 3 4 5]]\n"
     ]
    }
   ],
   "source": [
    "# Minimum dimensions\n",
    "import numpy as np\n",
    "\n",
    "a= np.array([1,2,3,4,5], ndmin=2)\n",
    "print(a)"
   ]
  },
  {
   "cell_type": "code",
   "execution_count": 13,
   "id": "1448b5e8",
   "metadata": {},
   "outputs": [
    {
     "name": "stdout",
     "output_type": "stream",
     "text": [
      "[1.+0.j 2.+0.j 3.+0.j]\n"
     ]
    },
    {
     "data": {
      "text/plain": [
       "'The ndarray object consists of contigious one-dimension segment of computer memory, combined with an indeding scheme that maps each items to a location in the memory block. The memory blcok holds the elements in a a row-major order or a column-major order(FORTRAN or MatLab style)'"
      ]
     },
     "execution_count": 13,
     "metadata": {},
     "output_type": "execute_result"
    }
   ],
   "source": [
    "# dtype parameter\n",
    "\n",
    "import numpy as np\n",
    "\n",
    "a= np.array([1,2,3], dtype=complex)\n",
    "\n",
    "print(a)\n",
    "\n",
    "'''The ndarray object consists of contigious one-dimension segment of computer memory, combined with an indeding scheme that maps each items to a location in the memory block. The memory blcok holds the elements in a a row-major order or a column-major order(FORTRAN or MatLab style)'''"
   ]
  },
  {
   "cell_type": "markdown",
   "id": "95737169",
   "metadata": {},
   "source": [
    "# Numpy Data types"
   ]
  },
  {
   "cell_type": "markdown",
   "id": "96d0d0ad",
   "metadata": {},
   "source": [
    "          *Data_Types-----------> Description\n",
    "          \n",
    "          * bool_---------------> Boolean(True or False) Stroed as byte.\n",
    "          * int_----------------> Default integer type(same as C long; normally either int64 or int32)\n",
    "          * intc----------------> Identical to C int(normally int32 or int64)\n",
    "          * intp----------------> Integer used for indexing (same as C size_t; normally either int32 or int64)\n",
    "          * int8----------------> Byte(-128 to 127)\n",
    "          * int32---------------> Integer(-32768 to 32767)\n",
    "          * int64---------------> Integer (-9223372036854775808  to 9223372036854775807)\n",
    "          * uint8---------------> Unsigned intger(0 to 255)\n",
    "          * uint16--------------> Unsigend integer(0 to 65535)\n",
    "          * uint32--------------> Unsigend integer(0 to 4294967295)\n",
    "          * uint64--------------> Unsigned integer(0 to 18446744073709551615)\n",
    "          * float_--------------> Shorthand for float64\n",
    "          * float16-------------> Half precision float: sign bit, 5 bit exponent, 10 bits mantissa\n",
    "          * float32-------------> Single precision float: sign bit, 8 bits exponent, 23 bits mantissa.\n",
    "          * float64-------------> Double precison float; sign bit, 11 bits exponent, 52 bits mantissa.\n",
    "          * complex_------------> Shorthand for complex128\n",
    "          * complex64-----------> Complex number, represented by two 32-bit floats(real and imaginary components)\n",
    "          * complex128----------> Complex number, represented by two 64-bit floats(real and imaginary components)"
   ]
  },
  {
   "cell_type": "code",
   "execution_count": 17,
   "id": "93d01379",
   "metadata": {},
   "outputs": [
    {
     "name": "stdout",
     "output_type": "stream",
     "text": [
      "int32\n"
     ]
    }
   ],
   "source": [
    "# using array-scalar type\n",
    "\n",
    "import numpy as np\n",
    "\n",
    "dt=np.dtype(np.int32)\n",
    "print(dt)"
   ]
  },
  {
   "cell_type": "code",
   "execution_count": 18,
   "id": "4f9d6701",
   "metadata": {},
   "outputs": [
    {
     "data": {
      "text/plain": [
       "dtype('int32')"
      ]
     },
     "execution_count": 18,
     "metadata": {},
     "output_type": "execute_result"
    }
   ],
   "source": [
    "# int8,int16,int32, int64 can be replaced by equivalent string'i1','i2','i4','i8'\n",
    "dt=np.dtype('i4')\n",
    "dt"
   ]
  },
  {
   "cell_type": "code",
   "execution_count": 19,
   "id": "c182b4e8",
   "metadata": {},
   "outputs": [
    {
     "data": {
      "text/plain": [
       "dtype('>i4')"
      ]
     },
     "execution_count": 19,
     "metadata": {},
     "output_type": "execute_result"
    }
   ],
   "source": [
    "dt=np.dtype('>i4')\n",
    "dt"
   ]
  },
  {
   "cell_type": "code",
   "execution_count": 23,
   "id": "2f805fbc",
   "metadata": {},
   "outputs": [
    {
     "name": "stdout",
     "output_type": "stream",
     "text": [
      "[('age', 'i1')]\n"
     ]
    }
   ],
   "source": [
    "# First create structured data type\n",
    "\n",
    "import numpy as np\n",
    "\n",
    "dt= np.dtype([('age',np.int8)])\n",
    "print(dt)"
   ]
  },
  {
   "cell_type": "code",
   "execution_count": 30,
   "id": "9eef315e",
   "metadata": {},
   "outputs": [
    {
     "name": "stdout",
     "output_type": "stream",
     "text": [
      "[(10,) (20,) (30,)]\n"
     ]
    }
   ],
   "source": [
    "# now apply it to ndarray object\n",
    "\n",
    "import numpy as np\n",
    "\n",
    "dt=np.dtype([('age',np.int8)])\n",
    "a= np.array([(10,),(20,),(30)], dtype=dt)\n",
    "print(a)"
   ]
  },
  {
   "cell_type": "code",
   "execution_count": 31,
   "id": "8f9a52c4",
   "metadata": {},
   "outputs": [
    {
     "name": "stdout",
     "output_type": "stream",
     "text": [
      "[10 20 30]\n"
     ]
    }
   ],
   "source": [
    "# file name can be used to access content of age column\n",
    "\n",
    "import numpy as np\n",
    "dt= np.dtype([('age', np.int8)])\n",
    "a = np.array([(10,),(20,),(30)], dtype=dt)\n",
    "print(a['age'])"
   ]
  },
  {
   "cell_type": "code",
   "execution_count": 32,
   "id": "14c96955",
   "metadata": {},
   "outputs": [
    {
     "name": "stdout",
     "output_type": "stream",
     "text": [
      "[('name', 'S20'), ('age', 'i1'), ('marks', '<f4')]\n"
     ]
    }
   ],
   "source": [
    "import numpy as np\n",
    "\n",
    "student=np.dtype([('name','S20'),('age','i1'),('marks','f4')])\n",
    "print(student)"
   ]
  },
  {
   "cell_type": "code",
   "execution_count": 35,
   "id": "17156a8d",
   "metadata": {},
   "outputs": [
    {
     "name": "stdout",
     "output_type": "stream",
     "text": [
      "[(b'Ayush', 21, 50.) (b'Kartik', 18, 70.)]\n"
     ]
    }
   ],
   "source": [
    "import numpy as np\n",
    "\n",
    "student=np.dtype([('name','S20'),('age','i1'),('marks','f4')])\n",
    "a=np.array([('Ayush',21,50),('Kartik',18,70)],dtype=student)\n",
    "print(a)"
   ]
  },
  {
   "cell_type": "markdown",
   "id": "bf89e169",
   "metadata": {},
   "source": [
    "Each build-in data type has a character code that uniquely identifies it.\n",
    "\n",
    "    * 'b': boolean\n",
    "    * 'i': (signed) integer\n",
    "    * 'u': unsigned integer\n",
    "    * 'f': floating-point\n",
    "    * 'c': complex-floating point\n",
    "    * 'm': timedelta\n",
    "    * 'M': datetime\n",
    "    * 'O': (python) Objects\n",
    "    * 'S','a': (byte-) string\n",
    "    * 'U': Unicode\n",
    "    * 'V': raw data(void)\n"
   ]
  },
  {
   "cell_type": "code",
   "execution_count": 40,
   "id": "ca60965e",
   "metadata": {},
   "outputs": [
    {
     "name": "stdout",
     "output_type": "stream",
     "text": [
      "[[1 2 3]\n",
      " [4 5 6]]\n"
     ]
    }
   ],
   "source": [
    "import numpy as np\n",
    "\n",
    "a=np.array([[1,2,3],[4,5,6]])\n",
    "print(a)"
   ]
  },
  {
   "cell_type": "code",
   "execution_count": 41,
   "id": "37bded48",
   "metadata": {},
   "outputs": [
    {
     "name": "stdout",
     "output_type": "stream",
     "text": [
      "(2, 3)\n"
     ]
    }
   ],
   "source": [
    "import numpy as np\n",
    "\n",
    "a=np.array([[1,2,3],[4,5,6]])\n",
    "print(a.shape)"
   ]
  },
  {
   "cell_type": "code",
   "execution_count": 6,
   "id": "a2e02aca",
   "metadata": {},
   "outputs": [
    {
     "name": "stdout",
     "output_type": "stream",
     "text": [
      "[[[1 2 3]\n",
      "  [4 5 6]\n",
      "  [7 8 9]]]\n",
      "3\n"
     ]
    }
   ],
   "source": [
    "import numpy as np\n",
    "\n",
    "a=np.array([[[1,2,3],[4,5,6],[7,8,9]]])\n",
    "print(a)\n",
    "print(a.ndim)"
   ]
  },
  {
   "cell_type": "code",
   "execution_count": 43,
   "id": "2d5fff64",
   "metadata": {},
   "outputs": [
    {
     "name": "stdout",
     "output_type": "stream",
     "text": [
      "(1, 3, 3)\n"
     ]
    }
   ],
   "source": [
    "print(a.shape)"
   ]
  },
  {
   "cell_type": "code",
   "execution_count": 5,
   "id": "4f619e63",
   "metadata": {},
   "outputs": [
    {
     "name": "stdout",
     "output_type": "stream",
     "text": [
      "[[1 2]\n",
      " [3 4]\n",
      " [5 6]]\n",
      "2\n"
     ]
    }
   ],
   "source": [
    "# NumPy also provides a reshape function to resize an array.\n",
    "\n",
    "import numpy as np\n",
    "\n",
    "a = np.array([[1,2,3],[4,5,6]])\n",
    "\n",
    "b= a.reshape(3,2)\n",
    "print(b)\n",
    "print(b.ndim)"
   ]
  },
  {
   "cell_type": "code",
   "execution_count": 4,
   "id": "0ac7c07d",
   "metadata": {},
   "outputs": [
    {
     "name": "stdout",
     "output_type": "stream",
     "text": [
      "[[1 2 3]\n",
      " [4 5 6]]\n",
      "2\n"
     ]
    }
   ],
   "source": [
    "import numpy as np\n",
    "\n",
    "a = np.array([[1,2,3],[4,5,6]])\n",
    "\n",
    "b= a.reshape(2,3)\n",
    "print(b)\n",
    "print(b.ndim)"
   ]
  },
  {
   "cell_type": "code",
   "execution_count": 2,
   "id": "02db7c31",
   "metadata": {},
   "outputs": [
    {
     "name": "stdout",
     "output_type": "stream",
     "text": [
      "[ 0  1  2  3  4  5  6  7  8  9 10 11 12 13 14 15 16 17 18 19 20 21 22 23]\n"
     ]
    }
   ],
   "source": [
    "# an array of evenly spaced numbers\n",
    "\n",
    "import numpy as np\n",
    "\n",
    "a =  np.arange(24)\n",
    "print (a)"
   ]
  },
  {
   "cell_type": "code",
   "execution_count": 11,
   "id": "eb3e69f4",
   "metadata": {},
   "outputs": [
    {
     "name": "stdout",
     "output_type": "stream",
     "text": [
      "1\n",
      "[[[ 0  1  2]\n",
      "  [ 3  4  5]\n",
      "  [ 6  7  8]\n",
      "  [ 9 10 11]]\n",
      "\n",
      " [[12 13 14]\n",
      "  [15 16 17]\n",
      "  [18 19 20]\n",
      "  [21 22 23]]]\n",
      "3\n"
     ]
    }
   ],
   "source": [
    "# this is one dimentional array\n",
    "\n",
    "import numpy as np\n",
    "\n",
    "a = np.arange(24)\n",
    "print(a.ndim)\n",
    "\n",
    "\n",
    "# now reshape it\n",
    "\n",
    "b = a.reshape(2,4,3)\n",
    "print(b)\n",
    "print(b.ndim)"
   ]
  },
  {
   "cell_type": "code",
   "execution_count": 19,
   "id": "94a1eb71",
   "metadata": {},
   "outputs": [
    {
     "name": "stdout",
     "output_type": "stream",
     "text": [
      "1\n"
     ]
    }
   ],
   "source": [
    "# dtype of array is int8 (1 byte)\n",
    "\n",
    "import numpy as np\n",
    "\n",
    "x = np. array([1,2,3,4,5], dtype=np.int8)\n",
    "\n",
    "print(x.itemsize)"
   ]
  },
  {
   "cell_type": "code",
   "execution_count": 20,
   "id": "ff376541",
   "metadata": {},
   "outputs": [
    {
     "name": "stdout",
     "output_type": "stream",
     "text": [
      "2\n"
     ]
    }
   ],
   "source": [
    "# dtype of array is int8 (1 byte)\n",
    "\n",
    "import numpy as np\n",
    "\n",
    "x = np. array([1,2,3,4,5], dtype=np.int16)\n",
    "\n",
    "print(x.itemsize)"
   ]
  },
  {
   "cell_type": "code",
   "execution_count": 21,
   "id": "3715776b",
   "metadata": {},
   "outputs": [
    {
     "name": "stdout",
     "output_type": "stream",
     "text": [
      "4\n"
     ]
    }
   ],
   "source": [
    "# dtype of array is int8 (1 byte)\n",
    "\n",
    "import numpy as np\n",
    "\n",
    "x = np. array([1,2,3,4,5], dtype=np.int32)\n",
    "\n",
    "print(x.itemsize)"
   ]
  },
  {
   "cell_type": "code",
   "execution_count": 22,
   "id": "a81e0503",
   "metadata": {},
   "outputs": [
    {
     "name": "stdout",
     "output_type": "stream",
     "text": [
      "8\n"
     ]
    }
   ],
   "source": [
    "# dtype of array is int8 (1 byte)\n",
    "\n",
    "import numpy as np\n",
    "\n",
    "x = np. array([1,2,3,4,5], dtype=np.int64)\n",
    "\n",
    "print(x.itemsize)"
   ]
  },
  {
   "cell_type": "code",
   "execution_count": 26,
   "id": "c29dbc5c",
   "metadata": {},
   "outputs": [
    {
     "name": "stdout",
     "output_type": "stream",
     "text": [
      "4\n"
     ]
    }
   ],
   "source": [
    "# dtype of array is float32 (4 byte)\n",
    "\n",
    "import numpy as np\n",
    "\n",
    "x = np. array([1,2,3,4,5], dtype=np.float32)\n",
    "\n",
    "print(x.itemsize)"
   ]
  },
  {
   "cell_type": "markdown",
   "id": "04f2a991",
   "metadata": {},
   "source": [
    "# numpy.flags"
   ]
  },
  {
   "cell_type": "markdown",
   "id": "494d21ee",
   "metadata": {},
   "source": [
    "The ndarray object has the following attributes. Its current value are returned by this  functions\n",
    "\n",
    "        * C_CONTIGUOUS(C):----------> The data is in a single, C-style contiguous segment.\n",
    "        * F_CONTIGUOUS(F):----------> The data is in a single, Fortran-style contiguous segment.\n",
    "        * OWNDATA(O):---------------> The array owns the memory it uses or borrows it from another objects.\n",
    "        * WRITEABLE (W):------------> The data area can be written to. Setting this to False locks the data, making it read only.\n",
    "        * ALIGNED(A):---------------> The data and all elements are aligned appropriately for the hardware.\n",
    "        * UPDATEIFCOPY(U):----------> This array is a copy of some other array. When this array is deallocated, the base array will be updated with the contents of this array."
   ]
  },
  {
   "cell_type": "code",
   "execution_count": 27,
   "id": "15cd990f",
   "metadata": {},
   "outputs": [
    {
     "name": "stdout",
     "output_type": "stream",
     "text": [
      "  C_CONTIGUOUS : True\n",
      "  F_CONTIGUOUS : True\n",
      "  OWNDATA : True\n",
      "  WRITEABLE : True\n",
      "  ALIGNED : True\n",
      "  WRITEBACKIFCOPY : False\n",
      "  UPDATEIFCOPY : False\n",
      "\n"
     ]
    }
   ],
   "source": [
    "import numpy as np\n",
    "\n",
    "x = np.array([1,2,3,4,5])\n",
    "print(x.flags)"
   ]
  },
  {
   "cell_type": "markdown",
   "id": "e8456ff6",
   "metadata": {},
   "source": [
    "# numpy. empty"
   ]
  },
  {
   "cell_type": "markdown",
   "id": "c66f256b",
   "metadata": {},
   "source": [
    "A new ndarray object can be constructed by any of the following array creation routines or using a low-level ndarray constructor.\n",
    "\n",
    "* It creates unintialized array of specified shape and dtype. It uses the following constructor:"
   ]
  },
  {
   "cell_type": "markdown",
   "id": "d8074605",
   "metadata": {},
   "source": [
    " The constructor takes the following parameters.\n",
    "\n",
    "    * Shape ------------> Shape of an empty array in int or tuple of int.\n",
    "    * Dtype-------------> Desired output data type. Optional\n",
    "    * Order-------------> 'c' for C-style row-major array. 'F' for FORTRAN style column-major array."
   ]
  },
  {
   "cell_type": "code",
   "execution_count": 33,
   "id": "ab983e56",
   "metadata": {},
   "outputs": [
    {
     "name": "stdout",
     "output_type": "stream",
     "text": [
      "[[1 2]\n",
      " [3 4]\n",
      " [5 6]]\n"
     ]
    }
   ],
   "source": [
    "import numpy as np\n",
    "x = np.empty([3,2], dtype=int)\n",
    "print(x)\n",
    "\n",
    "# The element in an array show random values as they are initialized."
   ]
  },
  {
   "cell_type": "code",
   "execution_count": 34,
   "id": "96511b38",
   "metadata": {},
   "outputs": [
    {
     "name": "stdout",
     "output_type": "stream",
     "text": [
      "[0. 0. 0. 0. 0.]\n"
     ]
    }
   ],
   "source": [
    "# array of five zeros. Default dtype is float.\n",
    "\n",
    "import numpy as np\n",
    "\n",
    "x = np.zeros(5)\n",
    "print(x)"
   ]
  },
  {
   "cell_type": "code",
   "execution_count": 43,
   "id": "0d8f3e98",
   "metadata": {},
   "outputs": [
    {
     "name": "stdout",
     "output_type": "stream",
     "text": [
      "[0 0 0 0 0]\n"
     ]
    }
   ],
   "source": [
    "import numpy as np\n",
    "\n",
    "x = np.zeros((5), dtype=np.int8)\n",
    "print(x)"
   ]
  },
  {
   "cell_type": "code",
   "execution_count": 38,
   "id": "39d7e20a",
   "metadata": {},
   "outputs": [
    {
     "name": "stdout",
     "output_type": "stream",
     "text": [
      "[[(0, 0) (0, 0)]\n",
      " [(0, 0) (0, 0)]]\n",
      "2\n"
     ]
    }
   ],
   "source": [
    "# Custom type\n",
    "\n",
    "import numpy as np\n",
    "\n",
    "x = np.zeros((2,2), dtype=[('x','i4'),('y','i4')])\n",
    "print(x)\n",
    "print(x.ndim)"
   ]
  },
  {
   "cell_type": "markdown",
   "id": "02499828",
   "metadata": {},
   "source": [
    "# numpy.ones"
   ]
  },
  {
   "cell_type": "markdown",
   "id": "be1cc42d",
   "metadata": {},
   "source": [
    "Return a new array of specified size and type, filled with ones.\n",
    "\n",
    "The constructor takes the following parameter\n",
    "\n",
    "    * Shape ---------------> Shape of an empty array in int or tuple of int.\n",
    "    * Dtype ---------------> Desired output data type. Optional.\n",
    "    * Order ---------------> 'C' for C-style row-major array, 'F' for FORTRAN Style column-major array"
   ]
  },
  {
   "cell_type": "code",
   "execution_count": 48,
   "id": "194524ac",
   "metadata": {},
   "outputs": [
    {
     "name": "stdout",
     "output_type": "stream",
     "text": [
      "[1. 1. 1. 1. 1.]\n"
     ]
    }
   ],
   "source": [
    "# Array of five ones. Default dtype is float.\n",
    "\n",
    "\n",
    "import numpy as np\n",
    "x = np. ones(5)\n",
    "print(x)"
   ]
  },
  {
   "cell_type": "code",
   "execution_count": 49,
   "id": "ad91e8e8",
   "metadata": {},
   "outputs": [
    {
     "name": "stdout",
     "output_type": "stream",
     "text": [
      "[1 1 1 1 1]\n"
     ]
    }
   ],
   "source": [
    "# Array of five ones. Default dtype is float.\n",
    "\n",
    "\n",
    "import numpy as np\n",
    "x = np. ones((5), dtype=int)\n",
    "print(x)"
   ]
  },
  {
   "cell_type": "code",
   "execution_count": 51,
   "id": "8db649e4",
   "metadata": {},
   "outputs": [
    {
     "name": "stdout",
     "output_type": "stream",
     "text": [
      "[[1 1]\n",
      " [1 1]]\n"
     ]
    }
   ],
   "source": [
    "import numpy as np\n",
    "\n",
    "x= np. ones([2,2], dtype=int)\n",
    "print(x)"
   ]
  },
  {
   "cell_type": "markdown",
   "id": "a559671d",
   "metadata": {},
   "source": [
    "# numpy. asarray"
   ]
  },
  {
   "cell_type": "markdown",
   "id": "75799df5",
   "metadata": {},
   "source": [
    "This function is similar to numpy.array except for the fact that it has fewer parameters. This\n",
    "routine is useful for converting Python Sequence into ndarray.\n",
    "\n",
    "* The Constructor takes the following parameters.\n",
    "\n",
    "           * a ----------> Input data in any form such as list, list of tuples, tuples, tuple of tuples or tuple of lists.\n",
    "           * dtype ------> By default, the data type of input data is applied to the resultant ndarray.\n",
    "           * order-------> C(row major) or F(colum major), C is default."
   ]
  },
  {
   "cell_type": "code",
   "execution_count": 53,
   "id": "43e0eee0",
   "metadata": {},
   "outputs": [
    {
     "name": "stdout",
     "output_type": "stream",
     "text": [
      "[1 2 3]\n"
     ]
    }
   ],
   "source": [
    "# convert list to ndarray.\n",
    "\n",
    "import numpy as np\n",
    "\n",
    "x = [1,2,3]\n",
    "a = np.asarray(x)\n",
    "print(a)"
   ]
  },
  {
   "cell_type": "code",
   "execution_count": 56,
   "id": "469b2557",
   "metadata": {},
   "outputs": [
    {
     "name": "stdout",
     "output_type": "stream",
     "text": [
      "[1. 2. 3.]\n"
     ]
    }
   ],
   "source": [
    "# dtype is set\n",
    "import numpy as np\n",
    "\n",
    "x = [1,2,3]\n",
    "a = np.asarray(x, dtype=float)\n",
    "print(a)"
   ]
  },
  {
   "cell_type": "code",
   "execution_count": 57,
   "id": "eba89c53",
   "metadata": {},
   "outputs": [
    {
     "name": "stdout",
     "output_type": "stream",
     "text": [
      "[1 2 3]\n"
     ]
    }
   ],
   "source": [
    "# ndarray from tuple\n",
    "\n",
    "import numpy as np\n",
    "\n",
    "x= (1,2,3)\n",
    "\n",
    "a= np.asarray(x)\n",
    "print(a)"
   ]
  },
  {
   "cell_type": "code",
   "execution_count": 62,
   "id": "1d5b68b4",
   "metadata": {},
   "outputs": [
    {
     "name": "stdout",
     "output_type": "stream",
     "text": [
      "[(1, 2, 3) (4, 5)]\n"
     ]
    },
    {
     "name": "stderr",
     "output_type": "stream",
     "text": [
      "C:\\Users\\ROUSHA~1\\AppData\\Local\\Temp/ipykernel_17764/1517367955.py:6: VisibleDeprecationWarning: Creating an ndarray from ragged nested sequences (which is a list-or-tuple of lists-or-tuples-or ndarrays with different lengths or shapes) is deprecated. If you meant to do this, you must specify 'dtype=object' when creating the ndarray.\n",
      "  a = np.array(x)\n"
     ]
    }
   ],
   "source": [
    "# ndarray form list of tuples.\n",
    "\n",
    "import numpy as np\n",
    "\n",
    "x=[(1,2,3),(4,5)]\n",
    "a = np.array(x)\n",
    "print(a)"
   ]
  },
  {
   "cell_type": "markdown",
   "id": "780b57de",
   "metadata": {},
   "source": [
    "# numpy. frombuffer"
   ]
  },
  {
   "cell_type": "markdown",
   "id": "915086c9",
   "metadata": {},
   "source": [
    "This function interprets a buffer as one-dimensional array. Any object that exposes the buffer interface is used as parameter to return an ndarray.\n",
    "\n",
    "The constructor takes the following parameters.\n",
    "\n",
    "        * buffer-------------> Any object that exposes buffer interface\n",
    "        \n",
    "        * dtype--------------> Data type of returned ndarray. Defaults to float.\n",
    "        \n",
    "        * count--------------> The number of items to read, default-1 means all data.\n",
    "        \n",
    "        * offset-------------> The starting position to read from. Default is 0"
   ]
  },
  {
   "cell_type": "code",
   "execution_count": 74,
   "id": "a0369a85",
   "metadata": {},
   "outputs": [
    {
     "name": "stdout",
     "output_type": "stream",
     "text": [
      "[b'H' b'e' b'l' b'l' b'o' b' ' b'W' b'o' b'r' b'l' b'd']\n"
     ]
    }
   ],
   "source": [
    "import numpy as np\n",
    "\n",
    "s = b'Hello World'\n",
    "\n",
    "a = np.frombuffer(s, dtype='S1')\n",
    "print(a)"
   ]
  },
  {
   "cell_type": "markdown",
   "id": "a3a66026",
   "metadata": {},
   "source": [
    "# numpy.fromiter"
   ]
  },
  {
   "cell_type": "markdown",
   "id": "263c843f",
   "metadata": {},
   "source": [
    "This function builds an ndarray object from any iterable object. A new one-dimensional array is returned by this function.\n"
   ]
  },
  {
   "cell_type": "markdown",
   "id": "d86c52ce",
   "metadata": {},
   "source": [
    "* iterable----------> Any iterable object.\n",
    "* dtype-------------> Data type of resultant array.\n",
    "* count-------------> The number of items to be read from iterator. Default is-1 which means all data to be read."
   ]
  },
  {
   "cell_type": "code",
   "execution_count": 1,
   "id": "1e476988",
   "metadata": {},
   "outputs": [
    {
     "name": "stdout",
     "output_type": "stream",
     "text": [
      "range(0, 5)\n"
     ]
    }
   ],
   "source": [
    "# Create list object using range function\n",
    "\n",
    "\n",
    "import numpy as np\n",
    "list = range(5)\n",
    "\n",
    "print(list)"
   ]
  },
  {
   "cell_type": "code",
   "execution_count": 4,
   "id": "76cf093b",
   "metadata": {},
   "outputs": [
    {
     "name": "stdout",
     "output_type": "stream",
     "text": [
      "[0 1 2 3 4]\n"
     ]
    }
   ],
   "source": [
    "import numpy as np\n",
    "list = range(5)\n",
    "it = iter(list)\n",
    "\n",
    "x = np.fromiter(it, dtype=int)\n",
    "print(x)"
   ]
  },
  {
   "cell_type": "code",
   "execution_count": 6,
   "id": "181ad570",
   "metadata": {},
   "outputs": [
    {
     "name": "stdout",
     "output_type": "stream",
     "text": [
      "[0. 1. 2. 3. 4.]\n"
     ]
    }
   ],
   "source": [
    "import numpy as np\n",
    "list = range(5)\n",
    "it = iter(list)\n",
    "\n",
    "x = np.fromiter(it, dtype=float)\n",
    "print(x)"
   ]
  },
  {
   "cell_type": "markdown",
   "id": "5589fe27",
   "metadata": {},
   "source": [
    "# numpy.arange()"
   ]
  },
  {
   "cell_type": "markdown",
   "id": "a740b260",
   "metadata": {},
   "source": [
    "This function returns an ndarray object containing evenly spaced value with a given range, The format of the funcition is as follow:\n",
    "\n"
   ]
  },
  {
   "cell_type": "markdown",
   "id": "088a2151",
   "metadata": {},
   "source": [
    " * Start----------> The start of an interval. If omitted, defaults to 0.\n",
    " \n",
    " * Stop-----------> The end of an interval(not including this number)\n",
    " \n",
    " * Step-----------> Spacing between values, default is 1\n",
    " \n",
    " * dtype----------> Data type of resulting ndarray. If not given, data type of input is used."
   ]
  },
  {
   "cell_type": "code",
   "execution_count": 17,
   "id": "af7d19a4",
   "metadata": {},
   "outputs": [
    {
     "data": {
      "text/plain": [
       "[6, 7, 8, 9]"
      ]
     },
     "execution_count": 17,
     "metadata": {},
     "output_type": "execute_result"
    }
   ],
   "source": [
    "list1=[1,2,3,4,5,6,7,8,9,10]\n",
    "\n",
    "list1[5:9]"
   ]
  },
  {
   "cell_type": "code",
   "execution_count": 12,
   "id": "c1172ac2",
   "metadata": {},
   "outputs": [
    {
     "name": "stdout",
     "output_type": "stream",
     "text": [
      "[0 1 2 3 4]\n"
     ]
    }
   ],
   "source": [
    "import numpy as np\n",
    "\n",
    "x = np.arange(5)\n",
    "\n",
    "print(x)"
   ]
  },
  {
   "cell_type": "code",
   "execution_count": 13,
   "id": "5962cda1",
   "metadata": {},
   "outputs": [
    {
     "name": "stdout",
     "output_type": "stream",
     "text": [
      "0\n",
      "1\n",
      "2\n",
      "3\n",
      "4\n"
     ]
    }
   ],
   "source": [
    "# using for loop\n",
    "for i in range(5):\n",
    "    print(i)"
   ]
  },
  {
   "cell_type": "code",
   "execution_count": 14,
   "id": "91277d29",
   "metadata": {},
   "outputs": [
    {
     "name": "stdout",
     "output_type": "stream",
     "text": [
      "[0. 1. 2. 3. 4.]\n"
     ]
    }
   ],
   "source": [
    "import numpy as np\n",
    "\n",
    "x=np.arange(5, dtype=float)\n",
    "print(x)"
   ]
  },
  {
   "cell_type": "code",
   "execution_count": 15,
   "id": "790f3eed",
   "metadata": {},
   "outputs": [
    {
     "name": "stdout",
     "output_type": "stream",
     "text": [
      "[10 12 14 16 18]\n"
     ]
    }
   ],
   "source": [
    "# start and stop parameters set\n",
    "\n",
    "import numpy as np\n",
    "\n",
    "x= np.arange(10,20,2)\n",
    "\n",
    "print(x)"
   ]
  },
  {
   "cell_type": "markdown",
   "id": "771e1eb3",
   "metadata": {},
   "source": [
    "# numpy.linspace"
   ]
  },
  {
   "cell_type": "markdown",
   "id": "77fa0b19",
   "metadata": {},
   "source": [
    "This function is similar to arange() function. In this function instead of step size the number of evenly spaced values between the  spaced values between the interval is specified. The usage of this function is as follow"
   ]
  },
  {
   "cell_type": "markdown",
   "id": "d5fef797",
   "metadata": {},
   "source": [
    " * Start-----------> The starting value of the sequence\n",
    " \n",
    " * Stop------------> The end of the the sequence, included in the sequence if end point set to true.\n",
    " \n",
    " * num-------------> The number of evenly spaced samples to be generated. Default is 50.\n",
    " \n",
    " * endpoint--------> True by default, hence the stop value is included in the sequence. If false, it is not included.\n",
    " \n",
    " * retstep---------> If true, returns samples and step between the consecutive numbers\n",
    " \n",
    " * dtype-----------> Data type of output ndarray."
   ]
  },
  {
   "cell_type": "code",
   "execution_count": 22,
   "id": "4d0913f1",
   "metadata": {},
   "outputs": [
    {
     "data": {
      "text/plain": [
       "array([ 2.        ,  2.88888889,  3.77777778,  4.66666667,  5.55555556,\n",
       "        6.44444444,  7.33333333,  8.22222222,  9.11111111, 10.        ])"
      ]
     },
     "execution_count": 22,
     "metadata": {},
     "output_type": "execute_result"
    }
   ],
   "source": [
    "import numpy as np\n",
    "\n",
    "np.linspace(2, 10, num=10)"
   ]
  },
  {
   "cell_type": "code",
   "execution_count": 23,
   "id": "9f66f422",
   "metadata": {},
   "outputs": [
    {
     "data": {
      "image/png": "[encoded data removed]",
      "text/plain": [
       "<Figure size 432x288 with 1 Axes>"
      ]
     },
     "metadata": {
      "needs_background": "light"
     },
     "output_type": "display_data"
    }
   ],
   "source": [
    "import matplotlib.pyplot as plt\n",
    "\n",
    "import numpy as np\n",
    "\n",
    "xpoints = np.array([0, 6])\n",
    "ypoints = np.array([0, 250])\n",
    "\n",
    "plt.plot(xpoints, ypoints)\n",
    "plt.show()"
   ]
  },
  {
   "cell_type": "code",
   "execution_count": 24,
   "id": "ac47d4c5",
   "metadata": {},
   "outputs": [
    {
     "data": {
      "image/png": "[encoded data removed]",
      "text/plain": [
       "<Figure size 432x288 with 1 Axes>"
      ]
     },
     "metadata": {
      "needs_background": "light"
     },
     "output_type": "display_data"
    }
   ],
   "source": [
    "import matplotlib.pyplot as plt\n",
    "import numpy as np\n",
    "\n",
    "xpoints = np.array([1, 2, 6, 8])\n",
    "ypoints = np.array([3, 8, 1, 10])\n",
    "\n",
    "plt.plot(xpoints, ypoints)\n",
    "plt.show()"
   ]
  },
  {
   "cell_type": "code",
   "execution_count": null,
   "id": "3c208f39",
   "metadata": {},
   "outputs": [],
   "source": []
  }
 ],
 "metadata": {
  "kernelspec": {
   "display_name": "Python 3 (ipykernel)",
   "language": "python",
   "name": "python3"
  },
  "language_info": {
   "codemirror_mode": {
    "name": "ipython",
    "version": 3
   },
   "file_extension": ".py",
   "mimetype": "text/x-python",
   "name": "python",
   "nbconvert_exporter": "python",
   "pygments_lexer": "ipython3",
   "version": "3.9.7"
  }
 },
 "nbformat": 4,
 "nbformat_minor": 5
}
