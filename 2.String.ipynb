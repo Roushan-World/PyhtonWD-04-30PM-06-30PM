{
 "cells": [
  {
   "cell_type": "code",
   "execution_count": 1,
   "id": "717d0ff6",
   "metadata": {},
   "outputs": [
    {
     "data": {
      "text/plain": [
       "'Hello World'"
      ]
     },
     "execution_count": 1,
     "metadata": {},
     "output_type": "execute_result"
    }
   ],
   "source": [
    "# Employ double quotation marks for describing a string.\n",
    "\"Hello World\""
   ]
  },
  {
   "cell_type": "code",
   "execution_count": 2,
   "id": "6e88d6c2",
   "metadata": {},
   "outputs": [
    {
     "data": {
      "text/plain": [
       "'Hello World'"
      ]
     },
     "execution_count": 2,
     "metadata": {},
     "output_type": "execute_result"
    }
   ],
   "source": [
    "# Employ Single quotation marks for describing a string.\n",
    "'Hello World'"
   ]
  },
  {
   "cell_type": "code",
   "execution_count": 3,
   "id": "d0b6cfb6",
   "metadata": {},
   "outputs": [
    {
     "data": {
      "text/plain": [
       "'3 4 5 6 7 8 '"
      ]
     },
     "execution_count": 3,
     "metadata": {},
     "output_type": "execute_result"
    }
   ],
   "source": [
    "# Digital and Spaces in a string\n",
    "\"3 4 5 6 7 8 \""
   ]
  },
  {
   "cell_type": "code",
   "execution_count": 4,
   "id": "76431bde",
   "metadata": {},
   "outputs": [
    {
     "data": {
      "text/plain": [
       "'! @ # $ % ^ & * ()'"
      ]
     },
     "execution_count": 4,
     "metadata": {},
     "output_type": "execute_result"
    }
   ],
   "source": [
    "# Specific characters in a string\n",
    "\"! @ # $ % ^ & * ()\""
   ]
  },
  {
   "cell_type": "code",
   "execution_count": 5,
   "id": "c5eaf205",
   "metadata": {},
   "outputs": [
    {
     "name": "stdout",
     "output_type": "stream",
     "text": [
      "Hello World\n"
     ]
    }
   ],
   "source": [
    "# Printing a string\n",
    "print(\"Hello World\")"
   ]
  },
  {
   "cell_type": "code",
   "execution_count": 6,
   "id": "39dd1dbf",
   "metadata": {},
   "outputs": [
    {
     "name": "stdout",
     "output_type": "stream",
     "text": [
      "Hello World\n",
      "<class 'str'>\n"
     ]
    }
   ],
   "source": [
    "# Assigning a string to a variable \"message\"\n",
    "message=\"Hello World\"\n",
    "print(message)\n",
    "print(type(message))"
   ]
  },
  {
   "cell_type": "markdown",
   "id": "fb81f342",
   "metadata": {},
   "source": [
    "# Indexing of a string"
   ]
  },
  {
   "cell_type": "code",
   "execution_count": 7,
   "id": "8618a796",
   "metadata": {},
   "outputs": [
    {
     "name": "stdout",
     "output_type": "stream",
     "text": [
      "H\n",
      "e\n",
      "l\n",
      "l\n",
      "o\n",
      " \n",
      "W\n",
      "o\n",
      "r\n",
      "l\n",
      "d\n"
     ]
    }
   ],
   "source": [
    "#printing the elements in a string\n",
    "\n",
    "message=\"Hello World\"\n",
    "print(message[0])\n",
    "print(message[1])\n",
    "print(message[2])\n",
    "print(message[3])\n",
    "print(message[4])\n",
    "print(message[5])\n",
    "print(message[6])\n",
    "print(message[7])\n",
    "print(message[8])\n",
    "print(message[9])\n",
    "print(message[10])\n"
   ]
  },
  {
   "cell_type": "code",
   "execution_count": 8,
   "id": "fa2acb31",
   "metadata": {},
   "outputs": [
    {
     "name": "stdout",
     "output_type": "stream",
     "text": [
      "H\n",
      "i\n",
      "!\n",
      " \n",
      "I\n",
      " \n",
      "a\n",
      "m\n",
      " \n",
      "P\n",
      "y\n",
      "t\n",
      "h\n",
      "o\n",
      "n\n"
     ]
    }
   ],
   "source": [
    "# Printing the elements in a string\n",
    "message1=\"Hi! I am Python\"\n",
    "print(message1[0])\n",
    "print(message1[1])\n",
    "print(message1[2])\n",
    "print(message1[3])\n",
    "print(message1[4])\n",
    "print(message1[5])\n",
    "print(message1[6])\n",
    "print(message1[7])\n",
    "print(message1[8])\n",
    "print(message1[9])\n",
    "print(message1[10])\n",
    "print(message1[11])\n",
    "print(message1[12])\n",
    "print(message1[13])\n",
    "print(message1[14])"
   ]
  },
  {
   "cell_type": "markdown",
   "id": "83832e6a",
   "metadata": {},
   "source": [
    "# Negative Indexing"
   ]
  },
  {
   "cell_type": "code",
   "execution_count": 9,
   "id": "507f210f",
   "metadata": {},
   "outputs": [
    {
     "name": "stdout",
     "output_type": "stream",
     "text": [
      "n\n",
      "o\n",
      "h\n",
      "t\n",
      "y\n"
     ]
    }
   ],
   "source": [
    "print(message1[-1])\n",
    "print(message1[-2])\n",
    "print(message1[-3])\n",
    "print(message1[-4])\n",
    "print(message1[-5])"
   ]
  },
  {
   "cell_type": "code",
   "execution_count": 10,
   "id": "55ea61f7",
   "metadata": {},
   "outputs": [
    {
     "name": "stdout",
     "output_type": "stream",
     "text": [
      "15\n"
     ]
    }
   ],
   "source": [
    "print(len(message1))"
   ]
  },
  {
   "cell_type": "code",
   "execution_count": 11,
   "id": "cf08c262",
   "metadata": {},
   "outputs": [
    {
     "data": {
      "text/plain": [
       "\"Python was created by Guido van Rossum, and first released on February 20, 1991. While you may know the python as a large snake, the name of the Python programming language comes from an old BBC television comedy sketch series called Monty Python's Flying Circus.\""
      ]
     },
     "execution_count": 11,
     "metadata": {},
     "output_type": "execute_result"
    }
   ],
   "source": [
    "message_2=\"Python was created by Guido van Rossum, and first released on February 20, 1991. While you may know the python as a large snake, the name of the Python programming language comes from an old BBC television comedy sketch series called Monty Python's Flying Circus.\"\n",
    "message_2"
   ]
  },
  {
   "cell_type": "code",
   "execution_count": 12,
   "id": "7a485546",
   "metadata": {},
   "outputs": [
    {
     "data": {
      "text/plain": [
       "'s'"
      ]
     },
     "execution_count": 12,
     "metadata": {},
     "output_type": "execute_result"
    }
   ],
   "source": [
    "message_2[-50]"
   ]
  },
  {
   "cell_type": "code",
   "execution_count": 13,
   "id": "6abe4e71",
   "metadata": {},
   "outputs": [
    {
     "name": "stdout",
     "output_type": "stream",
     "text": [
      "263\n"
     ]
    }
   ],
   "source": [
    "print(len(message_2))"
   ]
  },
  {
   "cell_type": "markdown",
   "id": "78f1b612",
   "metadata": {},
   "source": [
    "# Slicing of a string"
   ]
  },
  {
   "cell_type": "code",
   "execution_count": 14,
   "id": "e03d0d81",
   "metadata": {},
   "outputs": [
    {
     "data": {
      "text/plain": [
       "'Hello world'"
      ]
     },
     "execution_count": 14,
     "metadata": {},
     "output_type": "execute_result"
    }
   ],
   "source": [
    "message2=\"Hello world\"\n",
    "message2"
   ]
  },
  {
   "cell_type": "code",
   "execution_count": 15,
   "id": "31df6b19",
   "metadata": {},
   "outputs": [
    {
     "name": "stdout",
     "output_type": "stream",
     "text": [
      "11\n"
     ]
    }
   ],
   "source": [
    "print(len(message2))"
   ]
  },
  {
   "cell_type": "code",
   "execution_count": 16,
   "id": "26c5ade6",
   "metadata": {},
   "outputs": [
    {
     "data": {
      "text/plain": [
       "'ello world'"
      ]
     },
     "execution_count": 16,
     "metadata": {},
     "output_type": "execute_result"
    }
   ],
   "source": [
    "message2[1:11]"
   ]
  },
  {
   "cell_type": "code",
   "execution_count": 17,
   "id": "13711b03",
   "metadata": {},
   "outputs": [
    {
     "data": {
      "text/plain": [
       "' '"
      ]
     },
     "execution_count": 17,
     "metadata": {},
     "output_type": "execute_result"
    }
   ],
   "source": [
    "message2[5:6]"
   ]
  },
  {
   "cell_type": "code",
   "execution_count": 18,
   "id": "308e97eb",
   "metadata": {},
   "outputs": [
    {
     "data": {
      "text/plain": [
       "'Ayush'"
      ]
     },
     "execution_count": 18,
     "metadata": {},
     "output_type": "execute_result"
    }
   ],
   "source": [
    "x=\"Ayush\"\n",
    "x"
   ]
  },
  {
   "cell_type": "code",
   "execution_count": 19,
   "id": "b5b18b87",
   "metadata": {},
   "outputs": [
    {
     "data": {
      "text/plain": [
       "'Ayush'"
      ]
     },
     "execution_count": 19,
     "metadata": {},
     "output_type": "execute_result"
    }
   ],
   "source": [
    "x[0:5]"
   ]
  },
  {
   "cell_type": "code",
   "execution_count": 20,
   "id": "468c7752",
   "metadata": {},
   "outputs": [
    {
     "data": {
      "text/plain": [
       "'yus'"
      ]
     },
     "execution_count": 20,
     "metadata": {},
     "output_type": "execute_result"
    }
   ],
   "source": [
    "x[1:4]"
   ]
  },
  {
   "cell_type": "code",
   "execution_count": 21,
   "id": "34159075",
   "metadata": {},
   "outputs": [
    {
     "name": "stdout",
     "output_type": "stream",
     "text": [
      "h\n",
      "s\n",
      "u\n",
      "y\n",
      "A\n"
     ]
    }
   ],
   "source": [
    "print(x[-1])\n",
    "print(x[-2])\n",
    "print(x[-3])\n",
    "print(x[-4])\n",
    "print(x[-5])"
   ]
  },
  {
   "cell_type": "markdown",
   "id": "8ab6bfca",
   "metadata": {},
   "source": [
    "# Striding in a string"
   ]
  },
  {
   "cell_type": "code",
   "execution_count": 22,
   "id": "61839c0f",
   "metadata": {},
   "outputs": [
    {
     "data": {
      "text/plain": [
       "'HloWrd'"
      ]
     },
     "execution_count": 22,
     "metadata": {},
     "output_type": "execute_result"
    }
   ],
   "source": [
    "message3=\"Hello World\"\n",
    "message3[::2]"
   ]
  },
  {
   "cell_type": "code",
   "execution_count": 23,
   "id": "9612d9a0",
   "metadata": {},
   "outputs": [
    {
     "data": {
      "text/plain": [
       "'H hSi'"
      ]
     },
     "execution_count": 23,
     "metadata": {},
     "output_type": "execute_result"
    }
   ],
   "source": [
    "nlis=\"Happy Birthday Sanorita\"\n",
    "nlis[::5]"
   ]
  },
  {
   "cell_type": "markdown",
   "id": "fff4e301",
   "metadata": {},
   "source": [
    "# Concatenate of a string"
   ]
  },
  {
   "cell_type": "code",
   "execution_count": 24,
   "id": "fe6bbcc7",
   "metadata": {},
   "outputs": [
    {
     "name": "stdout",
     "output_type": "stream",
     "text": [
      "Hello World How many people are living on the earth?\n"
     ]
    }
   ],
   "source": [
    "message_3=\"Hello World \"\n",
    "question=\"How many people are living on the earth?\"\n",
    "statement=message_3+question\n",
    "print(statement)"
   ]
  },
  {
   "cell_type": "code",
   "execution_count": 25,
   "id": "ca688aa6",
   "metadata": {},
   "outputs": [
    {
     "name": "stdout",
     "output_type": "stream",
     "text": [
      "Hello Python I am learning Python, today and it is very interesting.\n"
     ]
    }
   ],
   "source": [
    "#Take a variable and concatenate the two string\n",
    "name=\"Hello Python \"\n",
    "language=\"I am learning Python, today and it is very interesting.\"\n",
    "\n",
    "statemnt1=name+language\n",
    "print(statemnt1)"
   ]
  },
  {
   "cell_type": "markdown",
   "id": "a17ce9c8",
   "metadata": {},
   "source": [
    "# Escape Sequence"
   ]
  },
  {
   "cell_type": "code",
   "execution_count": 26,
   "id": "ab15a177",
   "metadata": {},
   "outputs": [
    {
     "name": "stdout",
     "output_type": "stream",
     "text": [
      "Hello World\n",
      "How many people are living on the earth?\n"
     ]
    }
   ],
   "source": [
    "x1=\"Hello World\\n\"   #\\n (next line)\n",
    "x2=\"How many people are living on the earth?\"\n",
    "z=x1+x2\n",
    "print(z)"
   ]
  },
  {
   "cell_type": "code",
   "execution_count": 27,
   "id": "c7f8565b",
   "metadata": {},
   "outputs": [
    {
     "name": "stdout",
     "output_type": "stream",
     "text": [
      "Hello World\n",
      "How many people are living on the earth?\n"
     ]
    }
   ],
   "source": [
    "print(\"Hello World\\nHow many people are living on the earth?\")"
   ]
  },
  {
   "cell_type": "code",
   "execution_count": 28,
   "id": "0c74989c",
   "metadata": {},
   "outputs": [
    {
     "name": "stdout",
     "output_type": "stream",
     "text": [
      "\n"
     ]
    }
   ],
   "source": [
    "#Tab Escape sequence\n",
    "print()"
   ]
  },
  {
   "cell_type": "code",
   "execution_count": 29,
   "id": "ecb5520a",
   "metadata": {},
   "outputs": [
    {
     "name": "stdout",
     "output_type": "stream",
     "text": [
      "Enter any number\n",
      "\n"
     ]
    },
    {
     "ename": "ValueError",
     "evalue": "invalid literal for int() with base 10: ''",
     "output_type": "error",
     "traceback": [
      "\u001b[1;31m---------------------------------------------------------------------------\u001b[0m",
      "\u001b[1;31mValueError\u001b[0m                                Traceback (most recent call last)",
      "\u001b[1;32mC:\\Users\\ROUSHA~1\\AppData\\Local\\Temp/ipykernel_3928/2777565036.py\u001b[0m in \u001b[0;36m<module>\u001b[1;34m\u001b[0m\n\u001b[0;32m      1\u001b[0m \u001b[1;31m#As a example of \\n (next line)\u001b[0m\u001b[1;33m\u001b[0m\u001b[1;33m\u001b[0m\u001b[0m\n\u001b[1;32m----> 2\u001b[1;33m \u001b[0mx\u001b[0m\u001b[1;33m=\u001b[0m\u001b[0mint\u001b[0m\u001b[1;33m(\u001b[0m\u001b[0minput\u001b[0m\u001b[1;33m(\u001b[0m\u001b[1;34m\"Enter any number\\n\"\u001b[0m\u001b[1;33m)\u001b[0m\u001b[1;33m)\u001b[0m\u001b[1;33m\u001b[0m\u001b[1;33m\u001b[0m\u001b[0m\n\u001b[0m\u001b[0;32m      3\u001b[0m \u001b[0my\u001b[0m\u001b[1;33m=\u001b[0m\u001b[0mint\u001b[0m\u001b[1;33m(\u001b[0m\u001b[0minput\u001b[0m\u001b[1;33m(\u001b[0m\u001b[1;34m\"Enter second number\\n\"\u001b[0m\u001b[1;33m)\u001b[0m\u001b[1;33m)\u001b[0m\u001b[1;33m\u001b[0m\u001b[1;33m\u001b[0m\u001b[0m\n\u001b[0;32m      4\u001b[0m \u001b[0mz\u001b[0m\u001b[1;33m=\u001b[0m\u001b[0mx\u001b[0m\u001b[1;33m+\u001b[0m\u001b[0my\u001b[0m\u001b[1;33m\u001b[0m\u001b[1;33m\u001b[0m\u001b[0m\n\u001b[0;32m      5\u001b[0m \u001b[0mprint\u001b[0m\u001b[1;33m(\u001b[0m\u001b[1;34m\"The total value of your \"\u001b[0m\u001b[1;33m,\u001b[0m\u001b[0mz\u001b[0m\u001b[1;33m)\u001b[0m\u001b[1;33m\u001b[0m\u001b[1;33m\u001b[0m\u001b[0m\n",
      "\u001b[1;31mValueError\u001b[0m: invalid literal for int() with base 10: ''"
     ]
    }
   ],
   "source": [
    "#As a example of \\n (next line)\n",
    "x=int(input(\"Enter any number\\n\"))\n",
    "y=int(input(\"Enter second number\\n\"))\n",
    "z=x+y\n",
    "print(\"The total value of your \",z)"
   ]
  },
  {
   "cell_type": "code",
   "execution_count": 31,
   "id": "512d7817",
   "metadata": {},
   "outputs": [
    {
     "name": "stdout",
     "output_type": "stream",
     "text": [
      "Hello World\tHow many people are living on the earht?\n"
     ]
    }
   ],
   "source": [
    "#Tab Escape Sequence #\\t\n",
    "print(\"Hello World\\tHow many people are living on the earht?\")"
   ]
  },
  {
   "cell_type": "code",
   "execution_count": 36,
   "id": "78cb4e0e",
   "metadata": {},
   "outputs": [
    {
     "name": "stdout",
     "output_type": "stream",
     "text": [
      "\\\\\\\n"
     ]
    }
   ],
   "source": [
    "#printing \\\n",
    "print(\"\\\\\\\\\\\\\")"
   ]
  },
  {
   "cell_type": "code",
   "execution_count": 37,
   "id": "93c49bd9",
   "metadata": {},
   "outputs": [
    {
     "name": "stdout",
     "output_type": "stream",
     "text": [
      "Hello World:\\How many people are living on the earth\n"
     ]
    }
   ],
   "source": [
    "#back slask in a string\n",
    "print('Hello World:\\\\How many people are living on the earth')"
   ]
  },
  {
   "cell_type": "markdown",
   "id": "7cdb7264",
   "metadata": {},
   "source": [
    "# String Operations"
   ]
  },
  {
   "cell_type": "code",
   "execution_count": 40,
   "id": "d2d0997e",
   "metadata": {},
   "outputs": [
    {
     "name": "stdout",
     "output_type": "stream",
     "text": [
      "Before uppercase: Hello Python\n",
      "After uppercase:  HELLO PYTHON\n"
     ]
    }
   ],
   "source": [
    "message_1=\"Hello Python\"\n",
    "print(\"Before uppercase:\",message_1)\n",
    "\n",
    "#Convert uppercase the elements in a string\n",
    "message_uppercase=message_1.upper()\n",
    "print(\"After uppercase: \",message_uppercase)"
   ]
  },
  {
   "cell_type": "code",
   "execution_count": 47,
   "id": "109adb57",
   "metadata": {},
   "outputs": [
    {
     "data": {
      "text/plain": [
       "\"PYTHON WAS CREATED BY GUIDO VAN ROSSUM, AND FIRST RELEASED ON FEBRUARY 20, 1991. WHILE YOU MAY KNOW THE PYTHON AS A LARGE SNAKE, THE NAME OF THE PYTHON PROGRAMMING LANGUAGE COMES FROM AN OLD BBC TELEVISION COMEDY SKETCH SERIES CALLED MONTY PYTHON'S FLYING CIRCUS.\""
      ]
     },
     "execution_count": 47,
     "metadata": {},
     "output_type": "execute_result"
    }
   ],
   "source": [
    "#printing strings in uppercase\n",
    "uppercase1=\"Python was created by Guido van Rossum, and first released on February 20, 1991. While you may know the python as a large snake, the name of the Python programming language comes from an old BBC television comedy sketch series called Monty Python's Flying Circus.\"\n",
    "uppercase1.upper()"
   ]
  },
  {
   "cell_type": "code",
   "execution_count": 48,
   "id": "02f97b5f",
   "metadata": {},
   "outputs": [
    {
     "data": {
      "text/plain": [
       "\"python was created by guido van rossum, and first released on february 20, 1991. while you may know the python as a large snake, the name of the python programming language comes from an old bbc television comedy sketch series called monty python's flying circus.\""
      ]
     },
     "execution_count": 48,
     "metadata": {},
     "output_type": "execute_result"
    }
   ],
   "source": [
    "#printing strings in lowercase\n",
    "\n",
    "lowercase=\"PYTHON WAS CREATED BY GUIDO VAN ROSSUM, AND FIRST RELEASED ON FEBRUARY 20, 1991. WHILE YOU MAY KNOW THE PYTHON AS A LARGE SNAKE, THE NAME OF THE PYTHON PROGRAMMING LANGUAGE COMES FROM AN OLD BBC TELEVISION COMEDY SKETCH SERIES CALLED MONTY PYTHON'S FLYING CIRCUS.\"\n",
    "\n",
    "lowercase.lower()"
   ]
  },
  {
   "cell_type": "code",
   "execution_count": 5,
   "id": "106b25d0",
   "metadata": {},
   "outputs": [
    {
     "data": {
      "text/plain": [
       "'Hi Python!'"
      ]
     },
     "execution_count": 5,
     "metadata": {},
     "output_type": "execute_result"
    }
   ],
   "source": [
    "#replace() method in a string\n",
    "message=\"Hello Python!\"\n",
    "message_hi=message.replace(\"Hello\",\"Hi\")\n",
    "message_hi"
   ]
  },
  {
   "cell_type": "code",
   "execution_count": 11,
   "id": "8cbfae18",
   "metadata": {},
   "outputs": [
    {
     "data": {
      "text/plain": [
       "\"Myself Ayush and Today I'm going to learning new method of python!\""
      ]
     },
     "execution_count": 11,
     "metadata": {},
     "output_type": "execute_result"
    }
   ],
   "source": [
    "msg=\"Myself xyz and Today I'm going to learning new method of python!\"\n",
    "msg.replace(\"xyz\",\"Ayush\")"
   ]
  },
  {
   "cell_type": "code",
   "execution_count": 12,
   "id": "32fe390d",
   "metadata": {},
   "outputs": [
    {
     "data": {
      "text/plain": [
       "6"
      ]
     },
     "execution_count": 12,
     "metadata": {},
     "output_type": "execute_result"
    }
   ],
   "source": [
    "# find() method application in a string\n",
    "msg_1=\"Hello World\"\n",
    "msg_1.find(\"Wo\")"
   ]
  },
  {
   "cell_type": "code",
   "execution_count": 13,
   "id": "f58415ca",
   "metadata": {},
   "outputs": [
    {
     "data": {
      "text/plain": [
       "25"
      ]
     },
     "execution_count": 13,
     "metadata": {},
     "output_type": "execute_result"
    }
   ],
   "source": [
    "msg_2=\"Myself xyz and Today I'm going to learning new method of python!\"\n",
    "msg_2.find(\"go\")"
   ]
  },
  {
   "cell_type": "code",
   "execution_count": 14,
   "id": "14fee34c",
   "metadata": {},
   "outputs": [
    {
     "data": {
      "text/plain": [
       "-1"
      ]
     },
     "execution_count": 14,
     "metadata": {},
     "output_type": "execute_result"
    }
   ],
   "source": [
    "msg_2.find(\"Kartik\")"
   ]
  },
  {
   "cell_type": "code",
   "execution_count": 15,
   "id": "c1a7db65",
   "metadata": {},
   "outputs": [
    {
     "data": {
      "text/plain": [
       "-1"
      ]
     },
     "execution_count": 15,
     "metadata": {},
     "output_type": "execute_result"
    }
   ],
   "source": [
    "msg_2.find(\"Binod\")"
   ]
  },
  {
   "cell_type": "code",
   "execution_count": 24,
   "id": "14895b46",
   "metadata": {},
   "outputs": [
    {
     "name": "stdout",
     "output_type": "stream",
     "text": [
      "Hello kartik how are you?\n",
      "hello kartik how are you?\n",
      "HELLO KARTIK HOW ARE YOU?\n",
      "hello kartik how are you?\n",
      "3\n",
      "2\n"
     ]
    }
   ],
   "source": [
    "msg_3=\"hello kartik how are you?\"\n",
    "print(msg_3.capitalize())\n",
    "print(msg_3.lower())\n",
    "print(msg_3.upper())\n",
    "print(msg_3.casefold())\n",
    "print(msg_3.count(\"o\")) #Count()method for counting letter in your sentence\n",
    "print(msg_3.count(\"a\"))"
   ]
  },
  {
   "cell_type": "code",
   "execution_count": 29,
   "id": "658d8c2a",
   "metadata": {},
   "outputs": [
    {
     "name": "stdout",
     "output_type": "stream",
     "text": [
      "Hello World\n"
     ]
    }
   ],
   "source": [
    "# format() method\n",
    "'''The format method formate the specified value(s) and insert them inside the string's place holder.\n",
    "The place holder is defined using curly brackets: {} '''\n",
    "\n",
    "txt=\"Hello {word}\"\n",
    "print(txt.format(word=\"World\"))\n"
   ]
  },
  {
   "cell_type": "code",
   "execution_count": 32,
   "id": "002f0050",
   "metadata": {},
   "outputs": [
    {
     "name": "stdout",
     "output_type": "stream",
     "text": [
      "I love my family and friends and they love me too.I love playing Cricket and football.\n"
     ]
    }
   ],
   "source": [
    "# Ex parents=family and tennis=Cricket\n",
    "txt_1=\"I love my {parents} and friends and they love me too.I love playing {tennis} and football.\"\n",
    "print(txt_1.format(parents=\"family\",tennis=\"Cricket\"))"
   ]
  },
  {
   "cell_type": "code",
   "execution_count": 33,
   "id": "1c61406f",
   "metadata": {},
   "outputs": [
    {
     "name": "stdout",
     "output_type": "stream",
     "text": [
      "Hi, my name is Ayush and I am 18 years old.\n"
     ]
    }
   ],
   "source": [
    "message_2=\"Hi, my name is {} and I am {} years old.\"\n",
    "print(message_2.format(\"Ayush\",18))"
   ]
  },
  {
   "cell_type": "code",
   "execution_count": 34,
   "id": "dcf0b7b4",
   "metadata": {},
   "outputs": [
    {
     "name": "stdout",
     "output_type": "stream",
     "text": [
      "Hi, my name is Kartik and I am 23 years old.\n"
     ]
    }
   ],
   "source": [
    "message_3=\"Hi, my name is {0} and I am {1} years old.\"\n",
    "print(message_3.format(\"Kartik\",23))"
   ]
  },
  {
   "cell_type": "code",
   "execution_count": null,
   "id": "9423f4e5",
   "metadata": {},
   "outputs": [],
   "source": []
  }
 ],
 "metadata": {
  "kernelspec": {
   "display_name": "Python 3 (ipykernel)",
   "language": "python",
   "name": "python3"
  },
  "language_info": {
   "codemirror_mode": {
    "name": "ipython",
    "version": 3
   },
   "file_extension": ".py",
   "mimetype": "text/x-python",
   "name": "python",
   "nbconvert_exporter": "python",
   "pygments_lexer": "ipython3",
   "version": "3.9.7"
  }
 },
 "nbformat": 4,
 "nbformat_minor": 5
}
