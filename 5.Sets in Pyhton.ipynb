{
 "cells": [
  {
   "cell_type": "markdown",
   "id": "5c06676d",
   "metadata": {},
   "source": [
    "#  5. Sets in Python"
   ]
  },
  {
   "cell_type": "markdown",
   "id": "4f120d82",
   "metadata": {},
   "source": [
    "* Set is one of 4 built-in data types in Python used to store collections of data including List, Tuple, and Dictionary.\n",
    "\n",
    "* Sets are unordered, but you can remove items and add new items.\n",
    "\n",
    "* Set elements are unique. Duplicate elements are not allowed.\n",
    "\n",
    "* A set itself may be modified, but the elements containded in the set must be of an mutable type.\n",
    "\n",
    "* Sets are used to store multiple items in a single variable.\n",
    "\n",
    "* You can denote a set with a pair of curly brackets{}."
   ]
  },
  {
   "cell_type": "code",
   "execution_count": 2,
   "id": "b3d29831",
   "metadata": {},
   "outputs": [
    {
     "data": {
      "text/plain": [
       "dict"
      ]
     },
     "execution_count": 2,
     "metadata": {},
     "output_type": "execute_result"
    }
   ],
   "source": [
    "# The empty set of curly braces denotes the empty dictionary, not empty set.\n",
    "x={}\n",
    "x\n",
    "type(x)"
   ]
  },
  {
   "cell_type": "code",
   "execution_count": 10,
   "id": "e2155dbd",
   "metadata": {},
   "outputs": [
    {
     "data": {
      "text/plain": [
       "set"
      ]
     },
     "execution_count": 10,
     "metadata": {},
     "output_type": "execute_result"
    }
   ],
   "source": [
    "# To take a set without elements, use set() function without any items.\n",
    "x1=set()\n",
    "x1\n",
    "type(x1)"
   ]
  },
  {
   "cell_type": "code",
   "execution_count": 7,
   "id": "ffc2c908",
   "metadata": {},
   "outputs": [
    {
     "data": {
      "text/plain": [
       "{1.618, 2002, 3.147, False, 'Hello Python!', 'Hello World', True}"
      ]
     },
     "execution_count": 7,
     "metadata": {},
     "output_type": "execute_result"
    }
   ],
   "source": [
    "# Take a set\n",
    "\n",
    "set1={'Hello Python!',3.147,'Hello World',3.147,1.618,True, False,2002,2002,2002}\n",
    "set1\n"
   ]
  },
  {
   "cell_type": "code",
   "execution_count": 12,
   "id": "5d9206a1",
   "metadata": {},
   "outputs": [
    {
     "data": {
      "text/plain": [
       "{1.618, 2002, 3.147, False, 'Hello Python!', 'Hello World', True}"
      ]
     },
     "execution_count": 12,
     "metadata": {},
     "output_type": "execute_result"
    }
   ],
   "source": [
    "# Converting list to set\n",
    "nlis=['Hello Python!',3.147,'Hello World',3.147,1.618,True, False,2002,2002,2002]\n",
    "\n",
    "# Convert the list into set\n",
    "set2=set(nlis)\n",
    "set2\n"
   ]
  },
  {
   "cell_type": "markdown",
   "id": "df4834a4",
   "metadata": {},
   "source": [
    "# Set Operations"
   ]
  },
  {
   "cell_type": "code",
   "execution_count": 14,
   "id": "91fcffd9",
   "metadata": {},
   "outputs": [
    {
     "data": {
      "text/plain": [
       "{1.618, 2002, 3.147, False, 'Hello Python!', 'Hello World', True}"
      ]
     },
     "execution_count": 14,
     "metadata": {},
     "output_type": "execute_result"
    }
   ],
   "source": [
    "# Take a set\n",
    "set3=set(['Hello Python!',3.147,'Hello World',3.147,1.618,True, False,2002,2002,2002])\n",
    "set3"
   ]
  },
  {
   "cell_type": "code",
   "execution_count": 15,
   "id": "dc4ac66e",
   "metadata": {},
   "outputs": [
    {
     "data": {
      "text/plain": [
       "{1.618, 2002, 3.147, False, 'Hello Python!', 'Hello World', 'Hi,Python', True}"
      ]
     },
     "execution_count": 15,
     "metadata": {},
     "output_type": "execute_result"
    }
   ],
   "source": [
    "set3.add(\"Hi,Python\")\n",
    "set3"
   ]
  },
  {
   "cell_type": "code",
   "execution_count": 16,
   "id": "3cff3c8e",
   "metadata": {},
   "outputs": [
    {
     "data": {
      "text/plain": [
       "{1.618, 2002, 3.147, False, 'Hello Python!', 'Hello World', 'Hi,Python', True}"
      ]
     },
     "execution_count": 16,
     "metadata": {},
     "output_type": "execute_result"
    }
   ],
   "source": [
    "set3.add(\"Hi,Python\")\n",
    "set3"
   ]
  },
  {
   "cell_type": "code",
   "execution_count": 18,
   "id": "7486707e",
   "metadata": {},
   "outputs": [
    {
     "name": "stdout",
     "output_type": "stream",
     "text": [
      "{8, 9, 6, 7}\n",
      "{3, 4, 5, 6, 7, 8, 9}\n"
     ]
    }
   ],
   "source": [
    "x_set={6,7,8,9}\n",
    "print(x_set)\n",
    "x_set.update({3,4,5})\n",
    "print(x_set)"
   ]
  },
  {
   "cell_type": "code",
   "execution_count": 19,
   "id": "292fd75f",
   "metadata": {},
   "outputs": [
    {
     "data": {
      "text/plain": [
       "{1.618, 2002, 3.147, False, 'Hello World', 'Hi,Python', True}"
      ]
     },
     "execution_count": 19,
     "metadata": {},
     "output_type": "execute_result"
    }
   ],
   "source": [
    "set3.remove('Hello Python!')\n",
    "set3"
   ]
  },
  {
   "cell_type": "markdown",
   "id": "58608f58",
   "metadata": {},
   "source": [
    "# Logic operations in Sets"
   ]
  },
  {
   "cell_type": "code",
   "execution_count": 23,
   "id": "d5e7dcbd",
   "metadata": {},
   "outputs": [
    {
     "data": {
      "text/plain": [
       "({1.618, 3.147, 'Hello Python!', 'Hello World'},\n",
       " {False, True, 1.618, 3.147, 2022})"
      ]
     },
     "execution_count": 23,
     "metadata": {},
     "output_type": "execute_result"
    }
   ],
   "source": [
    "# Take two sets\n",
    "set4=set(['Hello Python!',3.147,1.618,'Hello World'])\n",
    "set5=set([3.147,1.618,True, False,2022])\n",
    "\n",
    "set4,set5"
   ]
  },
  {
   "cell_type": "code",
   "execution_count": 26,
   "id": "a9e9c516",
   "metadata": {},
   "outputs": [
    {
     "data": {
      "text/plain": [
       "{1.618, 3.147}"
      ]
     },
     "execution_count": 26,
     "metadata": {},
     "output_type": "execute_result"
    }
   ],
   "source": [
    "# Intersection method with '&' sign\n",
    "intersection=set4&set5\n",
    "intersection"
   ]
  },
  {
   "cell_type": "code",
   "execution_count": 27,
   "id": "334a3c0c",
   "metadata": {},
   "outputs": [
    {
     "data": {
      "text/plain": [
       "{1.618, 3.147}"
      ]
     },
     "execution_count": 27,
     "metadata": {},
     "output_type": "execute_result"
    }
   ],
   "source": [
    "#second method to find intersection\n",
    "set4.intersection(set5)"
   ]
  },
  {
   "cell_type": "code",
   "execution_count": 31,
   "id": "af9c6e4a",
   "metadata": {},
   "outputs": [
    {
     "name": "stdout",
     "output_type": "stream",
     "text": [
      "{'Hello World', 'Hello Python!'}\n",
      "{False, True, 2022}\n"
     ]
    }
   ],
   "source": [
    "# difference method\n",
    "\n",
    "print(set4.difference(set5)) #A-B\n",
    "print(set5.difference(set4)) #B-A"
   ]
  },
  {
   "cell_type": "code",
   "execution_count": 33,
   "id": "4f91dc2a",
   "metadata": {},
   "outputs": [
    {
     "name": "stdout",
     "output_type": "stream",
     "text": [
      "{'Hello World', 'Hello Python!'}\n",
      "{False, True, 2022}\n"
     ]
    }
   ],
   "source": [
    "# Second Methond of finding difference\n",
    "print(set4-set5) #A-B\n",
    "print(set5-set4) #B-A"
   ]
  },
  {
   "cell_type": "code",
   "execution_count": 34,
   "id": "fc71c32e",
   "metadata": {},
   "outputs": [
    {
     "data": {
      "text/plain": [
       "{1.618, 2022, 3.147, False, 'Hello Python!', 'Hello World', True}"
      ]
     },
     "execution_count": 34,
     "metadata": {},
     "output_type": "execute_result"
    }
   ],
   "source": [
    "#Union method\n",
    "set4.union(set5)"
   ]
  },
  {
   "cell_type": "code",
   "execution_count": 36,
   "id": "978921c2",
   "metadata": {},
   "outputs": [
    {
     "data": {
      "text/plain": [
       "{2022, False, 'Hello Python!', 'Hello World', True}"
      ]
     },
     "execution_count": 36,
     "metadata": {},
     "output_type": "execute_result"
    }
   ],
   "source": [
    "#Symmetric_difference\n",
    "set4.symmetric_difference(set5)"
   ]
  },
  {
   "cell_type": "markdown",
   "id": "42cbf844",
   "metadata": {},
   "source": [
    "# Set comparison"
   ]
  },
  {
   "cell_type": "code",
   "execution_count": 39,
   "id": "70315a11",
   "metadata": {},
   "outputs": [
    {
     "name": "stdout",
     "output_type": "stream",
     "text": [
      "False\n",
      "False\n",
      "False\n"
     ]
    }
   ],
   "source": [
    "print(set4>set5)\n",
    "print(set5>set4)\n",
    "print(set4==set5)"
   ]
  },
  {
   "cell_type": "code",
   "execution_count": 47,
   "id": "f7a1b670",
   "metadata": {},
   "outputs": [
    {
     "name": "stdout",
     "output_type": "stream",
     "text": [
      "The minimum number of a is  1\n",
      "The maximum number of b is  11\n",
      "The maximum number of a is  6\n",
      "The minimum number of b is  1\n",
      "The sum of a is  21\n",
      "The sum of b is  32\n"
     ]
    }
   ],
   "source": [
    "# Min,max and sum fuctions\n",
    "a=set([1,1,2,2,3,3,4,4,5,5,6,6])\n",
    "b=set([1,1,2,2,3,3,4,4,5,5,6,6,11])\n",
    "print('The minimum number of a is ',min(a))\n",
    "print('The maximum number of b is ',max(b))\n",
    "print('The maximum number of a is ',max(a))\n",
    "print('The minimum number of b is ',min(b))\n",
    "print('The sum of a is ',sum(a))\n",
    "print('The sum of b is ', sum(b))\n"
   ]
  },
  {
   "cell_type": "markdown",
   "id": "eaca6225",
   "metadata": {},
   "source": [
    "# No mutable sequence in a set"
   ]
  },
  {
   "cell_type": "code",
   "execution_count": 50,
   "id": "7df548d3",
   "metadata": {},
   "outputs": [
    {
     "ename": "TypeError",
     "evalue": "unhashable type: 'list'",
     "output_type": "error",
     "traceback": [
      "\u001b[1;31m---------------------------------------------------------------------------\u001b[0m",
      "\u001b[1;31mTypeError\u001b[0m                                 Traceback (most recent call last)",
      "\u001b[1;32mC:\\Users\\ROUSHA~1\\AppData\\Local\\Temp/ipykernel_25764/2912255293.py\u001b[0m in \u001b[0;36m<module>\u001b[1;34m\u001b[0m\n\u001b[1;32m----> 1\u001b[1;33m \u001b[0mset6\u001b[0m\u001b[1;33m=\u001b[0m\u001b[1;33m{\u001b[0m\u001b[1;34m'Python'\u001b[0m\u001b[1;33m,\u001b[0m\u001b[1;36m1\u001b[0m\u001b[1;33m,\u001b[0m\u001b[1;36m2\u001b[0m\u001b[1;33m,\u001b[0m\u001b[1;36m3\u001b[0m\u001b[1;33m,\u001b[0m\u001b[1;33m[\u001b[0m\u001b[1;36m1\u001b[0m\u001b[1;33m,\u001b[0m\u001b[1;36m2\u001b[0m\u001b[1;33m,\u001b[0m\u001b[1;36m3\u001b[0m\u001b[1;33m]\u001b[0m\u001b[1;33m}\u001b[0m\u001b[1;33m\u001b[0m\u001b[1;33m\u001b[0m\u001b[0m\n\u001b[0m\u001b[0;32m      2\u001b[0m \u001b[0mset6\u001b[0m\u001b[1;33m\u001b[0m\u001b[1;33m\u001b[0m\u001b[0m\n",
      "\u001b[1;31mTypeError\u001b[0m: unhashable type: 'list'"
     ]
    }
   ],
   "source": [
    "set6={'Python',1,2,3,[1,2,3]}\n",
    "set6"
   ]
  },
  {
   "cell_type": "code",
   "execution_count": null,
   "id": "9cf5eec8",
   "metadata": {},
   "outputs": [],
   "source": []
  }
 ],
 "metadata": {
  "kernelspec": {
   "display_name": "Python 3 (ipykernel)",
   "language": "python",
   "name": "python3"
  },
  "language_info": {
   "codemirror_mode": {
    "name": "ipython",
    "version": 3
   },
   "file_extension": ".py",
   "mimetype": "text/x-python",
   "name": "python",
   "nbconvert_exporter": "python",
   "pygments_lexer": "ipython3",
   "version": "3.9.7"
  }
 },
 "nbformat": 4,
 "nbformat_minor": 5
}
