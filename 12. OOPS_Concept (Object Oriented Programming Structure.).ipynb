{
 "cells": [
  {
   "cell_type": "markdown",
   "id": "dc97cf71",
   "metadata": {},
   "source": [
    "# 12. Classes and Objects in Python\n"
   ]
  },
  {
   "cell_type": "markdown",
   "id": "6a9bf457",
   "metadata": {},
   "source": [
    "    * Python is an object-oriented programming language.\n",
    "    * Unlike procedure-oriented programmming, where the main emphasis is on functions, object-oriented programming stresses on objects.\n",
    "    * An object is simply a collection of data (variables) and methods (functions) that act on those data.\n",
    "    * Similarly, a class is a blueprint for that object.\n",
    "    * Like function definitions begins with the def keyword in Python, class definitions being with a class keyword.\n",
    "    * The first string inside the class called docstring and has a brief description of the class.\n",
    "    *Although not mandatory, this is high recommended.\n"
   ]
  },
  {
   "cell_type": "markdown",
   "id": "8c30b64b",
   "metadata": {},
   "source": [
    "    Class student:\n",
    "        school_name='ABC School' <------------------  Class Variable\n",
    "        def __init__ (self,name,age): <-------------  Constructor to initialize \n",
    "            self.name= name                           instance variable\n",
    "            self.age= age\n",
    "                               Note: cls refers to the class\n",
    "        @classmethod\n",
    "        def change_school(cls,name): \n",
    "            print(Student.school_name) <------------------- Access Class Variable\n",
    "            Student.school_name = name <------------------- Modify Class Variable\n",
    "        Ayush = Student('Ayush',14)\n",
    "        Student.change_school('XYZ School') <-------------- call class method"
   ]
  },
  {
   "cell_type": "code",
   "execution_count": 7,
   "id": "5bb58e3c",
   "metadata": {},
   "outputs": [
    {
     "name": "stdout",
     "output_type": "stream",
     "text": [
      "😀\n",
      "😆\n"
     ]
    }
   ],
   "source": [
    "print(\"\\U0001f600\")\n",
    "print(\"\\U0001F606\")"
   ]
  },
  {
   "cell_type": "code",
   "execution_count": null,
   "id": "f09b1523",
   "metadata": {},
   "outputs": [],
   "source": []
  }
 ],
 "metadata": {
  "kernelspec": {
   "display_name": "Python 3 (ipykernel)",
   "language": "python",
   "name": "python3"
  },
  "language_info": {
   "codemirror_mode": {
    "name": "ipython",
    "version": 3
   },
   "file_extension": ".py",
   "mimetype": "text/x-python",
   "name": "python",
   "nbconvert_exporter": "python",
   "pygments_lexer": "ipython3",
   "version": "3.9.7"
  }
 },
 "nbformat": 4,
 "nbformat_minor": 5
}
