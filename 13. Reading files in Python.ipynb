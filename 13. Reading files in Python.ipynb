{
 "cells": [
  {
   "cell_type": "markdown",
   "id": "67b84e89",
   "metadata": {},
   "source": [
    "# 13. Reading Files in Python"
   ]
  },
  {
   "cell_type": "markdown",
   "id": "5f561ad1",
   "metadata": {},
   "source": [
    "To Read a text file in python, you follow these steps\n",
    "\n",
    "    * First open a text file or reading using the open() function.\n",
    "    * Second, read text from the text file using the file read(),readline() or readlines() methods of the file object\n",
    "    * Third, close the file using the close() method. This frees up resources and ensure consistencty across different python version."
   ]
  },
  {
   "cell_type": "markdown",
   "id": "3917b24e",
   "metadata": {},
   "source": [
    "            * Methods()-----------------> Discription\n",
    "            * Writable()----------------> Returns whether the file can be written to or not.\n",
    "            * readable()----------------> Returns whether the file stream can be read or not.\n",
    "            * readline()----------------> Returns one line from the file.\n",
    "            * read()--------------------> Returns the file content.\n",
    "            * readlines()---------------> Returns a list of lines form the file.\n",
    "            * wirte()-------------------> Writes the specified string to the file.\n",
    "            * writelines()--------------> Writes a list of strings to the file.\n",
    "            * close()-------------------> Close the file.\n",
    "            * flush()-------------------> Flushes the internal buffer.\n",
    "            * seek()--------------------> Change the file position.\n",
    "            * tell()--------------------> Returns the current file.\n",
    "            * truncate()----------------> Resize the file to a specified.\n",
    "            \n",
    "            "
   ]
  },
  {
   "cell_type": "markdown",
   "id": "0bde6d46",
   "metadata": {},
   "source": [
    "# Reading the file."
   ]
  },
  {
   "cell_type": "code",
   "execution_count": 12,
   "id": "fdbe2d3f",
   "metadata": {},
   "outputs": [
    {
     "data": {
      "text/plain": [
       "'A cow is a domestic animal. Cows are one of the most innocent animals who are very harmless. People keep cows at their homes for various benefits. Cows are four-footed and have a large body. It has two horns, two eyes plus two ears and one nose and a mouth. Cows are herbivorous animals. They have a lot of uses to mankind. In fact, farmers and people keep cows at their homes for the same purposes.'"
      ]
     },
     "execution_count": 12,
     "metadata": {},
     "output_type": "execute_result"
    }
   ],
   "source": [
    "file_name='cow.txt'\n",
    "file=open(file_name,'r')\n",
    "\n",
    "content=file.read()\n",
    "content"
   ]
  },
  {
   "cell_type": "code",
   "execution_count": 16,
   "id": "f4b86f84",
   "metadata": {},
   "outputs": [
    {
     "name": "stdout",
     "output_type": "stream",
     "text": [
      "cow.txt\n",
      "r\n",
      "A cow is a domestic animal. Cows are one of the most innocent animals who are very harmless. People keep cows at their homes for various benefits. Cows are four-footed and have a large body. It has two horns, two eyes plus two ears and one nose and a mouth. Cows are herbivorous animals. They have a lot of uses to mankind. In fact, farmers and people keep cows at their homes for the same purposes.\n",
      "<class 'str'>\n"
     ]
    }
   ],
   "source": [
    "# printing the path of file\n",
    "\n",
    "print(file.name)\n",
    "\n",
    "#Printing the mode of file\n",
    "print(file.mode)\n",
    "\n",
    "#Printing the file'\\n' as a new file\n",
    "\n",
    "print(content)\n",
    "\n",
    "#printing the file type\n",
    "\n",
    "print(type(content))"
   ]
  },
  {
   "cell_type": "code",
   "execution_count": 17,
   "id": "e1d2bbb1",
   "metadata": {},
   "outputs": [],
   "source": [
    "# Close the file\n",
    "\n",
    "file.close()"
   ]
  },
  {
   "cell_type": "code",
   "execution_count": 19,
   "id": "87576952",
   "metadata": {},
   "outputs": [
    {
     "data": {
      "text/plain": [
       "True"
      ]
     },
     "execution_count": 19,
     "metadata": {},
     "output_type": "execute_result"
    }
   ],
   "source": [
    "# Verification of the closed file\n",
    "file.closed"
   ]
  },
  {
   "cell_type": "code",
   "execution_count": 20,
   "id": "6f69e403",
   "metadata": {},
   "outputs": [
    {
     "name": "stdout",
     "output_type": "stream",
     "text": [
      "A cow is a domestic animal. Cows are one of the most innocent animals who are very harmless. People keep cows at their homes for various benefits. Cows are four-footed and have a large body. It has two horns, two eyes plus two ears and one nose and a mouth. Cows are herbivorous animals. They have a lot of uses to mankind. In fact, farmers and people keep cows at their homes for the same purposes.\n"
     ]
    }
   ],
   "source": [
    "fname='cow.txt'\n",
    "with open(fname,'r') as f:\n",
    "    content=f.read()\n",
    "    print(content)"
   ]
  },
  {
   "cell_type": "code",
   "execution_count": 21,
   "id": "c07b9362",
   "metadata": {},
   "outputs": [
    {
     "name": "stdout",
     "output_type": "stream",
     "text": [
      "A cow is a domestic animal. Cows are one of the most innocent animals who are very harmless. People keep cows at their homes for various benefits. Cows are four-footed and have a large body. It has two horns, two eyes plus two ears and one nose and a mouth. Cows are herbivorous animals. They have a lot of uses to mankind. In fact, farmers and people keep cows at their homes for the same purposes.\n"
     ]
    }
   ],
   "source": [
    "print(content)"
   ]
  },
  {
   "cell_type": "code",
   "execution_count": 23,
   "id": "4ce90aa6",
   "metadata": {},
   "outputs": [
    {
     "name": "stdout",
     "output_type": "stream",
     "text": [
      "A cow is a domestic a\n"
     ]
    }
   ],
   "source": [
    "# Reading the first 20 characters in the text file.\n",
    "\n",
    "with open(fname,'r') as f:\n",
    "    print(f.read(21))"
   ]
  },
  {
   "cell_type": "code",
   "execution_count": 31,
   "id": "320411ab",
   "metadata": {},
   "outputs": [
    {
     "name": "stdout",
     "output_type": "stream",
     "text": [
      "A cow is a domestic \n",
      "animal. Cows are one\n",
      " of the most innocen\n",
      "t animals who are ve\n",
      "ry harmless. People \n"
     ]
    }
   ],
   "source": [
    "# Reading certain amount of characters in the file.\n",
    "\n",
    "with open(fname,'r') as f:\n",
    "    print(f.read(20))\n",
    "    print(f.read(20))\n",
    "    print(f.read(20))\n",
    "    print(f.read(20))\n",
    "    print(f.read(20))"
   ]
  },
  {
   "cell_type": "code",
   "execution_count": 33,
   "id": "be31bc47",
   "metadata": {},
   "outputs": [
    {
     "name": "stdout",
     "output_type": "stream",
     "text": [
      "The first line is: A cow is a domestic animal. Cows are one of the most innocent animals who are very harmless. People keep cows at their homes for various benefits. Cows are four-footed and have a large body. It has two horns, two eyes plus two ears and one nose and a mouth. Cows are herbivorous animals. They have a lot of uses to mankind. In fact, farmers and people keep cows at their homes for the same purposes.\n"
     ]
    }
   ],
   "source": [
    "with open(fname,'r') as f:\n",
    "    print('The first line is:',f.readline())"
   ]
  },
  {
   "cell_type": "code",
   "execution_count": 37,
   "id": "768c62d0",
   "metadata": {},
   "outputs": [
    {
     "name": "stdout",
     "output_type": "stream",
     "text": [
      "A cow is a domestic \n",
      "animal. Cows are one\n"
     ]
    }
   ],
   "source": [
    "with open(fname,'r') as f:\n",
    "    print(f.readline(20))\n",
    "    print(f.read(20))   # This code returns the next 20 characters in the line."
   ]
  },
  {
   "cell_type": "markdown",
   "id": "720e0b71",
   "metadata": {},
   "source": [
    "# Loop usages in the text file"
   ]
  },
  {
   "cell_type": "code",
   "execution_count": 38,
   "id": "ef185d55",
   "metadata": {},
   "outputs": [
    {
     "name": "stdout",
     "output_type": "stream",
     "text": [
      "Line number 1 : A cow is a domestic animal. Cows are one of the most innocent animals who are very harmless. People keep cows at their homes for various benefits. Cows are four-footed and have a large body. It has two horns, two eyes plus two ears and one nose and a mouth. Cows are herbivorous animals. They have a lot of uses to mankind. In fact, farmers and people keep cows at their homes for the same purposes.\n"
     ]
    }
   ],
   "source": [
    "with open(fname,'r') as f:\n",
    "    line_number=1\n",
    "    for line in f:\n",
    "        print('Line number',str(line_number),':',line)\n",
    "        line_number+=1"
   ]
  },
  {
   "cell_type": "code",
   "execution_count": null,
   "id": "25e91b2e",
   "metadata": {},
   "outputs": [],
   "source": []
  }
 ],
 "metadata": {
  "kernelspec": {
   "display_name": "Python 3 (ipykernel)",
   "language": "python",
   "name": "python3"
  },
  "language_info": {
   "codemirror_mode": {
    "name": "ipython",
    "version": 3
   },
   "file_extension": ".py",
   "mimetype": "text/x-python",
   "name": "python",
   "nbconvert_exporter": "python",
   "pygments_lexer": "ipython3",
   "version": "3.9.7"
  }
 },
 "nbformat": 4,
 "nbformat_minor": 5
}
