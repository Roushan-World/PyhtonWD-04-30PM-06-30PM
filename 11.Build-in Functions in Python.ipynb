{
 "cells": [
  {
   "cell_type": "markdown",
   "id": "069f3b5f",
   "metadata": {},
   "source": [
    "# 11. Build-in Functions in Python\n"
   ]
  },
  {
   "cell_type": "markdown",
   "id": "42c8d416",
   "metadata": {},
   "source": [
    "* Python has several functions that are readily available for use. These function are called build-in Functions."
   ]
  },
  {
   "cell_type": "markdown",
   "id": "5904bedd",
   "metadata": {},
   "source": [
    "    * Build-in Functions\n",
    "    A                           E                          L                          R\n",
    "    abs()                       enumerates()               len()                      range()\n",
    "    all()                       eval()                     list()                     repr()\n",
    "    any()                       exec()                     lower()                    reversed()\n",
    "    ascii()                                                locals()                   round()\n",
    "    B                           F                          M                          S\n",
    "    bin()                       filter()                   map()                      set()\n",
    "    bool()                      float()                    max()                      setattr()\n",
    "    breakpoint()                format()                   min()                      slice()                                  \n",
    "    bytearray()                 frozenset()                memoryview()               sum()\n",
    "    bytes()                                                                           sorted()\n",
    "    C                           G                          N                          str()\n",
    "    callable()                  getattr()                  next()                     super()\n",
    "    chr()                       globals()                                             T\n",
    "    classmethod()               H                          O                          total()\n",
    "    compile()                   hasattr()                  oct()                      tuple()\n",
    "    complex()                   hash()                     object()                   type()\n",
    "    D                           help()                     open()                     V\n",
    "    delattr()                   I                          P                          vars()\n",
    "    dict()                      id()                       print()                    Z\n",
    "    dir()                       input()                    pow()                      zip()\n",
    "    divmod()                    int()                      property()                 \n",
    "                                isinstance()\n",
    "                                issubclass()                                          ___________\n",
    "                                iter()                                                __import__()"
   ]
  },
  {
   "cell_type": "code",
   "execution_count": null,
   "id": "f43aa547",
   "metadata": {},
   "outputs": [],
   "source": []
  }
 ],
 "metadata": {
  "kernelspec": {
   "display_name": "Python 3 (ipykernel)",
   "language": "python",
   "name": "python3"
  },
  "language_info": {
   "codemirror_mode": {
    "name": "ipython",
    "version": 3
   },
   "file_extension": ".py",
   "mimetype": "text/x-python",
   "name": "python",
   "nbconvert_exporter": "python",
   "pygments_lexer": "ipython3",
   "version": "3.9.7"
  }
 },
 "nbformat": 4,
 "nbformat_minor": 5
}
