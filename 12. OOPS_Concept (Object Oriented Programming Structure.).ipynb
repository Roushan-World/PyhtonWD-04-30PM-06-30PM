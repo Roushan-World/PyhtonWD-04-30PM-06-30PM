{
 "cells": [
  {
   "cell_type": "markdown",
   "id": "dc97cf71",
   "metadata": {},
   "source": [
    "# 12. Classes and Objects in Python\n"
   ]
  },
  {
   "cell_type": "markdown",
   "id": "6a9bf457",
   "metadata": {},
   "source": [
    "    * Python is an object-oriented programming language.\n",
    "    * Unlike procedure-oriented programmming, where the main emphasis is on functions, object-oriented programming stresses on objects.\n",
    "    * An object is simply a collection of data (variables) and methods (functions) that act on those data.\n",
    "    * Similarly, a class is a blueprint for that object.\n",
    "    * Like function definitions begins with the def keyword in Python, class definitions being with a class keyword.\n",
    "    * The first string inside the class called docstring and has a brief description of the class.\n",
    "    *Although not mandatory, this is high recommended.\n"
   ]
  },
  {
   "cell_type": "markdown",
   "id": "8c30b64b",
   "metadata": {},
   "source": [
    "    Class student:\n",
    "        school_name='ABC School' <------------------  Class Variable\n",
    "        def __init__ (self,name,age): <-------------  Constructor to initialize \n",
    "            self.name= name                           instance variable\n",
    "            self.age= age\n",
    "                               Note: cls refers to the class\n",
    "        @classmethod\n",
    "        def change_school(cls,name): \n",
    "            print(Student.school_name) <------------------- Access Class Variable\n",
    "            Student.school_name = name <------------------- Modify Class Variable\n",
    "        Ayush = Student('Ayush',14)\n",
    "        Student.change_school('XYZ School') <-------------- call class method"
   ]
  },
  {
   "cell_type": "code",
   "execution_count": 7,
   "id": "5bb58e3c",
   "metadata": {},
   "outputs": [
    {
     "name": "stdout",
     "output_type": "stream",
     "text": [
      "😀\n",
      "😆\n"
     ]
    }
   ],
   "source": [
    "print(\"\\U0001f600\")\n",
    "print(\"\\U0001F606\")"
   ]
  },
  {
   "cell_type": "code",
   "execution_count": 1,
   "id": "f09b1523",
   "metadata": {},
   "outputs": [
    {
     "name": "stdout",
     "output_type": "stream",
     "text": [
      "<class '__main__.Data'>\n"
     ]
    }
   ],
   "source": [
    "class Data:\n",
    "    num=3.14\n",
    "    \n",
    "print(Data)"
   ]
  },
  {
   "cell_type": "code",
   "execution_count": 3,
   "id": "26025955",
   "metadata": {},
   "outputs": [
    {
     "name": "stdout",
     "output_type": "stream",
     "text": [
      "3.14\n"
     ]
    }
   ],
   "source": [
    "class Data:\n",
    "    num=3.14\n",
    "    \n",
    "var=Data()\n",
    "print(var.num)"
   ]
  },
  {
   "cell_type": "code",
   "execution_count": 12,
   "id": "43f25738",
   "metadata": {},
   "outputs": [
    {
     "name": "stdout",
     "output_type": "stream",
     "text": [
      "('Kartik',)\n",
      "(23,)\n"
     ]
    }
   ],
   "source": [
    "class kartik:\n",
    "    name='Kartik',\n",
    "    age=23,\n",
    "    sex='Male',\n",
    "    contact='xyz@gmail.com'\n",
    "detail=kartik() \n",
    "print(detail.name)\n",
    "print(detail.age)"
   ]
  },
  {
   "cell_type": "markdown",
   "id": "e081e349",
   "metadata": {},
   "source": [
    "# Function init()"
   ]
  },
  {
   "cell_type": "code",
   "execution_count": 21,
   "id": "54c79b83",
   "metadata": {},
   "outputs": [
    {
     "name": "stdout",
     "output_type": "stream",
     "text": [
      "2.718\n",
      "1.618\n"
     ]
    }
   ],
   "source": [
    "class Data:\n",
    "    def __init__(self,number,pi,ratio):\n",
    "        self.number=number\n",
    "        self.pi=pi\n",
    "        self.ratio=ratio\n",
    "        \n",
    "val=Data(2.718,3.14,1.618)\n",
    "\n",
    "print(val.number)\n",
    "print(val.ratio)"
   ]
  },
  {
   "cell_type": "markdown",
   "id": "957917d9",
   "metadata": {},
   "source": [
    "* The self parameter is a reference to the current instance of the class, and is used to access variables that belongs to the class.\n",
    "\n",
    "* It does not have to be named self, you can call it whatever you like, but it has to be the first parameter of any function in the class.\n",
    "\n"
   ]
  },
  {
   "cell_type": "code",
   "execution_count": 36,
   "id": "42efc295",
   "metadata": {},
   "outputs": [
    {
     "name": "stdout",
     "output_type": "stream",
     "text": [
      "20\n",
      "10\n",
      "blue\n"
     ]
    },
    {
     "data": {
      "image/png": "[encoded data removed]",
      "text/plain": [
       "<Figure size 432x288 with 1 Axes>"
      ]
     },
     "metadata": {
      "needs_background": "light"
     },
     "output_type": "display_data"
    }
   ],
   "source": [
    "# Creating a class to draw a rectangle.\n",
    "\n",
    "class Rectangle(object):\n",
    "    \n",
    "    #Constructor\n",
    "    \n",
    "    def __init__(self,width,height,color):\n",
    "        self.width=width\n",
    "        self.height=height\n",
    "        self.color=color\n",
    "        \n",
    "    # Method\n",
    "    \n",
    "    def drawRectangle(self):\n",
    "        plt.gca().add_patch(plt.Rectangle((0,0),self.width,self.height,fc=self.color))\n",
    "        plt.axis('scaled')\n",
    "        plt.show()\n",
    "            \n",
    "# import library to draw rectangle\n",
    "\n",
    "import matplotlib.pyplot as plt\n",
    "%matplotlib inline\n",
    "\n",
    "#Creating an object blue rectangle\n",
    "\n",
    "one_Rectangle=Rectangle(20,10,'blue')\n",
    "\n",
    "#Printing the object attribute Width\n",
    "print(one_Rectangle.width)\n",
    "\n",
    "# Printing the object attribute height\n",
    "\n",
    "print(one_Rectangle.height)\n",
    "\n",
    "# Printing the object attribute color\n",
    "print(one_Rectangle.color)\n",
    "\n",
    "# Drawing the object\n",
    "\n",
    "one_Rectangle.drawRectangle()\n",
    "\n",
    "# Learning the method that can be utilized on the object 'One_Rectangle'\n",
    "\n",
    "\n",
    "\n",
    "\n"
   ]
  },
  {
   "cell_type": "code",
   "execution_count": 33,
   "id": "2a651a8f",
   "metadata": {},
   "outputs": [
    {
     "data": {
      "image/png": "[encoded data removed]",
      "text/plain": [
       "<Figure size 432x288 with 1 Axes>"
      ]
     },
     "metadata": {
      "needs_background": "light"
     },
     "output_type": "display_data"
    }
   ],
   "source": [
    "two_Rectangle=Rectangle(100,50,'Green')\n",
    "two_Rectangle.drawRectangle()"
   ]
  },
  {
   "cell_type": "code",
   "execution_count": 35,
   "id": "bbbbc2c7",
   "metadata": {},
   "outputs": [
    {
     "data": {
      "image/png": "[encoded data removed]",
      "text/plain": [
       "<Figure size 432x288 with 1 Axes>"
      ]
     },
     "metadata": {
      "needs_background": "light"
     },
     "output_type": "display_data"
    }
   ],
   "source": [
    "three_Rectangle=Rectangle(200,100,'yellow')\n",
    "three_Rectangle.drawRectangle()"
   ]
  },
  {
   "cell_type": "code",
   "execution_count": null,
   "id": "c55d0033",
   "metadata": {},
   "outputs": [],
   "source": []
  }
 ],
 "metadata": {
  "kernelspec": {
   "display_name": "Python 3 (ipykernel)",
   "language": "python",
   "name": "python3"
  },
  "language_info": {
   "codemirror_mode": {
    "name": "ipython",
    "version": 3
   },
   "file_extension": ".py",
   "mimetype": "text/x-python",
   "name": "python",
   "nbconvert_exporter": "python",
   "pygments_lexer": "ipython3",
   "version": "3.9.7"
  }
 },
 "nbformat": 4,
 "nbformat_minor": 5
}
