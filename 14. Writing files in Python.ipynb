{
 "cells": [
  {
   "cell_type": "markdown",
   "id": "549321aa",
   "metadata": {},
   "source": [
    "# 14. Writing Files in Python"
   ]
  },
  {
   "cell_type": "markdown",
   "id": "4ac9d10d",
   "metadata": {},
   "source": [
    "* To Write to a text file in Python, you follow these steps;\n",
    "\n",
    "* First, Open the text file for which writing(or appending) using the open() function.\n",
    "* Second, write to the text file using the write() or writelines() methods.\n",
    "* Third, close the file using the close() methods.\n",
    "\n",
    "        Character ---------------> Functions\n",
    "        * r ---------------------> Open file for reading only. Starts reading from beginning of file. This difficult mode.\n",
    "        * rb---------------------> Open a file for reading only in binary formate. Starts reading from beginning of file.\n",
    "        * r+ --------------------> Open file for reading and writing. File pointer placed at beginning of the file.\n",
    "        * w ---------------------> Open file for writing only. File pointer placed at beginning of the file. Overwrited existing file and creates a new if it does not exists.\n",
    "        * wb --------------------> Same as w but opens in binary mode.\n",
    "        * w+ --------------------> Same as w but also allows to read from file.\n",
    "        * wb+ -------------------> Same as wb but also to read from file.\n",
    "        * a ---------------------> Open a file for appending. Starts writing at the end of file. Creates a new file if file does not exists.\n",
    "        * a+ --------------------> Same as a but also open for reading.\n",
    "        * ab---------------------> Same as a but in binary format. Creates file if file does not exists.\n",
    "        * ab+ -------------------> Same as ab but also open for reading."
   ]
  },
  {
   "cell_type": "markdown",
   "id": "d2af634a",
   "metadata": {},
   "source": [
    "# Writing files"
   ]
  },
  {
   "cell_type": "code",
   "execution_count": 3,
   "id": "ce9a3921",
   "metadata": {},
   "outputs": [],
   "source": [
    "# Writing lines to a file.\n",
    "\n",
    "fname='pcr_file.txt'\n",
    "\n",
    "with open(fname,'w') as f:\n",
    "    f.write('Myself xyz.')\n",
    "    f.write('I live at Chandan Nagar.')\n",
    "    f.write('I am good boy of pune.')\n",
    "    f.write('I am 18 yrs old.')"
   ]
  },
  {
   "cell_type": "code",
   "execution_count": 4,
   "id": "0f34dcc8",
   "metadata": {},
   "outputs": [
    {
     "name": "stdout",
     "output_type": "stream",
     "text": [
      "Myself xyz.I live at Chandan Nagar.I am good boy of pune.I am 18 yrs old.\n"
     ]
    }
   ],
   "source": [
    "with open(fname,'r') as f:\n",
    "    content = f.read()\n",
    "    print(content)"
   ]
  },
  {
   "cell_type": "code",
   "execution_count": 6,
   "id": "239b6662",
   "metadata": {},
   "outputs": [
    {
     "name": "stdout",
     "output_type": "stream",
     "text": [
      "\n"
     ]
    }
   ],
   "source": [
    "fname='pcr_file.txt'\n",
    "\n",
    "with open (fname,'a+') as f:\n",
    "    f.write('A very good book by fascinating man......')\n",
    "    print(f.read())"
   ]
  },
  {
   "cell_type": "code",
   "execution_count": 7,
   "id": "14e5b4b2",
   "metadata": {},
   "outputs": [
    {
     "name": "stdout",
     "output_type": "stream",
     "text": [
      "Myself xyz.I live at Chandan Nagar.I am good boy of pune.I am 18 yrs old.A very good book by fascinating man......A very good book by fascinating man......\n"
     ]
    }
   ],
   "source": [
    "with open (fname,'r') as f:\n",
    "    print(f.read())"
   ]
  },
  {
   "cell_type": "code",
   "execution_count": null,
   "id": "c7f8bf7d",
   "metadata": {},
   "outputs": [],
   "source": []
  }
 ],
 "metadata": {
  "kernelspec": {
   "display_name": "Python 3 (ipykernel)",
   "language": "python",
   "name": "python3"
  },
  "language_info": {
   "codemirror_mode": {
    "name": "ipython",
    "version": 3
   },
   "file_extension": ".py",
   "mimetype": "text/x-python",
   "name": "python",
   "nbconvert_exporter": "python",
   "pygments_lexer": "ipython3",
   "version": "3.9.7"
  }
 },
 "nbformat": 4,
 "nbformat_minor": 5
}
