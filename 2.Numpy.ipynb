{
 "cells": [
  {
   "cell_type": "markdown",
   "id": "6a63a3b6",
   "metadata": {},
   "source": [
    "# Numpy"
   ]
  },
  {
   "cell_type": "code",
   "execution_count": 1,
   "id": "947c2f4f",
   "metadata": {},
   "outputs": [],
   "source": [
    "import numpy as np"
   ]
  },
  {
   "cell_type": "code",
   "execution_count": 3,
   "id": "bb47dd82",
   "metadata": {},
   "outputs": [
    {
     "data": {
      "text/plain": [
       "<function numpy.array>"
      ]
     },
     "execution_count": 3,
     "metadata": {},
     "output_type": "execute_result"
    }
   ],
   "source": [
    "np.array"
   ]
  },
  {
   "cell_type": "code",
   "execution_count": 4,
   "id": "406e049d",
   "metadata": {},
   "outputs": [
    {
     "data": {
      "text/plain": [
       "array(<class 'object'>, dtype=object)"
      ]
     },
     "execution_count": 4,
     "metadata": {},
     "output_type": "execute_result"
    }
   ],
   "source": [
    "np.array(object,dtype=None, copy=True, order=None, subok=False,ndmin=0)"
   ]
  },
  {
   "cell_type": "markdown",
   "id": "0e536c60",
   "metadata": {},
   "source": [
    "The above constructor takes the following parameters:\n",
    "               * Object-----> Any object exposing the array interface method returns an array, or any nested sequence.\n",
    "               \n",
    "               * dtype -----> Desired data type of array, optinal\n",
    "               * copy-------> Optional. By default(true), the object is copied.\n",
    "               * order------> C(row major) or F (column major) or A(any) default.\n",
    "              * subok------> By default, returned array forced to be a base class array. If ture, sub classes passed though.\n",
    "               * ndmin------> Specifies minimum dimensions of resultant array."
   ]
  },
  {
   "cell_type": "code",
   "execution_count": 5,
   "id": "00c824d2",
   "metadata": {},
   "outputs": [
    {
     "name": "stdout",
     "output_type": "stream",
     "text": [
      "[1 2 3]\n"
     ]
    }
   ],
   "source": [
    "import numpy as np\n",
    "\n",
    "a=np.array([1,2,3])\n",
    "print(a)"
   ]
  },
  {
   "cell_type": "code",
   "execution_count": 7,
   "id": "12244a1c",
   "metadata": {},
   "outputs": [
    {
     "name": "stdout",
     "output_type": "stream",
     "text": [
      "[[1 2]\n",
      " [3 4]]\n"
     ]
    }
   ],
   "source": [
    "# more than one dimenson\n",
    "import numpy as np\n",
    "\n",
    "a = np.array([[1,2],[3,4]])\n",
    "print(a)"
   ]
  },
  {
   "cell_type": "code",
   "execution_count": 8,
   "id": "4f78b9f3",
   "metadata": {},
   "outputs": [
    {
     "name": "stdout",
     "output_type": "stream",
     "text": [
      "[[[1 2]\n",
      "  [3 4]\n",
      "  [5 6]]]\n"
     ]
    }
   ],
   "source": [
    "a = np.array([[[1,2],[3,4],[5,6]]])\n",
    "print(a)"
   ]
  },
  {
   "cell_type": "code",
   "execution_count": 11,
   "id": "7e5bf6a2",
   "metadata": {},
   "outputs": [
    {
     "name": "stdout",
     "output_type": "stream",
     "text": [
      "[[1 2 3 4 5]]\n"
     ]
    }
   ],
   "source": [
    "# Minimum dimensions\n",
    "import numpy as np\n",
    "\n",
    "a= np.array([1,2,3,4,5], ndmin=2)\n",
    "print(a)"
   ]
  },
  {
   "cell_type": "code",
   "execution_count": 13,
   "id": "1448b5e8",
   "metadata": {},
   "outputs": [
    {
     "name": "stdout",
     "output_type": "stream",
     "text": [
      "[1.+0.j 2.+0.j 3.+0.j]\n"
     ]
    },
    {
     "data": {
      "text/plain": [
       "'The ndarray object consists of contigious one-dimension segment of computer memory, combined with an indeding scheme that maps each items to a location in the memory block. The memory blcok holds the elements in a a row-major order or a column-major order(FORTRAN or MatLab style)'"
      ]
     },
     "execution_count": 13,
     "metadata": {},
     "output_type": "execute_result"
    }
   ],
   "source": [
    "# dtype parameter\n",
    "\n",
    "import numpy as np\n",
    "\n",
    "a= np.array([1,2,3], dtype=complex)\n",
    "\n",
    "print(a)\n",
    "\n",
    "'''The ndarray object consists of contigious one-dimension segment of computer memory, combined with an indeding scheme that maps each items to a location in the memory block. The memory blcok holds the elements in a a row-major order or a column-major order(FORTRAN or MatLab style)'''"
   ]
  },
  {
   "cell_type": "markdown",
   "id": "95737169",
   "metadata": {},
   "source": [
    "# Numpy Data types"
   ]
  },
  {
   "cell_type": "markdown",
   "id": "96d0d0ad",
   "metadata": {},
   "source": [
    "          *Data_Types-----------> Description\n",
    "          \n",
    "          * bool_---------------> Boolean(True or False) Stroed as byte.\n",
    "          * int_----------------> Default integer type(same as C long; normally either int64 or int32)\n",
    "          * intc----------------> Identical to C int(normally int32 or int64)\n",
    "          * intp----------------> Integer used for indexing (same as C size_t; normally either int32 or int64)\n",
    "          * int8----------------> Byte(-128 to 127)\n",
    "          * int32---------------> Integer(-32768 to 32767)\n",
    "          * int64---------------> Integer (-9223372036854775808  to 9223372036854775807)\n",
    "          * uint8---------------> Unsigned intger(0 to 255)\n",
    "          * uint16--------------> Unsigend integer(0 to 65535)\n",
    "          * uint32--------------> Unsigend integer(0 to 4294967295)\n",
    "          * uint64--------------> Unsigned integer(0 to 18446744073709551615)\n",
    "          * float_--------------> Shorthand for float64\n",
    "          * float16-------------> Half precision float: sign bit, 5 bit exponent, 10 bits mantissa\n",
    "          * float32-------------> Single precision float: sign bit, 8 bits exponent, 23 bits mantissa.\n",
    "          * float64-------------> Double precison float; sign bit, 11 bits exponent, 52 bits mantissa.\n",
    "          * complex_------------> Shorthand for complex128\n",
    "          * complex64-----------> Complex number, represented by two 32-bit floats(real and imaginary components)\n",
    "          * complex128----------> Complex number, represented by two 64-bit floats(real and imaginary components)"
   ]
  },
  {
   "cell_type": "code",
   "execution_count": 17,
   "id": "93d01379",
   "metadata": {},
   "outputs": [
    {
     "name": "stdout",
     "output_type": "stream",
     "text": [
      "int32\n"
     ]
    }
   ],
   "source": [
    "# using array-scalar type\n",
    "\n",
    "import numpy as np\n",
    "\n",
    "dt=np.dtype(np.int32)\n",
    "print(dt)"
   ]
  },
  {
   "cell_type": "code",
   "execution_count": 18,
   "id": "4f9d6701",
   "metadata": {},
   "outputs": [
    {
     "data": {
      "text/plain": [
       "dtype('int32')"
      ]
     },
     "execution_count": 18,
     "metadata": {},
     "output_type": "execute_result"
    }
   ],
   "source": [
    "# int8,int16,int32, int64 can be replaced by equivalent string'i1','i2','i4','i8'\n",
    "dt=np.dtype('i4')\n",
    "dt"
   ]
  },
  {
   "cell_type": "code",
   "execution_count": 19,
   "id": "c182b4e8",
   "metadata": {},
   "outputs": [
    {
     "data": {
      "text/plain": [
       "dtype('>i4')"
      ]
     },
     "execution_count": 19,
     "metadata": {},
     "output_type": "execute_result"
    }
   ],
   "source": [
    "dt=np.dtype('>i4')\n",
    "dt"
   ]
  },
  {
   "cell_type": "code",
   "execution_count": 23,
   "id": "2f805fbc",
   "metadata": {},
   "outputs": [
    {
     "name": "stdout",
     "output_type": "stream",
     "text": [
      "[('age', 'i1')]\n"
     ]
    }
   ],
   "source": [
    "# First create structured data type\n",
    "\n",
    "import numpy as np\n",
    "\n",
    "dt= np.dtype([('age',np.int8)])\n",
    "print(dt)"
   ]
  },
  {
   "cell_type": "code",
   "execution_count": 30,
   "id": "9eef315e",
   "metadata": {},
   "outputs": [
    {
     "name": "stdout",
     "output_type": "stream",
     "text": [
      "[(10,) (20,) (30,)]\n"
     ]
    }
   ],
   "source": [
    "# now apply it to ndarray object\n",
    "\n",
    "import numpy as np\n",
    "\n",
    "dt=np.dtype([('age',np.int8)])\n",
    "a= np.array([(10,),(20,),(30)], dtype=dt)\n",
    "print(a)"
   ]
  },
  {
   "cell_type": "code",
   "execution_count": 31,
   "id": "8f9a52c4",
   "metadata": {},
   "outputs": [
    {
     "name": "stdout",
     "output_type": "stream",
     "text": [
      "[10 20 30]\n"
     ]
    }
   ],
   "source": [
    "# file name can be used to access content of age column\n",
    "\n",
    "import numpy as np\n",
    "dt= np.dtype([('age', np.int8)])\n",
    "a = np.array([(10,),(20,),(30)], dtype=dt)\n",
    "print(a['age'])"
   ]
  },
  {
   "cell_type": "code",
   "execution_count": 32,
   "id": "14c96955",
   "metadata": {},
   "outputs": [
    {
     "name": "stdout",
     "output_type": "stream",
     "text": [
      "[('name', 'S20'), ('age', 'i1'), ('marks', '<f4')]\n"
     ]
    }
   ],
   "source": [
    "import numpy as np\n",
    "\n",
    "student=np.dtype([('name','S20'),('age','i1'),('marks','f4')])\n",
    "print(student)"
   ]
  },
  {
   "cell_type": "code",
   "execution_count": 35,
   "id": "17156a8d",
   "metadata": {},
   "outputs": [
    {
     "name": "stdout",
     "output_type": "stream",
     "text": [
      "[(b'Ayush', 21, 50.) (b'Kartik', 18, 70.)]\n"
     ]
    }
   ],
   "source": [
    "import numpy as np\n",
    "\n",
    "student=np.dtype([('name','S20'),('age','i1'),('marks','f4')])\n",
    "a=np.array([('Ayush',21,50),('Kartik',18,70)],dtype=student)\n",
    "print(a)"
   ]
  },
  {
   "cell_type": "markdown",
   "id": "bf89e169",
   "metadata": {},
   "source": [
    "Each build-in data type has a character code that uniquely identifies it.\n",
    "\n",
    "    * 'b': boolean\n",
    "    * 'i': (signed) integer\n",
    "    * 'u': unsigned integer\n",
    "    * 'f': floating-point\n",
    "    * 'c': complex-floating point\n",
    "    * 'm': timedelta\n",
    "    * 'M': datetime\n",
    "    * 'O': (python) Objects\n",
    "    * 'S','a': (byte-) string\n",
    "    * 'U': Unicode\n",
    "    * 'V': raw data(void)\n"
   ]
  },
  {
   "cell_type": "code",
   "execution_count": 40,
   "id": "ca60965e",
   "metadata": {},
   "outputs": [
    {
     "name": "stdout",
     "output_type": "stream",
     "text": [
      "[[1 2 3]\n",
      " [4 5 6]]\n"
     ]
    }
   ],
   "source": [
    "import numpy as np\n",
    "\n",
    "a=np.array([[1,2,3],[4,5,6]])\n",
    "print(a)"
   ]
  },
  {
   "cell_type": "code",
   "execution_count": 41,
   "id": "37bded48",
   "metadata": {},
   "outputs": [
    {
     "name": "stdout",
     "output_type": "stream",
     "text": [
      "(2, 3)\n"
     ]
    }
   ],
   "source": [
    "import numpy as np\n",
    "\n",
    "a=np.array([[1,2,3],[4,5,6]])\n",
    "print(a.shape)"
   ]
  },
  {
   "cell_type": "code",
   "execution_count": 42,
   "id": "a2e02aca",
   "metadata": {},
   "outputs": [
    {
     "name": "stdout",
     "output_type": "stream",
     "text": [
      "[[[1 2 3]\n",
      "  [4 5 6]\n",
      "  [7 8 9]]]\n"
     ]
    }
   ],
   "source": [
    "import numpy as np\n",
    "\n",
    "a=np.array([[[1,2,3],[4,5,6],[7,8,9]]])\n",
    "print(a)"
   ]
  },
  {
   "cell_type": "code",
   "execution_count": 43,
   "id": "2d5fff64",
   "metadata": {},
   "outputs": [
    {
     "name": "stdout",
     "output_type": "stream",
     "text": [
      "(1, 3, 3)\n"
     ]
    }
   ],
   "source": [
    "print(a.shape)"
   ]
  },
  {
   "cell_type": "code",
   "execution_count": 47,
   "id": "4f619e63",
   "metadata": {},
   "outputs": [
    {
     "name": "stdout",
     "output_type": "stream",
     "text": [
      "[[1 2]\n",
      " [3 4]\n",
      " [5 6]]\n"
     ]
    }
   ],
   "source": [
    "# NumPy also provides a reshape function to resize an array.\n",
    "\n",
    "import numpy as np\n",
    "\n",
    "a = np.array([[1,2,3],[4,5,6]])\n",
    "\n",
    "b= a.reshape(3,2)\n",
    "print(b)"
   ]
  },
  {
   "cell_type": "code",
   "execution_count": null,
   "id": "0ac7c07d",
   "metadata": {},
   "outputs": [],
   "source": []
  }
 ],
 "metadata": {
  "kernelspec": {
   "display_name": "Python 3 (ipykernel)",
   "language": "python",
   "name": "python3"
  },
  "language_info": {
   "codemirror_mode": {
    "name": "ipython",
    "version": 3
   },
   "file_extension": ".py",
   "mimetype": "text/x-python",
   "name": "python",
   "nbconvert_exporter": "python",
   "pygments_lexer": "ipython3",
   "version": "3.9.7"
  }
 },
 "nbformat": 4,
 "nbformat_minor": 5
}
