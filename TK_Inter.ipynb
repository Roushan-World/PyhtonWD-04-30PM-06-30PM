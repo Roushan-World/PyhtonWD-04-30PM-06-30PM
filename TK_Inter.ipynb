{
 "cells": [
  {
   "cell_type": "code",
   "execution_count": 1,
   "id": "d273a80a",
   "metadata": {},
   "outputs": [],
   "source": [
    "import tkinter as tk"
   ]
  },
  {
   "cell_type": "code",
   "execution_count": 2,
   "id": "38991081",
   "metadata": {},
   "outputs": [],
   "source": [
    "from tkinter import *"
   ]
  },
  {
   "cell_type": "markdown",
   "id": "ba94f890",
   "metadata": {},
   "source": [
    "# To creater a GUI Window, tkinter provides Tk() class. The syntax of Tk() class is"
   ]
  },
  {
   "cell_type": "code",
   "execution_count": 3,
   "id": "77d60478",
   "metadata": {},
   "outputs": [
    {
     "data": {
      "text/plain": [
       "<tkinter.Tk object .>"
      ]
     },
     "execution_count": 3,
     "metadata": {},
     "output_type": "execute_result"
    }
   ],
   "source": [
    "Tk(screenName=None, baseName=None, className='Tk', useTk=1)"
   ]
  },
  {
   "cell_type": "code",
   "execution_count": 6,
   "id": "89d5ad04",
   "metadata": {},
   "outputs": [],
   "source": [
    "import tkinter as tk\n",
    "main_windows=tk.Tk()\n",
    "main_windows.mainloop()"
   ]
  },
  {
   "cell_type": "code",
   "execution_count": 8,
   "id": "2b3f7c68",
   "metadata": {},
   "outputs": [],
   "source": [
    "import tkinter as tk\n",
    "\n",
    "main_windows=tk.Tk()\n",
    "main_windows.title('Python GUI Tutorial')\n",
    "main_windows.mainloop()"
   ]
  },
  {
   "cell_type": "markdown",
   "id": "9d4353b5",
   "metadata": {},
   "source": [
    "You can add into the windows that there are a wide variety of widget you can use from tkinter. In this tkinter , We will cover all the widget.\n",
    "\n",
    "    * Button\n",
    "    * Checkbutton\n",
    "    * Radiobutton\n",
    "    * Entry\n",
    "    * Frame\n",
    "    * Label\n",
    "    * Listbox\n",
    "    * Menu\n",
    "    * Menubutton\n",
    "    * Message\n",
    "    * Scale\n",
    "    * ScrollBar\n",
    "    * Text\n",
    "    * TopLebel\n",
    "    * Text\n",
    "    * SpinBox\n",
    "    * PannedWindows\n",
    "    "
   ]
  },
  {
   "cell_type": "code",
   "execution_count": 15,
   "id": "30ba9bd4",
   "metadata": {},
   "outputs": [],
   "source": [
    "from tkinter import *\n",
    "\n",
    "gui=Tk(className='Python GUI Button')\n",
    "\n",
    "button=Button(gui, text='Submit',width=50,height=4,bg='#33CC33',fg='#0000FF')\n",
    "button.pack()\n",
    "gui.mainloop()"
   ]
  },
  {
   "cell_type": "code",
   "execution_count": 26,
   "id": "1f5b88da",
   "metadata": {},
   "outputs": [],
   "source": [
    "from tkinter import *\n",
    "top=Tk()\n",
    "top.geometry('500x300')\n",
    "\n",
    "btn1=Button(top,text='Login')\n",
    "btn1.pack(side=LEFT)\n",
    "top.mainloop()"
   ]
  },
  {
   "cell_type": "code",
   "execution_count": 29,
   "id": "0d448697",
   "metadata": {},
   "outputs": [
    {
     "ename": "AttributeError",
     "evalue": "'_tkinter.tkapp' object has no attribute 'Label'",
     "output_type": "error",
     "traceback": [
      "\u001b[1;31m---------------------------------------------------------------------------\u001b[0m",
      "\u001b[1;31mAttributeError\u001b[0m                            Traceback (most recent call last)",
      "\u001b[1;32m~\\AppData\\Local\\Temp\\ipykernel_7240\\612111255.py\u001b[0m in \u001b[0;36m<module>\u001b[1;34m\u001b[0m\n\u001b[0;32m      8\u001b[0m \u001b[0me1\u001b[0m\u001b[1;33m=\u001b[0m\u001b[0mEntry\u001b[0m\u001b[1;33m(\u001b[0m\u001b[0mayush\u001b[0m\u001b[1;33m)\u001b[0m\u001b[1;33m\u001b[0m\u001b[1;33m\u001b[0m\u001b[0m\n\u001b[0;32m      9\u001b[0m \u001b[0me1\u001b[0m\u001b[1;33m.\u001b[0m\u001b[0mgrid\u001b[0m\u001b[1;33m(\u001b[0m\u001b[0mrow\u001b[0m\u001b[1;33m=\u001b[0m\u001b[1;36m0\u001b[0m\u001b[1;33m,\u001b[0m\u001b[0mcolumn\u001b[0m\u001b[1;33m=\u001b[0m\u001b[1;36m1\u001b[0m\u001b[1;33m)\u001b[0m\u001b[1;33m\u001b[0m\u001b[1;33m\u001b[0m\u001b[0m\n\u001b[1;32m---> 10\u001b[1;33m \u001b[0mregno\u001b[0m\u001b[1;33m.\u001b[0m\u001b[0mLabel\u001b[0m\u001b[1;33m(\u001b[0m\u001b[0mayush\u001b[0m\u001b[1;33m,\u001b[0m\u001b[0mtext\u001b[0m\u001b[1;33m=\u001b[0m\u001b[1;34m'Regd No:'\u001b[0m\u001b[1;33m)\u001b[0m\u001b[1;33m\u001b[0m\u001b[1;33m\u001b[0m\u001b[0m\n\u001b[0m\u001b[0;32m     11\u001b[0m \u001b[0mregno\u001b[0m\u001b[1;33m.\u001b[0m\u001b[0mgrid\u001b[0m\u001b[1;33m(\u001b[0m\u001b[0mrow\u001b[0m\u001b[1;33m=\u001b[0m\u001b[1;36m1\u001b[0m\u001b[1;33m,\u001b[0m\u001b[0mcolumn\u001b[0m\u001b[1;33m=\u001b[0m\u001b[1;36m0\u001b[0m\u001b[1;33m,\u001b[0m\u001b[0mpady\u001b[0m\u001b[1;33m=\u001b[0m\u001b[1;36m10\u001b[0m\u001b[1;33m,\u001b[0m\u001b[0mpadx\u001b[0m\u001b[1;33m=\u001b[0m\u001b[1;36m5\u001b[0m\u001b[1;33m)\u001b[0m\u001b[1;33m\u001b[0m\u001b[1;33m\u001b[0m\u001b[0m\n\u001b[0;32m     12\u001b[0m \u001b[0me2\u001b[0m\u001b[1;33m=\u001b[0m\u001b[0mEntry\u001b[0m\u001b[1;33m(\u001b[0m\u001b[0mayush\u001b[0m\u001b[1;33m)\u001b[0m\u001b[1;33m\u001b[0m\u001b[1;33m\u001b[0m\u001b[0m\n",
      "\u001b[1;32m~\\anaconda3\\lib\\tkinter\\__init__.py\u001b[0m in \u001b[0;36m__getattr__\u001b[1;34m(self, attr)\u001b[0m\n\u001b[0;32m   2352\u001b[0m     \u001b[1;32mdef\u001b[0m \u001b[0m__getattr__\u001b[0m\u001b[1;33m(\u001b[0m\u001b[0mself\u001b[0m\u001b[1;33m,\u001b[0m \u001b[0mattr\u001b[0m\u001b[1;33m)\u001b[0m\u001b[1;33m:\u001b[0m\u001b[1;33m\u001b[0m\u001b[1;33m\u001b[0m\u001b[0m\n\u001b[0;32m   2353\u001b[0m         \u001b[1;34m\"Delegate attribute access to the interpreter object\"\u001b[0m\u001b[1;33m\u001b[0m\u001b[1;33m\u001b[0m\u001b[0m\n\u001b[1;32m-> 2354\u001b[1;33m         \u001b[1;32mreturn\u001b[0m \u001b[0mgetattr\u001b[0m\u001b[1;33m(\u001b[0m\u001b[0mself\u001b[0m\u001b[1;33m.\u001b[0m\u001b[0mtk\u001b[0m\u001b[1;33m,\u001b[0m \u001b[0mattr\u001b[0m\u001b[1;33m)\u001b[0m\u001b[1;33m\u001b[0m\u001b[1;33m\u001b[0m\u001b[0m\n\u001b[0m\u001b[0;32m   2355\u001b[0m \u001b[1;33m\u001b[0m\u001b[0m\n\u001b[0;32m   2356\u001b[0m \u001b[1;31m# Ideally, the classes Pack, Place and Grid disappear, the\u001b[0m\u001b[1;33m\u001b[0m\u001b[1;33m\u001b[0m\u001b[0m\n",
      "\u001b[1;31mAttributeError\u001b[0m: '_tkinter.tkapp' object has no attribute 'Label'"
     ]
    }
   ],
   "source": [
    "from tkinter import *\n",
    "regno=Tk()\n",
    "ayush=Tk()\n",
    "ayush.title('Students')\n",
    "ayush.geometry('300x200')\n",
    "name=Label(ayush,text='Name:')\n",
    "name.grid(row=0,column=0,pady=10,padx=5)\n",
    "e1=Entry(ayush)\n",
    "e1.grid(row=0,column=1)\n",
    "regno.Label(ayush,text='Regd No:')\n",
    "regno.grid(row=1,column=0,pady=10,padx=5)\n",
    "e2=Entry(ayush)\n",
    "e2.grid(row=1,column=1)\n",
    "btn=Button(ayush,text='Submit')\n",
    "btn.grid(row=3,column=1)\n",
    "ayush.mainloop()"
   ]
  },
  {
   "cell_type": "code",
   "execution_count": null,
   "id": "65db03e3",
   "metadata": {},
   "outputs": [],
   "source": []
  },
  {
   "cell_type": "code",
   "execution_count": 34,
   "id": "a659ee75",
   "metadata": {},
   "outputs": [],
   "source": [
    "from tkinter import *  \n",
    "base = Tk()  \n",
    "base.geometry(\"500x500\")  \n",
    "base.title(\"registration form\")  \n",
    "  \n",
    "lb1= Label(base, text=\"Enter Name\", width=10, font=(\"arial\",12))  \n",
    "lb1.place(x=20, y=120)  \n",
    "en1= Entry(base)  \n",
    "en1.place(x=200, y=120)  \n",
    "  \n",
    "lb3= Label(base, text=\"Enter Email\", width=10, font=(\"arial\",12))  \n",
    "lb3.place(x=19, y=160)  \n",
    "en3= Entry(base)  \n",
    "en3.place(x=200, y=160)  \n",
    "  \n",
    "lb4= Label(base, text=\"Contact Number\", width=13,font=(\"arial\",12))  \n",
    "lb4.place(x=19, y=200)  \n",
    "en4= Entry(base)  \n",
    "en4.place(x=200, y=200)  \n",
    "  \n",
    "lb5= Label(base, text=\"Select Gender\", width=15, font=(\"arial\",12))  \n",
    "lb5.place(x=5, y=240)  \n",
    "vars = IntVar()  \n",
    "Radiobutton(base, text=\"Male\", padx=5,variable=vars, value=1).place(x=180, y=240)  \n",
    "Radiobutton(base, text=\"Female\", padx =10,variable=vars, value=2).place(x=240,y=240)  \n",
    "Radiobutton(base, text=\"others\", padx=15, variable=vars, value=3).place(x=310,y=240)  \n",
    "  \n",
    "list_of_cntry = (\"United States\", \"India\", \"Nepal\", \"Germany\")  \n",
    "cv = StringVar()  \n",
    "drplist= OptionMenu(base, cv, *list_of_cntry)  \n",
    "drplist.config(width=15)  \n",
    "cv.set(\"United States\")  \n",
    "lb2= Label(base, text=\"Select Country\", width=13,font=(\"arial\",12))  \n",
    "lb2.place(x=14,y=280)  \n",
    "drplist.place(x=200, y=275)  \n",
    "  \n",
    "lb6= Label(base, text=\"Enter Password\", width=13,font=(\"arial\",12))  \n",
    "lb6.place(x=19, y=320)  \n",
    "en6= Entry(base, show='*')  \n",
    "en6.place(x=200, y=320)  \n",
    "  \n",
    "lb7= Label(base, text=\"Re-Enter Password\", width=15,font=(\"arial\",12))  \n",
    "lb7.place(x=21, y=360)  \n",
    "en7 =Entry(base, show='*')  \n",
    "en7.place(x=200, y=360)  \n",
    "  \n",
    "Button(base, text=\"Register\", width=10).place(x=200,y=400)  \n",
    "base.mainloop()"
   ]
  },
  {
   "cell_type": "code",
   "execution_count": 32,
   "id": "19132986",
   "metadata": {},
   "outputs": [
    {
     "name": "stdout",
     "output_type": "stream",
     "text": [
      "Hello, Roushan!\n",
      "Hello, Roushan!\n",
      "Hello, Roushan!\n",
      "Hello, Roushan!\n",
      "Hello, Roushan!\n",
      "Hello, Roushan!\n",
      "Hello, Roushan!\n"
     ]
    }
   ],
   "source": [
    "import tkinter as tk\n",
    "\n",
    "# Create a new instance of Tkinter\n",
    "root = tk.Tk()\n",
    "\n",
    "# Create a label for the form\n",
    "label = tk.Label(root, text=\"Please enter your name:\")\n",
    "label.pack()\n",
    "\n",
    "# Create an entry field for the user's name\n",
    "entry = tk.Entry(root)\n",
    "entry.pack()\n",
    "\n",
    "# Define a function to be called when the user clicks the \"Submit\" button\n",
    "def submit():\n",
    "    name = entry.get()\n",
    "    print(\"Hello, \" + name + \"!\")\n",
    "\n",
    "# Create a button to submit the form\n",
    "button = tk.Button(root, text=\"Submit\", command=submit)\n",
    "button.pack()\n",
    "\n",
    "# Run the Tkinter event loop\n",
    "root.mainloop()\n"
   ]
  },
  {
   "cell_type": "code",
   "execution_count": 37,
   "id": "14fdb350",
   "metadata": {},
   "outputs": [
    {
     "ename": "ModuleNotFoundError",
     "evalue": "No module named 'cv2'",
     "output_type": "error",
     "traceback": [
      "\u001b[1;31m---------------------------------------------------------------------------\u001b[0m",
      "\u001b[1;31mModuleNotFoundError\u001b[0m                       Traceback (most recent call last)",
      "\u001b[1;32m~\\AppData\\Local\\Temp\\ipykernel_7240\\3873914316.py\u001b[0m in \u001b[0;36m<module>\u001b[1;34m\u001b[0m\n\u001b[0;32m      1\u001b[0m \u001b[1;32mimport\u001b[0m \u001b[0mtkinter\u001b[0m \u001b[1;32mas\u001b[0m \u001b[0mtk\u001b[0m\u001b[1;33m\u001b[0m\u001b[1;33m\u001b[0m\u001b[0m\n\u001b[1;32m----> 2\u001b[1;33m \u001b[1;32mimport\u001b[0m \u001b[0mcv2\u001b[0m\u001b[1;33m\u001b[0m\u001b[1;33m\u001b[0m\u001b[0m\n\u001b[0m\u001b[0;32m      3\u001b[0m \u001b[1;33m\u001b[0m\u001b[0m\n\u001b[0;32m      4\u001b[0m \u001b[1;31m# Create a new instance of Tkinter\u001b[0m\u001b[1;33m\u001b[0m\u001b[1;33m\u001b[0m\u001b[0m\n\u001b[0;32m      5\u001b[0m \u001b[0mroot\u001b[0m \u001b[1;33m=\u001b[0m \u001b[0mtk\u001b[0m\u001b[1;33m.\u001b[0m\u001b[0mTk\u001b[0m\u001b[1;33m(\u001b[0m\u001b[1;33m)\u001b[0m\u001b[1;33m\u001b[0m\u001b[1;33m\u001b[0m\u001b[0m\n",
      "\u001b[1;31mModuleNotFoundError\u001b[0m: No module named 'cv2'"
     ]
    }
   ],
   "source": [
    "import tkinter as tk\n",
    "import cv2\n",
    "\n",
    "# Create a new instance of Tkinter\n",
    "root = tk.Tk()\n",
    "\n",
    "# Create a label for the video stream\n",
    "label = tk.Label(root)\n",
    "label.pack()\n",
    "\n",
    "# Define a function to be called periodically to capture frames from the webcam\n",
    "def update_video():\n",
    "    # Capture a frame from the webcam\n",
    "    capture = cv2.VideoCapture(0)\n",
    "    ret, frame = capture.read()\n",
    "\n",
    "    # Convert the frame from BGR to RGB format for display in Tkinter\n",
    "    frame_rgb = cv2.cvtColor(frame, cv2.COLOR_BGR2RGB)\n",
    "\n",
    "    # Display the frame in the Tkinter label\n",
    "    image = tk.PhotoImage(data=cv2.imencode('.png', frame_rgb)[1].tobytes())\n",
    "    label.config(image=image)\n",
    "    label.image = image\n",
    "\n",
    "    # Schedule the next update of the video stream\n",
    "    root.after(10, update_video)\n",
    "\n",
    "# Start the video stream\n",
    "update_video()\n",
    "\n",
    "# Run the Tkinter event loop\n",
    "root.mainloop()\n"
   ]
  },
  {
   "cell_type": "code",
   "execution_count": null,
   "id": "a525c096",
   "metadata": {},
   "outputs": [],
   "source": []
  }
 ],
 "metadata": {
  "kernelspec": {
   "display_name": "Python 3 (ipykernel)",
   "language": "python",
   "name": "python3"
  },
  "language_info": {
   "codemirror_mode": {
    "name": "ipython",
    "version": 3
   },
   "file_extension": ".py",
   "mimetype": "text/x-python",
   "name": "python",
   "nbconvert_exporter": "python",
   "pygments_lexer": "ipython3",
   "version": "3.9.13"
  }
 },
 "nbformat": 4,
 "nbformat_minor": 5
}
