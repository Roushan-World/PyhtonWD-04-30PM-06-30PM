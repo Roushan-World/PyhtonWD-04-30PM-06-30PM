{
 "cells": [
  {
   "cell_type": "markdown",
   "id": "d0af7f78",
   "metadata": {},
   "source": [
    "# 8. Loops in Python\n"
   ]
  },
  {
   "cell_type": "markdown",
   "id": "d84766aa",
   "metadata": {},
   "source": [
    "* A for loop is used for iterating over a sequence (that is either a list, s tuple, a dictionary, a set, or a string).\n",
    "* This is less like the for keyword in other programming languages, and works more like an iterator method as found in other \n",
    "object- oriented programming languages.\n",
    "* With the for loop we can execute a set of statements, once for each item in a list, tuple, set etc.\n",
    "* The for loop does not require an indexing variable to set beforehand.\n",
    "* With the while loop we can execute a set of statements as long as a condition is true.\n",
    "* Note: remember to increment i, or else the loop will continue forever.\n",
    "* The while loop requires relevant variables to be ready, in this example we need to define an indexing variable, i, which we \n",
    "set to 1."
   ]
  },
  {
   "cell_type": "markdown",
   "id": "75903d53",
   "metadata": {},
   "source": [
    "# range() function"
   ]
  },
  {
   "cell_type": "markdown",
   "id": "8c166a39",
   "metadata": {},
   "source": [
    "* It is helpful to think of the range object as an ordered list.\n",
    "* To loop though a set of code a specified number of times, we can use the range() fuctions.\n",
    "* The range() functions returns a sequence of numbers, starting from 0 by default, and increments by 1(by default) and ends at a spefified number."
   ]
  },
  {
   "cell_type": "code",
   "execution_count": 1,
   "id": "1128b8ab",
   "metadata": {},
   "outputs": [
    {
     "name": "stdout",
     "output_type": "stream",
     "text": [
      "range(0, 100)\n",
      "range(0, 5)\n"
     ]
    }
   ],
   "source": [
    "# Take a range() functions\n",
    "print(range(100))\n",
    "print(range(5))"
   ]
  },
  {
   "cell_type": "markdown",
   "id": "da010620",
   "metadata": {},
   "source": [
    "# for loop"
   ]
  },
  {
   "cell_type": "markdown",
   "id": "c5f1a484",
   "metadata": {},
   "source": [
    "* The for loop enables you to execute a code block multiple times."
   ]
  },
  {
   "cell_type": "code",
   "execution_count": 2,
   "id": "241f38ff",
   "metadata": {},
   "outputs": [
    {
     "name": "stdout",
     "output_type": "stream",
     "text": [
      "2025\n",
      "2006\n",
      "2007\n",
      "2008\n",
      "2009\n",
      "2010\n"
     ]
    }
   ],
   "source": [
    "# Take an example\n",
    "# Directly accessing to the element in the list.\n",
    "\n",
    "years=[2025,2006,2007,2008,2009,2010]\n",
    "\n",
    "for s in years:\n",
    "    print(s)\n",
    "\n"
   ]
  },
  {
   "cell_type": "code",
   "execution_count": 3,
   "id": "b15a77e5",
   "metadata": {},
   "outputs": [
    {
     "name": "stdout",
     "output_type": "stream",
     "text": [
      "2025\n",
      "2006\n",
      "2007\n",
      "2008\n",
      "2009\n",
      "2010\n"
     ]
    }
   ],
   "source": [
    "# Take an example\n",
    "# Directly accessing to the element in the list.\n",
    "\n",
    "years=[2025,2006,2007,2008,2009,2010]\n",
    "\n",
    "for i in years:\n",
    "    print(i)"
   ]
  },
  {
   "cell_type": "code",
   "execution_count": 4,
   "id": "b004b030",
   "metadata": {},
   "outputs": [
    {
     "name": "stdout",
     "output_type": "stream",
     "text": [
      "2\n",
      "3\n",
      "4\n",
      "5\n",
      "6\n",
      "7\n",
      "8\n",
      "9\n",
      "10\n",
      "11\n"
     ]
    }
   ],
   "source": [
    "# Another for loop example\n",
    "\n",
    "for i in range(2,12):\n",
    "    print(i)"
   ]
  },
  {
   "cell_type": "code",
   "execution_count": 5,
   "id": "fc145232",
   "metadata": {},
   "outputs": [
    {
     "name": "stdout",
     "output_type": "stream",
     "text": [
      "2\n",
      "5\n",
      "8\n",
      "11\n"
     ]
    }
   ],
   "source": [
    "for i in range(2,12,3): #printing loops with step value\n",
    "    print(i)"
   ]
  },
  {
   "cell_type": "code",
   "execution_count": 6,
   "id": "3b4295a1",
   "metadata": {},
   "outputs": [
    {
     "name": "stdout",
     "output_type": "stream",
     "text": [
      "Before language 0 is Java\n",
      "After language 0 is Python\n",
      "Before language 1 is JavaScripts\n",
      "After language 1 is Python\n",
      "Before language 2 is C\n",
      "After language 2 is Python\n",
      "Before language 3 is C++\n",
      "After language 3 is Python\n",
      "Before language 4 is PHP\n",
      "After language 4 is Python\n"
     ]
    }
   ],
   "source": [
    "# Changing the element in the list.\n",
    "languages=['Java','JavaScripts','C','C++','PHP']\n",
    "\n",
    "for i in range(len(languages)):\n",
    "    print('Before language',i,'is',languages[i])\n",
    "    languages[i]='Python'\n",
    "    print('After language',i,'is',languages[i])"
   ]
  },
  {
   "cell_type": "code",
   "execution_count": 7,
   "id": "38f9d7ca",
   "metadata": {},
   "outputs": [
    {
     "name": "stdout",
     "output_type": "stream",
     "text": [
      "0 Java\n",
      "1 JavaScripts\n",
      "2 C\n",
      "3 C++\n",
      "4 PHP\n"
     ]
    }
   ],
   "source": [
    "languages=['Java','JavaScripts','C','C++','PHP']\n",
    "\n",
    "for index,language in enumerate(languages):\n",
    "    print(index,language)"
   ]
  },
  {
   "cell_type": "code",
   "execution_count": 8,
   "id": "a66eb0aa",
   "metadata": {},
   "outputs": [
    {
     "name": "stdout",
     "output_type": "stream",
     "text": [
      "-3\n",
      "-2\n",
      "-1\n",
      "0\n",
      "1\n",
      "2\n",
      "3\n",
      "4\n",
      "5\n",
      "6\n"
     ]
    }
   ],
   "source": [
    "# Take the numbers between -3 and 6 using for loop\n",
    "# use range() function\n",
    "for i in range(-3,7):\n",
    "    print(i)"
   ]
  },
  {
   "cell_type": "code",
   "execution_count": 9,
   "id": "96e8fb7f",
   "metadata": {},
   "outputs": [
    {
     "ename": "SyntaxError",
     "evalue": "unexpected EOF while parsing (Temp/ipykernel_17956/4078660408.py, line 9)",
     "output_type": "error",
     "traceback": [
      "\u001b[1;36m  File \u001b[1;32m\"C:\\Users\\ROUSHA~1\\AppData\\Local\\Temp/ipykernel_17956/4078660408.py\"\u001b[1;36m, line \u001b[1;32m9\u001b[0m\n\u001b[1;33m    print('%d x %d = %d' %(number,i,number*i),',',('%d x %d = %d' %(number1,i,number1*i))\u001b[0m\n\u001b[1;37m                                                                                         ^\u001b[0m\n\u001b[1;31mSyntaxError\u001b[0m\u001b[1;31m:\u001b[0m unexpected EOF while parsing\n"
     ]
    }
   ],
   "source": [
    "# How to print table with for loop\n",
    "\n",
    "number=int(input('Enter any number: '))\n",
    "number1=int(input('Enter second number: '))\n",
    "\n",
    "print(f'The entered number is {number} and {number1}.')\n",
    "\n",
    "for i in range(1,11):\n",
    "    print('%d x %d = %d' %(number,i,number*i),',',('%d x %d = %d' %(number1,i,number1*i))"
   ]
  },
  {
   "cell_type": "code",
   "execution_count": null,
   "id": "ef803b02",
   "metadata": {},
   "outputs": [],
   "source": [
    "number=int(input('enter table no.= '))\n",
    "number1=int(input('enter table no.= '))\n",
    "number2=int(input('enter table no.= '))\n",
    "print(f'the entered no. is ={number}.')\n",
    "\n",
    "for i in range(1,11):\n",
    "    print('%d x %d = %d' %(number,i,number*i),',','%d x %d = %d' %(number1,i,number1*i),',', '%d x %d = %d' %(number2,i,number2*i))"
   ]
  },
  {
   "cell_type": "code",
   "execution_count": 10,
   "id": "24f1957c",
   "metadata": {},
   "outputs": [
    {
     "name": "stdout",
     "output_type": "stream",
     "text": [
      "The total value of the number in the list is:  2355.483\n"
     ]
    }
   ],
   "source": [
    "# Take a list\n",
    "nlis=[0,577,2.718,3.147,1.618,1728,6,37]\n",
    "\n",
    "# Write a condition for loops for addition\n",
    "\n",
    "count=0\n",
    "for i in nlis:\n",
    "    count+=i\n",
    "print('The total value of the number in the list is: ',count)"
   ]
  },
  {
   "cell_type": "code",
   "execution_count": 11,
   "id": "946dc819",
   "metadata": {},
   "outputs": [
    {
     "name": "stdout",
     "output_type": "stream",
     "text": [
      "1,2,3,4,5,6,These are numbers for 1 to 6\n"
     ]
    }
   ],
   "source": [
    "for i in range(1,7):\n",
    "    print(i,end=',')\n",
    "else:\n",
    "    print('These are numbers for 1 to 6')"
   ]
  },
  {
   "cell_type": "markdown",
   "id": "22c0a147",
   "metadata": {},
   "source": [
    "# nasted for loop"
   ]
  },
  {
   "cell_type": "code",
   "execution_count": 13,
   "id": "487d900e",
   "metadata": {},
   "outputs": [
    {
     "name": "stdout",
     "output_type": "stream",
     "text": [
      "Enter a number: 10\n",
      "The number entered by the user is10.\n",
      "\n",
      "*,\n",
      "*,*,\n",
      "*,*,*,\n",
      "*,*,*,*,\n",
      "*,*,*,*,*,\n",
      "*,*,*,*,*,*,\n",
      "*,*,*,*,*,*,*,\n",
      "*,*,*,*,*,*,*,*,\n",
      "*,*,*,*,*,*,*,*,*,\n",
      "*,*,*,*,*,*,*,*,*,*,"
     ]
    }
   ],
   "source": [
    "num=int(input('Enter a number: '))\n",
    "print(f'The number entered by the user is{num}.')\n",
    "i,j=0,0\n",
    "for i in range(0,num):\n",
    "    print()\n",
    "    for j in range(0,i+1):\n",
    "        print('*',end=',')"
   ]
  },
  {
   "cell_type": "code",
   "execution_count": 14,
   "id": "aa20687b",
   "metadata": {},
   "outputs": [
    {
     "name": "stdout",
     "output_type": "stream",
     "text": [
      "1\n",
      "2\n",
      "3\n",
      "4\n",
      "5\n",
      "6\n",
      "7\n",
      "8\n",
      "9\n"
     ]
    }
   ],
   "source": [
    "# Take a list #Break\n",
    "nlis=[1,2,3,4,5,6,7,8,9,10,11,12,13,14]\n",
    "\n",
    "for i in nlis:\n",
    "    if i==10:\n",
    "        break\n",
    "    print(i)"
   ]
  },
  {
   "cell_type": "code",
   "execution_count": 15,
   "id": "3c725869",
   "metadata": {},
   "outputs": [
    {
     "name": "stdout",
     "output_type": "stream",
     "text": [
      "1\n",
      "2\n",
      "3\n",
      "4\n",
      "6\n",
      "7\n",
      "8\n",
      "9\n",
      "10\n",
      "11\n",
      "12\n",
      "13\n",
      "14\n"
     ]
    },
    {
     "data": {
      "text/plain": [
       "'You see that output includes the numbers without 5.\\nThe continue function jumps when it meets with the reference.\\n'"
      ]
     },
     "execution_count": 15,
     "metadata": {},
     "output_type": "execute_result"
    }
   ],
   "source": [
    "#Continue \n",
    "nlis1=[1,2,3,4,5,6,7,8,9,10,11,12,13,14]\n",
    "\n",
    "for i in nlis1:\n",
    "    if i==5:\n",
    "        continue\n",
    "    print(i)\n",
    "    \n",
    "'''You see that output includes the numbers without 5.\n",
    "The continue function jumps when it meets with the reference.\n",
    "'''"
   ]
  },
  {
   "cell_type": "code",
   "execution_count": 16,
   "id": "9ad55000",
   "metadata": {},
   "outputs": [
    {
     "name": "stdout",
     "output_type": "stream",
     "text": [
      "1\n",
      "2\n",
      "3\n",
      "4\n",
      "5\n",
      "6\n",
      "7\n",
      "8\n",
      "9\n",
      "10\n"
     ]
    }
   ],
   "source": [
    "# 1. Write first 10 natural numbers using for loops.\n",
    "\n",
    "for i in range(1,11):\n",
    "    print(i)"
   ]
  },
  {
   "cell_type": "code",
   "execution_count": 17,
   "id": "3492db7d",
   "metadata": {},
   "outputs": [
    {
     "name": "stdout",
     "output_type": "stream",
     "text": [
      "1\n",
      "2\n",
      "3\n",
      "4\n",
      "5\n",
      "6\n",
      "7\n",
      "8\n",
      "9\n",
      "10\n"
     ]
    }
   ],
   "source": [
    "n=11\n",
    "for i in range(1,n):\n",
    "    print(i)"
   ]
  },
  {
   "cell_type": "code",
   "execution_count": 18,
   "id": "29a75b65",
   "metadata": {},
   "outputs": [
    {
     "name": "stdout",
     "output_type": "stream",
     "text": [
      "Enter any number: 20\n",
      "0\n",
      "2\n",
      "4\n",
      "6\n",
      "8\n",
      "10\n",
      "12\n",
      "14\n",
      "16\n",
      "18\n"
     ]
    }
   ],
   "source": [
    "# 2. Write the program to print all the even numbers within the given number 10.\n",
    "\n",
    "given_number=int(input('Enter any number: '))\n",
    "\n",
    "for i in range(given_number):\n",
    "    if i%2==0:\n",
    "        print(i)"
   ]
  },
  {
   "cell_type": "code",
   "execution_count": 19,
   "id": "33b48a01",
   "metadata": {},
   "outputs": [
    {
     "name": "stdout",
     "output_type": "stream",
     "text": [
      "55\n"
     ]
    }
   ],
   "source": [
    "# Write a program to calculate the sum of all the numbers from 1 to number 10.\n",
    "\n",
    "given_number=10\n",
    "\n",
    "sum=0\n",
    "for i in range(1,given_number+1):\n",
    "    sum+=i\n",
    "print(sum)"
   ]
  },
  {
   "cell_type": "code",
   "execution_count": 20,
   "id": "2a179831",
   "metadata": {},
   "outputs": [
    {
     "name": "stdout",
     "output_type": "stream",
     "text": [
      "The addition of total of odd numbers 1 to 10 is:  25\n"
     ]
    }
   ],
   "source": [
    "# Write a program to calculate the sum of all the odd number within the given range 10.\n",
    "number=10\n",
    "sum=0\n",
    "for i in range(1,number):\n",
    "    if i%2!=0:\n",
    "        sum+=i\n",
    "print('The addition of total of odd numbers 1 to 10 is: ',sum)"
   ]
  },
  {
   "cell_type": "code",
   "execution_count": 21,
   "id": "1f611360",
   "metadata": {},
   "outputs": [
    {
     "name": "stdout",
     "output_type": "stream",
     "text": [
      "10\n"
     ]
    }
   ],
   "source": [
    "# Write a program to count the total number of digits in a number.\n",
    "\n",
    "given_number=1524658955\n",
    "\n",
    "given_number=str(given_number)\n",
    "\n",
    "count=0\n",
    "\n",
    "for i in given_number:\n",
    "    count+=1\n",
    "    \n",
    "print(count)"
   ]
  },
  {
   "cell_type": "code",
   "execution_count": 22,
   "id": "617a672c",
   "metadata": {},
   "outputs": [
    {
     "name": "stdout",
     "output_type": "stream",
     "text": [
      "The String madam is a palindrome\n"
     ]
    }
   ],
   "source": [
    "# write a program to check if the given string is a palindrome.\n",
    "\n",
    "# given string is madam\n",
    "\n",
    "given_string='madam'\n",
    "\n",
    "reverse_string=''\n",
    "\n",
    "for i in given_string:\n",
    "    reverse_string=i+reverse_string\n",
    "    \n",
    "if(given_string==reverse_string):\n",
    "    print('The String', given_string, 'is a palindrome')\n",
    "    \n",
    "else:\n",
    "    print('The string',given_string,'is not a palindrome')"
   ]
  },
  {
   "cell_type": "code",
   "execution_count": 23,
   "id": "0664bea2",
   "metadata": {},
   "outputs": [
    {
     "name": "stdout",
     "output_type": "stream",
     "text": [
      "Enter your Palindrome words: madam\n",
      "The String madam is a palindrome\n"
     ]
    }
   ],
   "source": [
    "given_string=input('Enter your Palindrome words: ')\n",
    "\n",
    "reverse_string=''\n",
    "\n",
    "for i in given_string:\n",
    "    reverse_string=i+reverse_string\n",
    "    \n",
    "if(given_string==reverse_string):\n",
    "    print('The String', given_string, 'is a palindrome')\n",
    "    \n",
    "else:\n",
    "    print('The string',given_string,'is not a palindrome')\n",
    "    "
   ]
  },
  {
   "cell_type": "code",
   "execution_count": 24,
   "id": "b7a2cbd1",
   "metadata": {},
   "outputs": [
    {
     "name": "stdout",
     "output_type": "stream",
     "text": [
      "Enter any word for reverse: roushan\n",
      "The Words is reversed:  nahsuor\n"
     ]
    }
   ],
   "source": [
    "# Write a program to accept a word from the user and reverse it.\n",
    "\n",
    "given_string=input('Enter any word for reverse: ')\n",
    "\n",
    "reverse_string=\"\"\n",
    "\n",
    "for i in given_string:\n",
    "    reverse_string=i + reverse_string\n",
    "    \n",
    "print(\"The Words is reversed: \",reverse_string)"
   ]
  },
  {
   "cell_type": "code",
   "execution_count": 25,
   "id": "ca0a82ff",
   "metadata": {},
   "outputs": [
    {
     "name": "stdout",
     "output_type": "stream",
     "text": [
      "Enter any number: 153\n",
      "The given number 153  is an Armstrong number.\n"
     ]
    }
   ],
   "source": [
    "# Write a program to check if a given number is an Armstrong number?\n",
    "\n",
    "given_number=str(input('Enter any number: '))\n",
    "\n",
    "#given_number=str(given_number)\n",
    "\n",
    "string_length=len(given_number)\n",
    "\n",
    "sum=0\n",
    "\n",
    "for i in given_number:\n",
    "    sum+=int(i)**string_length\n",
    "    \n",
    "    \n",
    "if sum==int(given_number):\n",
    "    print('The given number', given_number,' is an Armstrong number.')\n",
    "    \n",
    "else:\n",
    "    print('The given number', given_number,' is not Armstrong number.')\n",
    "    "
   ]
  },
  {
   "cell_type": "code",
   "execution_count": 26,
   "id": "355a12d3",
   "metadata": {},
   "outputs": [
    {
     "name": "stdout",
     "output_type": "stream",
     "text": [
      "1  is odd number.\n",
      "3  is odd number.\n",
      "5  is odd number.\n",
      "6  is even number.\n",
      "7  is odd number.\n",
      "99  is odd number.\n",
      "137  is odd number.\n",
      "138  is even number.\n",
      "55  is odd number.\n",
      "100  is even number.\n",
      "121  is odd number.\n",
      "105  is odd number.\n",
      "122  is even number.\n",
      "800  is even number.\n"
     ]
    }
   ],
   "source": [
    "# Write a program to count the number of even and odd numbers froma a series of numbers.\n",
    "\n",
    "num_list=[1,3,5,6,7,99,137,138,55,100,121,105,122,800]\n",
    "\n",
    "\n",
    "for i in num_list:\n",
    "    if i%2==0:\n",
    "        print(i,' is even number.')\n",
    "        \n",
    "    else:\n",
    "        print(i,' is odd number.')\n"
   ]
  },
  {
   "cell_type": "code",
   "execution_count": 27,
   "id": "02b9e663",
   "metadata": {},
   "outputs": [
    {
     "name": "stdout",
     "output_type": "stream",
     "text": [
      "Enter any number: 10\n",
      "The factorial of  10 is 3628800\n"
     ]
    }
   ],
   "source": [
    "# write a program to find the factorial of a given number.\n",
    "\n",
    "given_number=int(input('Enter any number: '))\n",
    "\n",
    "factorial=1\n",
    "\n",
    "for i in range(1,given_number+1):\n",
    "    factorial=factorial*i\n",
    "    \n",
    "print('The factorial of ',given_number,'is', factorial)"
   ]
  },
  {
   "cell_type": "code",
   "execution_count": 32,
   "id": "a11089a9",
   "metadata": {},
   "outputs": [
    {
     "name": "stdout",
     "output_type": "stream",
     "text": [
      "The month of  January has 31 days\n",
      "The month of February has 28/29 days.\n",
      "The month of  March has 31 days\n",
      "The month of  April  has 30 days\n",
      "The month of  May has 31 days\n",
      "The month of  June  has 30 days\n",
      "The month of  July has 31 days\n",
      "The month of  August has 31 days\n",
      "The month of  September  has 30 days\n",
      "The month of  October has 31 days\n",
      "The month of  November  has 30 days\n",
      "The month of  December has 31 days\n"
     ]
    }
   ],
   "source": [
    "# Write a program to convert the month name to number of days.\n",
    "\n",
    "month=['January','February','March','April','May','June','July','August','September','October','November','December']\n",
    "for i in month:\n",
    "    if i== 'February':\n",
    "        print('The month of February has 28/29 days.')\n",
    "    elif i in('April','June','September','November'):\n",
    "        print('The month of ',i,' has 30 days')\n",
    "    elif i in('January','March','May','July','August','October','December'):\n",
    "        print('The month of ',i, 'has 31 days')\n",
    "    else:\n",
    "        print(i, \"is not a valid Month name.\")"
   ]
  },
  {
   "cell_type": "code",
   "execution_count": null,
   "id": "4d5d0f0e",
   "metadata": {},
   "outputs": [],
   "source": []
  }
 ],
 "metadata": {
  "kernelspec": {
   "display_name": "Python 3 (ipykernel)",
   "language": "python",
   "name": "python3"
  },
  "language_info": {
   "codemirror_mode": {
    "name": "ipython",
    "version": 3
   },
   "file_extension": ".py",
   "mimetype": "text/x-python",
   "name": "python",
   "nbconvert_exporter": "python",
   "pygments_lexer": "ipython3",
   "version": "3.9.7"
  }
 },
 "nbformat": 4,
 "nbformat_minor": 5
}
