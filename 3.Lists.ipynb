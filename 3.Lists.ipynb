{
 "cells": [
  {
   "cell_type": "markdown",
   "id": "7b7c617b",
   "metadata": {},
   "source": [
    "# 3. Lists()"
   ]
  },
  {
   "cell_type": "markdown",
   "id": "9a1f3274",
   "metadata": {},
   "source": [
    "* Lists are ordered\n",
    "* Lists can contain any arbitrary objects.\n",
    "* List elements can be accessed by index.\n",
    "* Lists can be nested to arbitrary depth.\n",
    "* Lists are mutable.\n",
    "* Lists are dynamic."
   ]
  },
  {
   "cell_type": "code",
   "execution_count": 3,
   "id": "2cbf6a48",
   "metadata": {},
   "outputs": [
    {
     "name": "stdout",
     "output_type": "stream",
     "text": [
      "['Python', 25, 2022, 3.147]\n",
      "<class 'list'>\n"
     ]
    }
   ],
   "source": [
    "nlis=[\"Python\",25,2022,3.147]\n",
    "print(nlis)\n",
    "print(type(nlis))"
   ]
  },
  {
   "cell_type": "code",
   "execution_count": 11,
   "id": "b1bb4153",
   "metadata": {},
   "outputs": [
    {
     "name": "stdout",
     "output_type": "stream",
     "text": [
      "positive index: Python Negative index: Python\n",
      "positive index: 25 Negative index: 25\n",
      "positive index: 2022 Negative index: 2022\n",
      "positive index: 3.147 Negative index: 3.147\n"
     ]
    }
   ],
   "source": [
    "print(\"positive index:\",nlis[0],\"Negative index:\",nlis[-4])\n",
    "print(\"positive index:\",nlis[1],\"Negative index:\",nlis[-3])\n",
    "print(\"positive index:\",nlis[2],\"Negative index:\",nlis[-2])\n",
    "print(\"positive index:\",nlis[3],\"Negative index:\",nlis[-1])\n"
   ]
  },
  {
   "cell_type": "markdown",
   "id": "37071766",
   "metadata": {},
   "source": [
    "#  What can content a list?"
   ]
  },
  {
   "cell_type": "markdown",
   "id": "2ce6502e",
   "metadata": {},
   "source": [
    "* Strings\n",
    "* Floats\n",
    "* Integers\n",
    "* Boolean\n",
    "* Nested Lists\n",
    "* Nested Tuples\n",
    "* Other data structures."
   ]
  },
  {
   "cell_type": "code",
   "execution_count": 12,
   "id": "285864af",
   "metadata": {},
   "outputs": [
    {
     "data": {
      "text/plain": [
       "['Python',\n",
       " 3.147,\n",
       " [1, 1, 2, 3, 5, 8, 12, 23, 34],\n",
       " ('hello', 'python', 3.147, 2022)]"
      ]
     },
     "execution_count": 12,
     "metadata": {},
     "output_type": "execute_result"
    }
   ],
   "source": [
    "nlis_1=[\"Python\",3.147,[1,1,2,3,5,8,12,23,34],(\"hello\",'python',3.147,2022)]\n",
    "nlis_1"
   ]
  },
  {
   "cell_type": "markdown",
   "id": "4b64e512",
   "metadata": {},
   "source": [
    "# List Operation"
   ]
  },
  {
   "cell_type": "code",
   "execution_count": 13,
   "id": "1445c574",
   "metadata": {},
   "outputs": [
    {
     "data": {
      "text/plain": [
       "4"
      ]
     },
     "execution_count": 13,
     "metadata": {},
     "output_type": "execute_result"
    }
   ],
   "source": [
    "# Lenth of list\n",
    "len(nlis_1)"
   ]
  },
  {
   "cell_type": "code",
   "execution_count": 22,
   "id": "e52a1355",
   "metadata": {},
   "outputs": [
    {
     "name": "stdout",
     "output_type": "stream",
     "text": [
      "['Python']\n",
      "[3.147]\n",
      "[[1, 1, 2, 3, 5, 8, 12, 23, 34]]\n",
      "[('hello', 'python', 3.147, 2022)]\n"
     ]
    }
   ],
   "source": [
    "# Slicing of a list\n",
    "print(nlis_1[0:1])\n",
    "print(nlis_1[1:2])\n",
    "print(nlis_1[2:3])\n",
    "print(nlis_1[3:])"
   ]
  },
  {
   "cell_type": "markdown",
   "id": "803f23f4",
   "metadata": {},
   "source": [
    "# Extending the list"
   ]
  },
  {
   "cell_type": "markdown",
   "id": "61622969",
   "metadata": {},
   "source": [
    "* We use the extend() function to add a new elements to the list.\n",
    "* With this function, we add more than one elements to the list."
   ]
  },
  {
   "cell_type": "code",
   "execution_count": 23,
   "id": "e55ddff5",
   "metadata": {},
   "outputs": [
    {
     "data": {
      "text/plain": [
       "['Python',\n",
       " 3.147,\n",
       " [1, 1, 2, 3, 5, 8, 12, 23, 34],\n",
       " ('hello', 'python', 3.147, 2022),\n",
       " 'Hello World',\n",
       " 1.618]"
      ]
     },
     "execution_count": 23,
     "metadata": {},
     "output_type": "execute_result"
    }
   ],
   "source": [
    "# take the list\n",
    "nlis_2=[\"Python\",3.147,[1,1,2,3,5,8,12,23,34],(\"hello\",'python',3.147,2022)]\n",
    "nlis_2.extend(['Hello World',1.618])\n",
    "nlis_2"
   ]
  },
  {
   "cell_type": "code",
   "execution_count": 26,
   "id": "1042e509",
   "metadata": {},
   "outputs": [
    {
     "data": {
      "text/plain": [
       "['Python',\n",
       " 3.147,\n",
       " [1, 1, 2, 3, 5, 8, 12, 23, 34],\n",
       " ('hello', 'python', 3.147, 2022),\n",
       " 'Hello World',\n",
       " 1.618,\n",
       " 'Kartil',\n",
       " 'Ayush',\n",
       " 'Kartik',\n",
       " 'Ayush',\n",
       " 'Kartik',\n",
       " 'Ayush']"
      ]
     },
     "execution_count": 26,
     "metadata": {},
     "output_type": "execute_result"
    }
   ],
   "source": [
    "nlis_2.extend([\"Kartik\",\"Ayush\"])\n",
    "nlis_2"
   ]
  },
  {
   "cell_type": "markdown",
   "id": "52566c0e",
   "metadata": {},
   "source": [
    "# append() method"
   ]
  },
  {
   "cell_type": "markdown",
   "id": "9659bff2",
   "metadata": {},
   "source": [
    "* As different from the extend() method, with the append() method, we add only one element to the list.\n",
    "* You can see the difference by comparing the above and below codes.\n",
    "* It add the data in the new list."
   ]
  },
  {
   "cell_type": "code",
   "execution_count": 1,
   "id": "e8ad24e6",
   "metadata": {},
   "outputs": [
    {
     "data": {
      "text/plain": [
       "['Python',\n",
       " 3.147,\n",
       " [1, 1, 2, 3, 5, 8, 12, 23, 34],\n",
       " ('hello', 'python', 3.147, 2022),\n",
       " ['Hello World', 1.618]]"
      ]
     },
     "execution_count": 1,
     "metadata": {},
     "output_type": "execute_result"
    }
   ],
   "source": [
    "nlis_3=[\"Python\",3.147,[1,1,2,3,5,8,12,23,34],(\"hello\",'python',3.147,2022)]\n",
    "nlis_3.append([\"Hello World\",1.618])\n",
    "nlis_3"
   ]
  },
  {
   "cell_type": "markdown",
   "id": "f2e4cffb",
   "metadata": {},
   "source": [
    "# len(),append(),count(), index(), insert(), max(), min(), sum() functions"
   ]
  },
  {
   "cell_type": "code",
   "execution_count": 30,
   "id": "8eaa82cf",
   "metadata": {},
   "outputs": [
    {
     "name": "stdout",
     "output_type": "stream",
     "text": [
      "10\n",
      "[1, 2, 3, 4, 5, 6, 7, 10, 100, 10000, [4]]\n",
      "1\n",
      "9\n",
      "[1, 2, 3, 4, 5, 6, 7, 10, 100, 100, 10000, [4]]\n"
     ]
    }
   ],
   "source": [
    "nlis_4=[1,2,3,4,5,6,7,10,100,10000]\n",
    "print(len(nlis_4))\n",
    "nlis_4.append([4]) # append add the data after creating the list.\n",
    "print(nlis_4)\n",
    "print(nlis_4.count(4)) # How many 4 are on the list \"nlis\"\n",
    "print(nlis_4.index(10000)) # What is the index of the number 10000 in the list.\n",
    "nlis_4.insert(8,100)    # Add number 100 to the index 8\n",
    "print(nlis_4)\n"
   ]
  },
  {
   "cell_type": "code",
   "execution_count": 28,
   "id": "9e44a258",
   "metadata": {},
   "outputs": [
    {
     "name": "stdout",
     "output_type": "stream",
     "text": [
      "10000\n",
      "1\n",
      "10138\n"
     ]
    }
   ],
   "source": [
    "nlis_5=[1,2,3,4,5,6,7,10,100,10000]\n",
    "print(max(nlis_5))   # Maximum number in the list\n",
    "print(min(nlis_5))   # Minimum number in the list\n",
    "print(sum(nlis_5))   # Sum of the number in the list"
   ]
  },
  {
   "cell_type": "markdown",
   "id": "6a77d93a",
   "metadata": {},
   "source": [
    "# Changing the element of a list since it is mutable."
   ]
  },
  {
   "cell_type": "code",
   "execution_count": 34,
   "id": "83562a71",
   "metadata": {},
   "outputs": [
    {
     "name": "stdout",
     "output_type": "stream",
     "text": [
      "Before changing  ['Python', 3.147, [1, 1, 2, 3, 5, 8, 12, 23, 34], ('hello', 'python', 3.147, 2022)]\n",
      "After Changing1  ['Hello Pyhton!', 3.147, [1, 1, 2, 3, 5, 8, 12, 23, 34], ('hello', 'python', 3.147, 2022)]\n",
      "After Changing2  ['Hello Pyhton!', 1.618, [1, 1, 2, 3, 5, 8, 12, 23, 34], ('hello', 'python', 3.147, 2022)]\n",
      "After Changing3  ['Hello Pyhton!', 1.618, [3.147, 2022], ('hello', 'python', 3.147, 2022)]\n"
     ]
    }
   ],
   "source": [
    "nlis=[\"Python\",3.147,[1,1,2,3,5,8,12,23,34],(\"hello\",'python',3.147,2022)]\n",
    "print(\"Before changing \",nlis)\n",
    "nlis[0]=\"Hello Pyhton!\"\n",
    "print(\"After Changing1 \", nlis)\n",
    "nlis[1]=1.618\n",
    "print(\"After Changing2 \",nlis)\n",
    "nlis[2]=[3.147,2022]\n",
    "print(\"After Changing3 \",nlis)"
   ]
  },
  {
   "cell_type": "markdown",
   "id": "8b435000",
   "metadata": {},
   "source": [
    "# Deleting the element from the list using del() function"
   ]
  },
  {
   "cell_type": "code",
   "execution_count": 38,
   "id": "c2f202ca",
   "metadata": {},
   "outputs": [
    {
     "name": "stdout",
     "output_type": "stream",
     "text": [
      "Before Changing  ['Python', 3.147, [1, 1, 2, 3, 5, 8, 12, 23, 34], ('hello', 'python', 3.147, 2022)]\n",
      "After Changing  [3.147, [1, 1, 2, 3, 5, 8, 12, 23, 34], ('hello', 'python', 3.147, 2022)]\n",
      "After Changing  [3.147, [1, 1, 2, 3, 5, 8, 12, 23, 34]]\n"
     ]
    }
   ],
   "source": [
    "nlis_6=[\"Python\",3.147,[1,1,2,3,5,8,12,23,34],(\"hello\",'python',3.147,2022)]\n",
    "print(\"Before Changing \",nlis_6)\n",
    "del(nlis_6[0])\n",
    "\n",
    "print(\"After Changing \",nlis_6)\n",
    "del(nlis_6[-1])\n",
    "print(\"After Changing \",nlis_6)"
   ]
  },
  {
   "cell_type": "code",
   "execution_count": 39,
   "id": "754fb59a",
   "metadata": {},
   "outputs": [
    {
     "name": "stdout",
     "output_type": "stream",
     "text": [
      "Before Deleting  ['Python', 3.147, [1, 1, 2, 3, 5, 8, 12, 23, 34], ('hello', 'python', 3.147, 2022)]\n"
     ]
    },
    {
     "ename": "NameError",
     "evalue": "name 'nlis_7' is not defined",
     "output_type": "error",
     "traceback": [
      "\u001b[1;31m---------------------------------------------------------------------------\u001b[0m",
      "\u001b[1;31mNameError\u001b[0m                                 Traceback (most recent call last)",
      "\u001b[1;32mC:\\Users\\ROUSHA~1\\AppData\\Local\\Temp/ipykernel_25748/3509466785.py\u001b[0m in \u001b[0;36m<module>\u001b[1;34m\u001b[0m\n\u001b[0;32m      2\u001b[0m \u001b[0mprint\u001b[0m\u001b[1;33m(\u001b[0m\u001b[1;34m\"Before Deleting \"\u001b[0m\u001b[1;33m,\u001b[0m\u001b[0mnlis_7\u001b[0m\u001b[1;33m)\u001b[0m\u001b[1;33m\u001b[0m\u001b[1;33m\u001b[0m\u001b[0m\n\u001b[0;32m      3\u001b[0m \u001b[1;32mdel\u001b[0m\u001b[1;33m(\u001b[0m\u001b[0mnlis_7\u001b[0m\u001b[1;33m)\u001b[0m\u001b[1;33m\u001b[0m\u001b[1;33m\u001b[0m\u001b[0m\n\u001b[1;32m----> 4\u001b[1;33m \u001b[0mprint\u001b[0m\u001b[1;33m(\u001b[0m\u001b[1;34m\"After Deleting \"\u001b[0m\u001b[1;33m,\u001b[0m\u001b[0mnlis_7\u001b[0m\u001b[1;33m)\u001b[0m\u001b[1;33m\u001b[0m\u001b[1;33m\u001b[0m\u001b[0m\n\u001b[0m",
      "\u001b[1;31mNameError\u001b[0m: name 'nlis_7' is not defined"
     ]
    }
   ],
   "source": [
    "nlis_7=[\"Python\",3.147,[1,1,2,3,5,8,12,23,34],(\"hello\",'python',3.147,2022)]\n",
    "print(\"Before Deleting \",nlis_7)\n",
    "del(nlis_7)\n",
    "print(\"After Deleting \",nlis_7)"
   ]
  },
  {
   "cell_type": "markdown",
   "id": "8b7cc8e0",
   "metadata": {},
   "source": [
    "# Conversion of a string into a list using split() function"
   ]
  },
  {
   "cell_type": "code",
   "execution_count": 40,
   "id": "bba16d84",
   "metadata": {},
   "outputs": [
    {
     "data": {
      "text/plain": [
       "['Python', 'is', 'a', 'programming', 'language']"
      ]
     },
     "execution_count": 40,
     "metadata": {},
     "output_type": "execute_result"
    }
   ],
   "source": [
    "message=(\"Python is a programming language\")\n",
    "message.split()"
   ]
  },
  {
   "cell_type": "code",
   "execution_count": 41,
   "id": "495b5a2f",
   "metadata": {},
   "outputs": [
    {
     "data": {
      "text/plain": [
       "['P,y,t,h,o,n']"
      ]
     },
     "execution_count": 41,
     "metadata": {},
     "output_type": "execute_result"
    }
   ],
   "source": [
    "text='P,y,t,h,o,n'\n",
    "text.split()"
   ]
  },
  {
   "cell_type": "markdown",
   "id": "f624c652",
   "metadata": {},
   "source": [
    "# Basic Operations"
   ]
  },
  {
   "cell_type": "code",
   "execution_count": 51,
   "id": "ebe44d0b",
   "metadata": {},
   "outputs": [
    {
     "name": "stdout",
     "output_type": "stream",
     "text": [
      "5\n",
      "6\n",
      "['a', 'b', 'c', 'hello', 'python', 1, 2, 3, 4, 5, 6]\n",
      "['a', 'b', 'c', 'hello', 'python', 'a', 'b', 'c', 'hello', 'python', 'a', 'b', 'c', 'hello', 'python']\n",
      "[1, 2, 3, 4, 5, 6, 1, 2, 3, 4, 5, 6, 1, 2, 3, 4, 5, 6]\n",
      "a\n",
      "b\n",
      "c\n",
      "hello\n",
      "python\n",
      "1\n",
      "2\n",
      "3\n",
      "4\n",
      "5\n",
      "6\n",
      "False\n",
      "True\n"
     ]
    }
   ],
   "source": [
    "nlis_8=['a','b','c','hello','python']\n",
    "nlis_9=[1,2,3,4,5,6]\n",
    "print(len(nlis_8))\n",
    "print(len(nlis_9))\n",
    "print(nlis_8+nlis_9)\n",
    "print(nlis_8*3)\n",
    "print(nlis_9*3)\n",
    "\n",
    "for i in nlis_8:\n",
    "    print(i)   # Loops\n",
    "\n",
    "for i in nlis_9:\n",
    "    print(i)\n",
    "print(4 in nlis_8)  # Check out in the list\n",
    "print(4 in nlis_9) # Check out in the list"
   ]
  },
  {
   "cell_type": "markdown",
   "id": "93428fad",
   "metadata": {},
   "source": [
    "# Copy the list"
   ]
  },
  {
   "cell_type": "code",
   "execution_count": 53,
   "id": "e0490959",
   "metadata": {},
   "outputs": [
    {
     "name": "stdout",
     "output_type": "stream",
     "text": [
      "nlis_10:  ['Python', 3.147, [1, 1, 2, 3, 5, 8, 12, 23, 34], ('hello', 'python', 3.147, 2022)]\n",
      "copy_list:  ['Python', 3.147, [1, 1, 2, 3, 5, 8, 12, 23, 34], ('hello', 'python', 3.147, 2022)]\n"
     ]
    }
   ],
   "source": [
    "nlis_10=[\"Python\",3.147,[1,1,2,3,5,8,12,23,34],(\"hello\",'python',3.147,2022)]\n",
    "copy_list=nlis_10\n",
    "print(\"nlis_10: \",nlis_10)\n",
    "print(\"copy_list: \",copy_list)"
   ]
  },
  {
   "cell_type": "code",
   "execution_count": 57,
   "id": "2368deaa",
   "metadata": {},
   "outputs": [
    {
     "name": "stdout",
     "output_type": "stream",
     "text": [
      "['Python', 3.147, [1, 1, 2, 3, 5, 8, 12, 23, 34], ('hello', 'python', 3.147, 2022)]\n",
      "['Python', 3.147, [1, 1, 2, 3, 5, 8, 12, 23, 34], ('hello', 'python', 3.147, 2022)]\n",
      "copy_list1:  Python\n",
      "copy_list1: Hello Python\n"
     ]
    }
   ],
   "source": [
    "# The element in the copied list is also changes when the element in the original list was changed:\n",
    "# See the examples\n",
    "\n",
    "nlis_11=[\"Python\",3.147,[1,1,2,3,5,8,12,23,34],(\"hello\",'python',3.147,2022)]\n",
    "print(nlis_11)\n",
    "copy_list1=nlis_11\n",
    "print(copy_list1)\n",
    "print(\"copy_list1: \",copy_list1[0])\n",
    "nlis_11[0]=\"Hello Python\"\n",
    "print(\"copy_list1:\",copy_list1[0])"
   ]
  },
  {
   "cell_type": "code",
   "execution_count": null,
   "id": "6b480a16",
   "metadata": {},
   "outputs": [],
   "source": []
  }
 ],
 "metadata": {
  "kernelspec": {
   "display_name": "Python 3 (ipykernel)",
   "language": "python",
   "name": "python3"
  },
  "language_info": {
   "codemirror_mode": {
    "name": "ipython",
    "version": 3
   },
   "file_extension": ".py",
   "mimetype": "text/x-python",
   "name": "python",
   "nbconvert_exporter": "python",
   "pygments_lexer": "ipython3",
   "version": "3.9.7"
  }
 },
 "nbformat": 4,
 "nbformat_minor": 5
}
